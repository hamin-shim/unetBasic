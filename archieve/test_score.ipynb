{
 "cells": [
  {
   "cell_type": "code",
   "execution_count": 11,
   "metadata": {},
   "outputs": [
    {
     "name": "stdout",
     "output_type": "stream",
     "text": [
      "Device: cuda\n",
      "Current cuda device: 0\n",
      "Count of using GPUs: 2\n",
      "{'model_name': 'ch3_32_interval_3_240', 'depth / in_channel / n_channel': [52, 3, 32], 'img_size': 240, 'used_channel': ['-t1n.nii.gz', '-t1c.nii.gz', '-t2f.nii.gz'], 'val score(dice/jaccard)': [88, 81], 'batch/total epoch/best epoch': [1, 50, 33], 'resize_info': [0, 155, 3], 'run time(m)': 1360.0}\n"
     ]
    }
   ],
   "source": [
    "import os\n",
    "import torch\n",
    "import json\n",
    "import torch.nn as nn\n",
    "import os\n",
    "from utils import get_dataloader, load_test_dataset\n",
    "from dataset import BratsDataset\n",
    "import numpy as np\n",
    "from tqdm import tqdm\n",
    "from eval_utils import compute_dice\n",
    "from skimage.transform import resize\n",
    "\n",
    "# Arrange GPU devices starting from 0\n",
    "os.environ[\"CUDA_DEVICE_ORDER\"] = \"PCI_BUS_ID\"\n",
    "os.environ[\"CUDA_VISIBLE_DEVICES\"] = \"0,1\"  # Set the GPUs 2 and 3 to use\n",
    "\n",
    "device = torch.device(\"cuda\" if torch.cuda.is_available() else \"cpu\")\n",
    "\n",
    "print('Device:', device)\n",
    "print('Current cuda device:', torch.cuda.current_device())\n",
    "print('Count of using GPUs:', torch.cuda.device_count())\n",
    "\n",
    "with open('models/model_subscriptions.json', 'r') as f:\n",
    "    models_info = json.load(f)\n",
    "model_name = 'ch3_32_interval_3_240'\n",
    "model_info = next(\n",
    "    (model for model in models_info if model['model_name'] == model_name), None)\n",
    "print(model_info)\n",
    "\n",
    "\n",
    "device = torch.device('cuda' if torch.cuda.is_available() else 'cpu')\n",
    "_model = torch.load(os.path.join('models', model_name, f\"{model_name}.pth\"))\n",
    "_model = _model.to(device)\n",
    "model = nn.DataParallel(_model).to(device)\n",
    "model.eval()\n",
    "\n",
    "test_dataloader = get_dataloader(dataset=BratsDataset, phase=\"test\",\n",
    "                                 resize_info=model_info['resize_info'], img_width=model_info['img_size'], data_type=model_info['used_channel'], batch_size=4)\n",
    "# Check dataloader\n",
    "# test_batch = next(iter(test_dataloader))\n",
    "# batch_id, images, targets = test_batch['Id'], test_batch['image'], test_batch['mask']\n",
    "# images = images.to(device)\n",
    "# targets = targets.to(device)\n",
    "# print('batch id', batch_id)\n",
    "# print('loaded image, target shape', images.shape, targets.shape)\n"
   ]
  },
  {
   "cell_type": "code",
   "execution_count": 17,
   "metadata": {},
   "outputs": [
    {
     "name": "stderr",
     "output_type": "stream",
     "text": [
      "Test Set:   3%|▎         | 1/32 [00:10<05:21, 10.36s/it]"
     ]
    },
    {
     "name": "stdout",
     "output_type": "stream",
     "text": [
      "Dice score(0): 0.9082398872684248\n"
     ]
    },
    {
     "name": "stderr",
     "output_type": "stream",
     "text": [
      "Test Set:   6%|▋         | 2/32 [00:18<04:25,  8.86s/it]"
     ]
    },
    {
     "name": "stdout",
     "output_type": "stream",
     "text": [
      "Dice score(1): 0.8739172389505194\n"
     ]
    },
    {
     "name": "stderr",
     "output_type": "stream",
     "text": [
      "Test Set:   9%|▉         | 3/32 [00:25<04:11,  8.66s/it]"
     ]
    },
    {
     "name": "stdout",
     "output_type": "stream",
     "text": [
      "Dice score(2): 0.8748600830269028\n"
     ]
    },
    {
     "name": "stderr",
     "output_type": "stream",
     "text": [
      "\n"
     ]
    },
    {
     "name": "stdout",
     "output_type": "stream",
     "text": [
      "Total Dice score: 0.8856724030819491\n"
     ]
    }
   ],
   "source": [
    "dice_scores = []\n",
    "csv = []\n",
    "with torch.no_grad():\n",
    "    for itr, data_batch in tqdm(enumerate(test_dataloader), total=len(test_dataloader), desc=f'Test Set'):\n",
    "        if(itr==3): break\n",
    "        batch_id, images, targets = data_batch['Id'], data_batch['image'], data_batch['mask']\n",
    "        images = images.to(device)\n",
    "        logits = model(images)\n",
    "        pred = torch.sigmoid(logits).detach().cpu().numpy()\n",
    "        threshold = 0.33\n",
    "        pred = (pred >= threshold).astype(int)\n",
    "        pred = np.array([resize(_pred, (3, 155, 240, 240), preserve_range=True)\n",
    "                         for _pred in pred])\n",
    "        if (pred.shape == targets.shape):\n",
    "            dice_score = compute_dice(targets, pred)\n",
    "            print(f\"Dice score({itr}): {dice_score}\")\n",
    "            csv.append({'batch_id':batch_id, 'score':dice_score})\n",
    "            dice_scores.append(dice_score)\n",
    "        else:\n",
    "            print(pred.shape, targets.shape)\n",
    "        del images, targets, logits, pred\n",
    "        torch.cuda.empty_cache()\n",
    "dice_scores = np.array(dice_scores)\n",
    "print(\"Total Dice score:\", dice_scores.mean())"
   ]
  },
  {
   "cell_type": "code",
   "execution_count": 18,
   "metadata": {},
   "outputs": [
    {
     "data": {
      "text/plain": [
       "[{'batch_id': ['BraTS-GLI-00744-000',\n",
       "   'BraTS-GLI-01205-000',\n",
       "   'BraTS-GLI-01161-000',\n",
       "   'BraTS-GLI-00714-001'],\n",
       "  'score': 0.9082398872684248},\n",
       " {'batch_id': ['BraTS-GLI-01419-000',\n",
       "   'BraTS-GLI-00120-000',\n",
       "   'BraTS-GLI-01314-000',\n",
       "   'BraTS-GLI-00231-000'],\n",
       "  'score': 0.8739172389505194},\n",
       " {'batch_id': ['BraTS-GLI-01510-000',\n",
       "   'BraTS-GLI-00715-001',\n",
       "   'BraTS-GLI-00322-000',\n",
       "   'BraTS-GLI-01476-000'],\n",
       "  'score': 0.8748600830269028}]"
      ]
     },
     "execution_count": 18,
     "metadata": {},
     "output_type": "execute_result"
    }
   ],
   "source": [
    "csv"
   ]
  },
  {
   "cell_type": "code",
   "execution_count": 21,
   "metadata": {},
   "outputs": [],
   "source": [
    "import pandas as pd\n",
    "df = pd.DataFrame(csv)\n",
    "df.to_excel(os.path.join('models',model_name,'logs','dice_score_inference.xlsx'))"
   ]
  },
  {
   "cell_type": "code",
   "execution_count": 15,
   "metadata": {},
   "outputs": [
    {
     "data": {
      "text/html": [
       "<div>\n",
       "<style scoped>\n",
       "    .dataframe tbody tr th:only-of-type {\n",
       "        vertical-align: middle;\n",
       "    }\n",
       "\n",
       "    .dataframe tbody tr th {\n",
       "        vertical-align: top;\n",
       "    }\n",
       "\n",
       "    .dataframe thead th {\n",
       "        text-align: right;\n",
       "    }\n",
       "</style>\n",
       "<table border=\"1\" class=\"dataframe\">\n",
       "  <thead>\n",
       "    <tr style=\"text-align: right;\">\n",
       "      <th></th>\n",
       "      <th>Name</th>\n",
       "      <th>Age</th>\n",
       "      <th>Country</th>\n",
       "    </tr>\n",
       "  </thead>\n",
       "  <tbody>\n",
       "    <tr>\n",
       "      <th>0</th>\n",
       "      <td>John</td>\n",
       "      <td>30</td>\n",
       "      <td>USA</td>\n",
       "    </tr>\n",
       "    <tr>\n",
       "      <th>1</th>\n",
       "      <td>Alice</td>\n",
       "      <td>25</td>\n",
       "      <td>UK</td>\n",
       "    </tr>\n",
       "    <tr>\n",
       "      <th>2</th>\n",
       "      <td>Bob</td>\n",
       "      <td>35</td>\n",
       "      <td>Canada</td>\n",
       "    </tr>\n",
       "  </tbody>\n",
       "</table>\n",
       "</div>"
      ],
      "text/plain": [
       "    Name  Age Country\n",
       "0   John   30     USA\n",
       "1  Alice   25      UK\n",
       "2    Bob   35  Canada"
      ]
     },
     "execution_count": 15,
     "metadata": {},
     "output_type": "execute_result"
    }
   ],
   "source": [
    "import pandas as pd\n",
    "\n",
    "# Data to be written into the Excel file\n",
    "data = {\n",
    "    'batch_id': ['John', 'Alice', 'Bob'],\n",
    "    'Age': [30, 25, 35],\n",
    "    'Country': ['USA', 'UK', 'Canada']\n",
    "}\n",
    "\n",
    "# Create a DataFrame from the data\n",
    "df = pd.DataFrame(data)\n",
    "\n",
    "df"
   ]
  },
  {
   "cell_type": "code",
   "execution_count": null,
   "metadata": {},
   "outputs": [],
   "source": []
  }
 ],
 "metadata": {
  "kernelspec": {
   "display_name": "jiwoo",
   "language": "python",
   "name": "python3"
  },
  "language_info": {
   "codemirror_mode": {
    "name": "ipython",
    "version": 3
   },
   "file_extension": ".py",
   "mimetype": "text/x-python",
   "name": "python",
   "nbconvert_exporter": "python",
   "pygments_lexer": "ipython3",
   "version": "3.8.18"
  }
 },
 "nbformat": 4,
 "nbformat_minor": 2
}
