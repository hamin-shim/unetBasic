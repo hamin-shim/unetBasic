{
 "cells": [
  {
   "cell_type": "code",
   "execution_count": 1,
   "metadata": {
    "ExecuteTime": {
     "end_time": "2024-04-02T09:40:46.704178956Z",
     "start_time": "2024-04-02T09:40:44.554498487Z"
    }
   },
   "outputs": [
    {
     "data": {
      "text/plain": [
       "DataParallel(\n",
       "  (module): UNETPP(\n",
       "    (up_op): Upsample(scale_factor=(1.0, 2.0, 2.0), mode='trilinear')\n",
       "    (stem): double_conv(\n",
       "      (dconv): Sequential(\n",
       "        (0): Conv3d(3, 16, kernel_size=(3, 3, 3), stride=(1, 1, 1), padding=(1, 1, 1))\n",
       "        (1): GroupNorm(1, 16, eps=1e-05, affine=True)\n",
       "        (2): ReLU(inplace=True)\n",
       "        (3): Conv3d(16, 16, kernel_size=(3, 3, 3), stride=(1, 1, 1), padding=(1, 1, 1))\n",
       "        (4): GroupNorm(1, 16, eps=1e-05, affine=True)\n",
       "        (5): ReLU(inplace=True)\n",
       "      )\n",
       "    )\n",
       "    (encoder): ModuleList(\n",
       "      (0): down_op(\n",
       "        (down): Sequential(\n",
       "          (0): MaxPool3d(kernel_size=3, stride=(1, 2, 2), padding=1, dilation=1, ceil_mode=False)\n",
       "          (1): double_conv(\n",
       "            (dconv): Sequential(\n",
       "              (0): Conv3d(16, 32, kernel_size=(3, 3, 3), stride=(1, 1, 1), padding=(1, 1, 1))\n",
       "              (1): GroupNorm(1, 32, eps=1e-05, affine=True)\n",
       "              (2): ReLU(inplace=True)\n",
       "              (3): Conv3d(32, 32, kernel_size=(3, 3, 3), stride=(1, 1, 1), padding=(1, 1, 1))\n",
       "              (4): GroupNorm(1, 32, eps=1e-05, affine=True)\n",
       "              (5): ReLU(inplace=True)\n",
       "            )\n",
       "          )\n",
       "        )\n",
       "      )\n",
       "      (1): down_op(\n",
       "        (down): Sequential(\n",
       "          (0): MaxPool3d(kernel_size=3, stride=(1, 2, 2), padding=1, dilation=1, ceil_mode=False)\n",
       "          (1): double_conv(\n",
       "            (dconv): Sequential(\n",
       "              (0): Conv3d(32, 64, kernel_size=(3, 3, 3), stride=(1, 1, 1), padding=(1, 1, 1))\n",
       "              (1): GroupNorm(1, 64, eps=1e-05, affine=True)\n",
       "              (2): ReLU(inplace=True)\n",
       "              (3): Conv3d(64, 64, kernel_size=(3, 3, 3), stride=(1, 1, 1), padding=(1, 1, 1))\n",
       "              (4): GroupNorm(1, 64, eps=1e-05, affine=True)\n",
       "              (5): ReLU(inplace=True)\n",
       "            )\n",
       "          )\n",
       "        )\n",
       "      )\n",
       "      (2): down_op(\n",
       "        (down): Sequential(\n",
       "          (0): MaxPool3d(kernel_size=3, stride=(1, 2, 2), padding=1, dilation=1, ceil_mode=False)\n",
       "          (1): double_conv(\n",
       "            (dconv): Sequential(\n",
       "              (0): Conv3d(64, 128, kernel_size=(3, 3, 3), stride=(1, 1, 1), padding=(1, 1, 1))\n",
       "              (1): GroupNorm(1, 128, eps=1e-05, affine=True)\n",
       "              (2): ReLU(inplace=True)\n",
       "              (3): Conv3d(128, 128, kernel_size=(3, 3, 3), stride=(1, 1, 1), padding=(1, 1, 1))\n",
       "              (4): GroupNorm(1, 128, eps=1e-05, affine=True)\n",
       "              (5): ReLU(inplace=True)\n",
       "            )\n",
       "          )\n",
       "        )\n",
       "      )\n",
       "      (3): down_op(\n",
       "        (down): Sequential(\n",
       "          (0): MaxPool3d(kernel_size=3, stride=(1, 2, 2), padding=1, dilation=1, ceil_mode=False)\n",
       "          (1): double_conv(\n",
       "            (dconv): Sequential(\n",
       "              (0): Conv3d(128, 256, kernel_size=(3, 3, 3), stride=(1, 1, 1), padding=(1, 1, 1))\n",
       "              (1): GroupNorm(1, 256, eps=1e-05, affine=True)\n",
       "              (2): ReLU(inplace=True)\n",
       "              (3): Conv3d(256, 256, kernel_size=(3, 3, 3), stride=(1, 1, 1), padding=(1, 1, 1))\n",
       "              (4): GroupNorm(1, 256, eps=1e-05, affine=True)\n",
       "              (5): ReLU(inplace=True)\n",
       "            )\n",
       "          )\n",
       "        )\n",
       "      )\n",
       "    )\n",
       "    (nest_conv0): ModuleList(\n",
       "      (0): double_conv(\n",
       "        (dconv): Sequential(\n",
       "          (0): Conv3d(48, 16, kernel_size=(3, 3, 3), stride=(1, 1, 1), padding=(1, 1, 1))\n",
       "          (1): GroupNorm(1, 16, eps=1e-05, affine=True)\n",
       "          (2): ReLU(inplace=True)\n",
       "          (3): Conv3d(16, 16, kernel_size=(3, 3, 3), stride=(1, 1, 1), padding=(1, 1, 1))\n",
       "          (4): GroupNorm(1, 16, eps=1e-05, affine=True)\n",
       "          (5): ReLU(inplace=True)\n",
       "        )\n",
       "      )\n",
       "      (1): double_conv(\n",
       "        (dconv): Sequential(\n",
       "          (0): Conv3d(64, 16, kernel_size=(3, 3, 3), stride=(1, 1, 1), padding=(1, 1, 1))\n",
       "          (1): GroupNorm(1, 16, eps=1e-05, affine=True)\n",
       "          (2): ReLU(inplace=True)\n",
       "          (3): Conv3d(16, 16, kernel_size=(3, 3, 3), stride=(1, 1, 1), padding=(1, 1, 1))\n",
       "          (4): GroupNorm(1, 16, eps=1e-05, affine=True)\n",
       "          (5): ReLU(inplace=True)\n",
       "        )\n",
       "      )\n",
       "      (2): double_conv(\n",
       "        (dconv): Sequential(\n",
       "          (0): Conv3d(80, 16, kernel_size=(3, 3, 3), stride=(1, 1, 1), padding=(1, 1, 1))\n",
       "          (1): GroupNorm(1, 16, eps=1e-05, affine=True)\n",
       "          (2): ReLU(inplace=True)\n",
       "          (3): Conv3d(16, 16, kernel_size=(3, 3, 3), stride=(1, 1, 1), padding=(1, 1, 1))\n",
       "          (4): GroupNorm(1, 16, eps=1e-05, affine=True)\n",
       "          (5): ReLU(inplace=True)\n",
       "        )\n",
       "      )\n",
       "      (3): double_conv(\n",
       "        (dconv): Sequential(\n",
       "          (0): Conv3d(96, 16, kernel_size=(3, 3, 3), stride=(1, 1, 1), padding=(1, 1, 1))\n",
       "          (1): GroupNorm(1, 16, eps=1e-05, affine=True)\n",
       "          (2): ReLU(inplace=True)\n",
       "          (3): Conv3d(16, 16, kernel_size=(3, 3, 3), stride=(1, 1, 1), padding=(1, 1, 1))\n",
       "          (4): GroupNorm(1, 16, eps=1e-05, affine=True)\n",
       "          (5): ReLU(inplace=True)\n",
       "        )\n",
       "      )\n",
       "    )\n",
       "    (nest_conv1): ModuleList(\n",
       "      (0): double_conv(\n",
       "        (dconv): Sequential(\n",
       "          (0): Conv3d(96, 32, kernel_size=(3, 3, 3), stride=(1, 1, 1), padding=(1, 1, 1))\n",
       "          (1): GroupNorm(1, 32, eps=1e-05, affine=True)\n",
       "          (2): ReLU(inplace=True)\n",
       "          (3): Conv3d(32, 32, kernel_size=(3, 3, 3), stride=(1, 1, 1), padding=(1, 1, 1))\n",
       "          (4): GroupNorm(1, 32, eps=1e-05, affine=True)\n",
       "          (5): ReLU(inplace=True)\n",
       "        )\n",
       "      )\n",
       "      (1): double_conv(\n",
       "        (dconv): Sequential(\n",
       "          (0): Conv3d(128, 32, kernel_size=(3, 3, 3), stride=(1, 1, 1), padding=(1, 1, 1))\n",
       "          (1): GroupNorm(1, 32, eps=1e-05, affine=True)\n",
       "          (2): ReLU(inplace=True)\n",
       "          (3): Conv3d(32, 32, kernel_size=(3, 3, 3), stride=(1, 1, 1), padding=(1, 1, 1))\n",
       "          (4): GroupNorm(1, 32, eps=1e-05, affine=True)\n",
       "          (5): ReLU(inplace=True)\n",
       "        )\n",
       "      )\n",
       "      (2): double_conv(\n",
       "        (dconv): Sequential(\n",
       "          (0): Conv3d(160, 32, kernel_size=(3, 3, 3), stride=(1, 1, 1), padding=(1, 1, 1))\n",
       "          (1): GroupNorm(1, 32, eps=1e-05, affine=True)\n",
       "          (2): ReLU(inplace=True)\n",
       "          (3): Conv3d(32, 32, kernel_size=(3, 3, 3), stride=(1, 1, 1), padding=(1, 1, 1))\n",
       "          (4): GroupNorm(1, 32, eps=1e-05, affine=True)\n",
       "          (5): ReLU(inplace=True)\n",
       "        )\n",
       "      )\n",
       "    )\n",
       "    (nest_conv2): ModuleList(\n",
       "      (0): double_conv(\n",
       "        (dconv): Sequential(\n",
       "          (0): Conv3d(192, 64, kernel_size=(3, 3, 3), stride=(1, 1, 1), padding=(1, 1, 1))\n",
       "          (1): GroupNorm(1, 64, eps=1e-05, affine=True)\n",
       "          (2): ReLU(inplace=True)\n",
       "          (3): Conv3d(64, 64, kernel_size=(3, 3, 3), stride=(1, 1, 1), padding=(1, 1, 1))\n",
       "          (4): GroupNorm(1, 64, eps=1e-05, affine=True)\n",
       "          (5): ReLU(inplace=True)\n",
       "        )\n",
       "      )\n",
       "      (1): double_conv(\n",
       "        (dconv): Sequential(\n",
       "          (0): Conv3d(256, 64, kernel_size=(3, 3, 3), stride=(1, 1, 1), padding=(1, 1, 1))\n",
       "          (1): GroupNorm(1, 64, eps=1e-05, affine=True)\n",
       "          (2): ReLU(inplace=True)\n",
       "          (3): Conv3d(64, 64, kernel_size=(3, 3, 3), stride=(1, 1, 1), padding=(1, 1, 1))\n",
       "          (4): GroupNorm(1, 64, eps=1e-05, affine=True)\n",
       "          (5): ReLU(inplace=True)\n",
       "        )\n",
       "      )\n",
       "    )\n",
       "    (nest_conv3): ModuleList(\n",
       "      (0): double_conv(\n",
       "        (dconv): Sequential(\n",
       "          (0): Conv3d(384, 128, kernel_size=(3, 3, 3), stride=(1, 1, 1), padding=(1, 1, 1))\n",
       "          (1): GroupNorm(1, 128, eps=1e-05, affine=True)\n",
       "          (2): ReLU(inplace=True)\n",
       "          (3): Conv3d(128, 128, kernel_size=(3, 3, 3), stride=(1, 1, 1), padding=(1, 1, 1))\n",
       "          (4): GroupNorm(1, 128, eps=1e-05, affine=True)\n",
       "          (5): ReLU(inplace=True)\n",
       "        )\n",
       "      )\n",
       "    )\n",
       "    (last): Conv3d(16, 3, kernel_size=(1, 1, 1), stride=(1, 1, 1))\n",
       "  )\n",
       ")"
      ]
     },
     "execution_count": 1,
     "metadata": {},
     "output_type": "execute_result"
    }
   ],
   "source": [
    "import torch\n",
    "import torch.nn as nn\n",
    "import os\n",
    "# Arrange GPU devices starting from 0\n",
    "os.environ[\"CUDA_DEVICE_ORDER\"] = \"PCI_BUS_ID\"\n",
    "os.environ[\"CUDA_VISIBLE_DEVICES\"] = \"1, 0\"  # Set the GPUs 2 and 3 to use\n",
    "device = torch.device(\"cuda\" if torch.cuda.is_available() else \"cpu\")\n",
    "\n",
    "model_name = 'ppl_sm_d52_w128_b4_e50'\n",
    "model = torch.load(os.path.join('models', model_name,f\"{model_name}.pth\"))\n",
    "# model = _model.to(device)\n",
    "# model = nn.DataParallel(model).to(device)\n",
    "model.eval()"
   ]
  },
  {
   "cell_type": "code",
   "execution_count": 2,
   "metadata": {
    "ExecuteTime": {
     "end_time": "2024-04-02T09:37:39.354556606Z",
     "start_time": "2024-04-02T09:37:39.184575677Z"
    },
    "collapsed": false
   },
   "outputs": [],
   "source": [
    "from utils import get_dataloader\n",
    "from dataset import BratsDataset\n",
    "\n",
    "test_dataloader = get_dataloader(dataset=BratsDataset, phase=\"test\", img_depth=155, img_width=240, data_type=[\n",
    "      \"-t1n.nii.gz\",\n",
    "      \"-t1c.nii.gz\",\n",
    "      # \"-t2w.nii.gz\",\n",
    "      \"-t2f.nii.gz\"\n",
    "    ], batch_size=1)\n"
   ]
  },
  {
   "cell_type": "code",
   "execution_count": 3,
   "metadata": {
    "ExecuteTime": {
     "start_time": "2024-04-02T09:37:04.594819903Z"
    }
   },
   "outputs": [],
   "source": [
    "from utils import dice_coef_metric_per_classes, jaccard_coef_metric_per_classes\n",
    "from skimage.transform import resize as sk_resize\n",
    "import numpy as np\n",
    "from tqdm import tqdm\n",
    "def compute_scores_per_classes(model,          # nodel which is UNeT3D \n",
    "                               dataloader,     # tuple consisting of ( id , image tensor , mask tensor )\n",
    "                               classes):       # classes : WT , TC , ET \n",
    "    \"\"\"\n",
    "    Compute Dice and Jaccard coefficients for each class.\n",
    "    Params:\n",
    "        model: neural net for make predictions.\n",
    "        dataloader: dataset object to load data from.\n",
    "        classes: list with classes.\n",
    "        Returns: dictionaries with dice and jaccard coefficients for each class for each slice.\n",
    "    \"\"\"\n",
    "    device = 'cuda' if torch.cuda.is_available() else 'cpu'\n",
    "    dice_scores_per_classes = {key: list() for key in classes}\n",
    "    iou_scores_per_classes = {key: list() for key in classes}\n",
    "\n",
    "    with torch.no_grad():\n",
    "        for i, data in tqdm(enumerate(dataloader), total=len(dataloader)):\n",
    "            imgs, targets = data['image'], data['mask']\n",
    "            imgs, targets = imgs.to(device), targets.to(device)\n",
    "            logits = model(imgs)\n",
    "            pred = torch.sigmoid(logits).detach().cpu().numpy()\n",
    "            threshold = 0.33\n",
    "            pred = (pred >= threshold).astype(int)\n",
    "            # pred = np.array([sk_resize(_pred, (3, 155, 240, 240), preserve_range=True)\n",
    "            #                 for _pred in pred])\n",
    "            targets = targets.detach().cpu().numpy()\n",
    "            \n",
    "            # Now finding the overlap between the raw prediction i.e. logit & the mask i.e. target & finding the dice & iou scores \n",
    "            dice_scores = dice_coef_metric_per_classes(pred, targets)\n",
    "            iou_scores = jaccard_coef_metric_per_classes(pred, targets)\n",
    "\n",
    "            # storing both dice & iou scores in the list declared \n",
    "            for key in dice_scores.keys():\n",
    "                dice_scores_per_classes[key].extend(dice_scores[key])\n",
    "\n",
    "            for key in iou_scores.keys():\n",
    "                iou_scores_per_classes[key].extend(iou_scores[key])\n",
    "\n",
    "    return dice_scores_per_classes, iou_scores_per_classes "
   ]
  },
  {
   "cell_type": "code",
   "execution_count": 4,
   "metadata": {
    "ExecuteTime": {
     "start_time": "2024-04-02T09:37:04.616776678Z"
    }
   },
   "outputs": [
    {
     "name": "stderr",
     "output_type": "stream",
     "text": [
      "100%|██████████| 125/125 [02:13<00:00,  1.07s/it]\n"
     ]
    }
   ],
   "source": [
    "dice_scores_per_classes, iou_scores_per_classes = compute_scores_per_classes(\n",
    "    model, test_dataloader, ['WT', 'TC', 'ET']\n",
    "    )"
   ]
  },
  {
   "cell_type": "code",
   "execution_count": 5,
   "metadata": {
    "ExecuteTime": {
     "start_time": "2024-04-02T09:37:04.616955442Z"
    }
   },
   "outputs": [
    {
     "data": {
      "text/html": [
       "<div>\n",
       "<style scoped>\n",
       "    .dataframe tbody tr th:only-of-type {\n",
       "        vertical-align: middle;\n",
       "    }\n",
       "\n",
       "    .dataframe tbody tr th {\n",
       "        vertical-align: top;\n",
       "    }\n",
       "\n",
       "    .dataframe thead th {\n",
       "        text-align: right;\n",
       "    }\n",
       "</style>\n",
       "<table border=\"1\" class=\"dataframe\">\n",
       "  <thead>\n",
       "    <tr style=\"text-align: right;\">\n",
       "      <th></th>\n",
       "      <th>WT dice</th>\n",
       "      <th>WT jaccard</th>\n",
       "      <th>TC dice</th>\n",
       "      <th>TC jaccard</th>\n",
       "      <th>ET dice</th>\n",
       "      <th>ET jaccard</th>\n",
       "    </tr>\n",
       "  </thead>\n",
       "  <tbody>\n",
       "    <tr>\n",
       "      <th>103</th>\n",
       "      <td>0.685901</td>\n",
       "      <td>0.521956</td>\n",
       "      <td>0.604096</td>\n",
       "      <td>0.432763</td>\n",
       "      <td>0.534959</td>\n",
       "      <td>0.365149</td>\n",
       "    </tr>\n",
       "    <tr>\n",
       "      <th>115</th>\n",
       "      <td>0.885109</td>\n",
       "      <td>0.793898</td>\n",
       "      <td>0.390871</td>\n",
       "      <td>0.242908</td>\n",
       "      <td>0.270892</td>\n",
       "      <td>0.156665</td>\n",
       "    </tr>\n",
       "    <tr>\n",
       "      <th>122</th>\n",
       "      <td>0.959732</td>\n",
       "      <td>0.922581</td>\n",
       "      <td>0.354271</td>\n",
       "      <td>0.215267</td>\n",
       "      <td>0.232854</td>\n",
       "      <td>0.131768</td>\n",
       "    </tr>\n",
       "    <tr>\n",
       "      <th>57</th>\n",
       "      <td>0.926076</td>\n",
       "      <td>0.862329</td>\n",
       "      <td>0.580208</td>\n",
       "      <td>0.408657</td>\n",
       "      <td>0.321953</td>\n",
       "      <td>0.191862</td>\n",
       "    </tr>\n",
       "    <tr>\n",
       "      <th>56</th>\n",
       "      <td>0.830117</td>\n",
       "      <td>0.709572</td>\n",
       "      <td>0.334690</td>\n",
       "      <td>0.200978</td>\n",
       "      <td>0.248074</td>\n",
       "      <td>0.141601</td>\n",
       "    </tr>\n",
       "  </tbody>\n",
       "</table>\n",
       "</div>"
      ],
      "text/plain": [
       "      WT dice  WT jaccard   TC dice  TC jaccard   ET dice  ET jaccard\n",
       "103  0.685901    0.521956  0.604096    0.432763  0.534959    0.365149\n",
       "115  0.885109    0.793898  0.390871    0.242908  0.270892    0.156665\n",
       "122  0.959732    0.922581  0.354271    0.215267  0.232854    0.131768\n",
       "57   0.926076    0.862329  0.580208    0.408657  0.321953    0.191862\n",
       "56   0.830117    0.709572  0.334690    0.200978  0.248074    0.141601"
      ]
     },
     "execution_count": 5,
     "metadata": {},
     "output_type": "execute_result"
    }
   ],
   "source": [
    "import pandas as pd\n",
    "dice_df = pd.DataFrame(dice_scores_per_classes)\n",
    "dice_df.columns = ['WT dice', 'TC dice', 'ET dice']\n",
    "\n",
    "iou_df = pd.DataFrame(iou_scores_per_classes)\n",
    "iou_df.columns = ['WT jaccard', 'TC jaccard', 'ET jaccard']\n",
    "# CONCAT BOTH THE COLUMNS ALONG AXIS 1 & SORT THE TWO \n",
    "val_metics_df = pd.concat([dice_df, iou_df], axis=1, sort=True)\n",
    "val_metics_df = val_metics_df.loc[:, ['WT dice', 'WT jaccard', \n",
    "                                      'TC dice', 'TC jaccard', \n",
    "                                      'ET dice', 'ET jaccard']]\n",
    "val_metics_df.sample(5)"
   ]
  },
  {
   "cell_type": "code",
   "execution_count": 6,
   "metadata": {
    "ExecuteTime": {
     "start_time": "2024-04-02T09:37:04.617042285Z"
    }
   },
   "outputs": [
    {
     "data": {
      "text/plain": [
       "[0.10141537514915178,\n",
       " 0.13337035754790919,\n",
       " 0.22450094659674388,\n",
       " 0.19615547655677795,\n",
       " 0.19008940853739284,\n",
       " 0.14144849321342406]"
      ]
     },
     "execution_count": 6,
     "metadata": {},
     "output_type": "execute_result"
    }
   ],
   "source": [
    "[i for i in val_metics_df.std()]"
   ]
  },
  {
   "cell_type": "code",
   "execution_count": 7,
   "metadata": {
    "ExecuteTime": {
     "start_time": "2024-04-02T09:37:04.617115862Z"
    }
   },
   "outputs": [
    {
     "data": {
      "text/plain": [
       "WT dice       0.870251\n",
       "WT jaccard    0.781998\n",
       "TC dice       0.475165\n",
       "TC jaccard    0.339961\n",
       "ET dice       0.322392\n",
       "ET jaccard    0.207937\n",
       "dtype: float64"
      ]
     },
     "execution_count": 7,
     "metadata": {},
     "output_type": "execute_result"
    }
   ],
   "source": [
    "val_metics_df.mean()"
   ]
  },
  {
   "cell_type": "code",
   "execution_count": 8,
   "metadata": {},
   "outputs": [],
   "source": [
    "val_metics_df.to_excel(f'inference_res/(re)method_2_{model_name}.xlsx')"
   ]
  },
  {
   "cell_type": "code",
   "execution_count": 9,
   "metadata": {
    "ExecuteTime": {
     "start_time": "2024-04-02T09:37:04.617189181Z"
    }
   },
   "outputs": [
    {
     "name": "stderr",
     "output_type": "stream",
     "text": [
      "/tmp/ipykernel_1813100/2895340528.py:8: FutureWarning: \n",
      "\n",
      "Passing `palette` without assigning `hue` is deprecated and will be removed in v0.14.0. Assign the `x` variable to `hue` and set `legend=False` for the same effect.\n",
      "\n",
      "  sns.barplot(x=val_metics_df.mean().index, y=val_metics_df.mean(), palette=palette, ax=ax)\n",
      "/tmp/ipykernel_1813100/2895340528.py:9: UserWarning: FixedFormatter should only be used together with FixedLocator\n",
      "  ax.set_xticklabels(val_metics_df.columns, fontsize=14, rotation=15)\n"
     ]
    },
    {
     "data": {
      "image/png": "[encoded data removed]",
      "text/plain": [
       "<Figure size 1200x600 with 1 Axes>"
      ]
     },
     "metadata": {},
     "output_type": "display_data"
    }
   ],
   "source": [
    "import seaborn as sns\n",
    "import matplotlib.pyplot as plt\n",
    "\n",
    "colors = ['#264653', '#2a9d8f', '#8ab17d', '#e9c46a', '#f4a261', '#e76f51']\n",
    "palette = sns.color_palette(colors, 6)\n",
    "\n",
    "fig, ax = plt.subplots(figsize=(12, 6))\n",
    "sns.barplot(x=val_metics_df.mean().index, y=val_metics_df.mean(), palette=palette, ax=ax)\n",
    "ax.set_xticklabels(val_metics_df.columns, fontsize=14, rotation=15)\n",
    "ax.set_title(f\"{model_name}\", fontsize=20)\n",
    "\n",
    "for idx, p in enumerate(ax.patches):\n",
    "        percentage = '{:.1f}%'.format(100 * val_metics_df.mean().values[idx])\n",
    "        x = p.get_x() + p.get_width() / 2 - 0.15\n",
    "        y = p.get_y() + p.get_height()\n",
    "        ax.annotate(percentage, (x, y), fontsize=15, fontweight=\"bold\")\n",
    "\n",
    "fig.savefig(f\"inference_res/(re){model_name}.png\", format=\"png\",  pad_inches=0.2, transparent=False, bbox_inches='tight')\n",
    "# fig.savefig(\"result1.svg\", format=\"svg\",  pad_inches=0.2, transparent=False, bbox_inches='tight')"
   ]
  },
  {
   "cell_type": "code",
   "execution_count": null,
   "metadata": {
    "ExecuteTime": {
     "start_time": "2024-04-02T09:37:04.617260310Z"
    }
   },
   "outputs": [],
   "source": []
  }
 ],
 "metadata": {
  "kernelspec": {
   "display_name": "hamin",
   "language": "python",
   "name": "python3"
  },
  "language_info": {
   "codemirror_mode": {
    "name": "ipython",
    "version": 3
   },
   "file_extension": ".py",
   "mimetype": "text/x-python",
   "name": "python",
   "nbconvert_exporter": "python",
   "pygments_lexer": "ipython3",
   "version": "3.8.18"
  }
 },
 "nbformat": 4,
 "nbformat_minor": 2
}
