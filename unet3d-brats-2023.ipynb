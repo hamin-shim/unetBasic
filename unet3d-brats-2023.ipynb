{
 "cells": [
  {
   "cell_type": "markdown",
   "metadata": {},
   "source": [
    "# Importing libraries"
   ]
  },
  {
   "cell_type": "code",
   "execution_count": 1,
   "metadata": {
    "execution": {
     "iopub.execute_input": "2023-06-02T10:56:47.951147Z",
     "iopub.status.busy": "2023-06-02T10:56:47.950462Z",
     "iopub.status.idle": "2023-06-02T10:56:55.220823Z",
     "shell.execute_reply": "2023-06-02T10:56:55.219875Z",
     "shell.execute_reply.started": "2023-06-02T10:56:47.951108Z"
    },
    "trusted": true,
    "ExecuteTime": {
     "end_time": "2024-03-25T06:23:59.649987300Z",
     "start_time": "2024-03-25T06:23:55.962914787Z"
    }
   },
   "outputs": [],
   "source": [
    "from tqdm import tqdm\n",
    "import os\n",
    "import time\n",
    "from random import randint\n",
    " \n",
    "import gc \n",
    "import numpy as np\n",
    "from scipy import stats\n",
    "import pandas as pd\n",
    "\n",
    "from sklearn.model_selection import train_test_split\n",
    "from sklearn.model_selection import StratifiedKFold\n",
    "from sklearn.preprocessing import StandardScaler\n",
    "from sklearn.svm import SVR\n",
    "from sklearn.model_selection import KFold\n",
    "\n",
    "import nibabel as nib\n",
    "import pydicom as pdm\n",
    "import nilearn as nl\n",
    "import nilearn.plotting as nlplt\n",
    "import h5py\n",
    "\n",
    "import matplotlib.pyplot as plt\n",
    "from matplotlib import cm\n",
    "import matplotlib.animation as anim\n",
    "import matplotlib.patches as mpatches\n",
    "import matplotlib.gridspec as gridspec\n",
    "\n",
    "import seaborn as sns\n",
    "import imageio\n",
    "from skimage.transform import resize\n",
    "from skimage.util import montage\n",
    "\n",
    "from IPython.display import Image as show_gif\n",
    "from IPython.display import clear_output\n",
    "from IPython.display import YouTubeVideo\n",
    "\n",
    "import torch\n",
    "import torch.nn as nn\n",
    "from torch.utils.data import Dataset, DataLoader\n",
    "import torch.nn.functional as F\n",
    "\n",
    "from torch.optim import Adam\n",
    "from torch.optim.lr_scheduler import ReduceLROnPlateau\n",
    "from torch.nn import MSELoss\n",
    "\n",
    "# !pip install albumentations==0.4.6\n",
    "import albumentations as A\n",
    "# from albumentations.pytorch import ToTensor, ToTensorV2\n",
    "\n",
    "\n",
    "from albumentations import Compose, HorizontalFlip\n",
    "# from albumentations.pytorch import ToTensor, ToTensorV2 \n",
    "\n",
    "import warnings\n",
    "warnings.simplefilter(\"ignore\")"
   ]
  },
  {
   "cell_type": "code",
   "execution_count": 2,
   "metadata": {
    "ExecuteTime": {
     "end_time": "2024-03-25T06:23:59.650168947Z",
     "start_time": "2024-03-25T06:23:56.772286714Z"
    }
   },
   "outputs": [
    {
     "data": {
      "text/plain": "(1001, 125, 125)"
     },
     "execution_count": 2,
     "metadata": {},
     "output_type": "execute_result"
    }
   ],
   "source": [
    "data_path = \"brats_data\"\n",
    "train_ids = os.listdir(os.path.join(data_path,'train'))\n",
    "val_ids = os.listdir(os.path.join(data_path,'val'))\n",
    "test_ids = os.listdir(os.path.join(data_path,'test'))\n",
    "len(train_ids), len(val_ids), len(test_ids)"
   ]
  },
  {
   "cell_type": "code",
   "execution_count": 3,
   "metadata": {
    "ExecuteTime": {
     "end_time": "2024-03-25T06:23:59.650218513Z",
     "start_time": "2024-03-25T06:23:56.772351042Z"
    }
   },
   "outputs": [],
   "source": [
    "# id_ = train_ids[0]\n",
    "# path = os.path.join(data_path, 'train', id_, id_+'-t1c.nii.gz')\n",
    "# data = nib.load(path)\n",
    "# data = np.asarray(data.dataobj)\n",
    "# data = data.transpose(2,0,1)\n",
    "# resized_data = resize(data, (50,240,240), preserve_range=True)"
   ]
  },
  {
   "cell_type": "code",
   "execution_count": 4,
   "outputs": [],
   "source": [
    "# plt.subplot(1,2,1)\n",
    "# plt.imshow(data[78,:,:], cmap='gray')\n",
    "# plt.subplot(1,2,2)\n",
    "# plt.imshow(resized_data[25,:,:], cmap='gray')"
   ],
   "metadata": {
    "collapsed": false,
    "ExecuteTime": {
     "end_time": "2024-03-25T06:23:59.650257782Z",
     "start_time": "2024-03-25T06:23:56.772372615Z"
    }
   }
  },
  {
   "cell_type": "markdown",
   "metadata": {},
   "source": [
    "# Dataset dataLoader"
   ]
  },
  {
   "cell_type": "code",
   "execution_count": 5,
   "metadata": {
    "execution": {
     "iopub.execute_input": "2023-06-02T10:56:58.398953Z",
     "iopub.status.busy": "2023-06-02T10:56:58.398209Z",
     "iopub.status.idle": "2023-06-02T10:56:58.417846Z",
     "shell.execute_reply": "2023-06-02T10:56:58.416995Z",
     "shell.execute_reply.started": "2023-06-02T10:56:58.398920Z"
    },
    "trusted": true,
    "ExecuteTime": {
     "end_time": "2024-03-25T06:23:59.650295920Z",
     "start_time": "2024-03-25T06:23:56.772389892Z"
    }
   },
   "outputs": [],
   "source": [
    "class BratsDataset(Dataset):\n",
    "    def __init__(self, phase: str=\"train\",ids: list=[], is_resize: bool=True):\n",
    "        self.phase = phase\n",
    "        self.ids = ids\n",
    "        self.augmentations = get_augmentations(phase)\n",
    "        self.data_types = ['-t1c.nii.gz', '-t1n.nii.gz','-t2f.nii.gz']\n",
    "        self.is_resize = is_resize\n",
    "        \n",
    "    def __len__(self):\n",
    "        return len(self.ids) \n",
    "    \n",
    "    def __getitem__(self, idx):\n",
    "        # at a specified index ( idx ) select the value under 'Brats20ID' & asssign it to id_ \n",
    "        id_ = self.ids[idx]\n",
    "        \n",
    "        # load all modalities\n",
    "        images = []\n",
    "        \n",
    "        for data_type in self.data_types:\n",
    "            # here data_type is appended to the root path, as it only contains the name without the datatype such as .nii etc\n",
    "            img_path = os.path.join(data_path, self.phase, id_, id_+data_type)\n",
    "            img = self.load_img(img_path) # img.shape = (240,240,155)\n",
    "            \n",
    "            if self.is_resize:\n",
    "                img = img.transpose(2, 0, 1) # img.shape = (155,240,240)\n",
    "                img = self.resize(img) # img.shape = (78,120,120)\n",
    "    \n",
    "            img = self.normalize(img)\n",
    "            images.append(img)\n",
    "            \n",
    "        # stacking all the t1 , t1ce , t2 flair files of a single ID in a stack \n",
    "        img = np.stack(images)\n",
    "        \n",
    "        if self.phase != \"test\":\n",
    "            mask_path =  os.path.join(data_path, self.phase, id_, id_+'-seg.nii.gz')\n",
    "            mask = self.load_img(mask_path)\n",
    "            \n",
    "            if self.is_resize:\n",
    "                mask = mask.transpose(2, 0, 1) # mask.shape = (155,240,240)\n",
    "                mask = self.resize(mask)\n",
    "            mask = mask.astype(np.uint8)\n",
    "            mask = self.preprocess_mask_labels(mask)\n",
    "            augmented = self.augmentations(image=img.astype(np.float32), \n",
    "                                           mask=mask.astype(np.float32))\n",
    "            # Several augmentations / transformations like flipping, rotating, padding will be applied to both the images \n",
    "            img = augmented['image']\n",
    "            mask = augmented['mask']\n",
    "    \n",
    "        \n",
    "            return {\n",
    "                \"Id\": id_,\n",
    "                \"image\": img,\n",
    "                \"mask\": mask,\n",
    "            }\n",
    "        \n",
    "        return {\n",
    "            \"Id\": id_,\n",
    "            \"image\": img,\n",
    "        }\n",
    "    \n",
    "    def load_img(self, file_path):\n",
    "        data = nib.load(file_path)\n",
    "        data = np.asarray(data.dataobj)\n",
    "        return data\n",
    "    \n",
    "    def normalize(self, data: np.ndarray):\n",
    "        data_min = np.min(data)\n",
    "        # normalization = (each element - min element) / ( max - min ) \n",
    "        return (data - data_min) / (np.max(data) - data_min)\n",
    "    \n",
    "    def resize(self, data: np.ndarray):\n",
    "        data = resize(data, (50, 120, 120), preserve_range=True)\n",
    "        return data\n",
    "    def preprocess_mask_labels(self, mask: np.ndarray):\n",
    "\n",
    "        # whole tumour\n",
    "        mask_WT = mask.copy()\n",
    "        mask_WT[mask_WT == 1] = 1\n",
    "        mask_WT[mask_WT == 2] = 1\n",
    "        mask_WT[mask_WT == 3] = 1\n",
    "        # include all tumours \n",
    "\n",
    "        # NCR / NET - LABEL 1\n",
    "        mask_TC = mask.copy()\n",
    "        mask_TC[mask_TC == 1] = 1\n",
    "        mask_TC[mask_TC == 2] = 0\n",
    "        mask_TC[mask_TC == 3] = 1\n",
    "        # exclude 2 / 4 labelled tumour \n",
    "        \n",
    "        # ET - LABEL 4 \n",
    "        mask_ET = mask.copy()\n",
    "        mask_ET[mask_ET == 1] = 0\n",
    "        mask_ET[mask_ET == 2] = 0\n",
    "        mask_ET[mask_ET == 3] = 1\n",
    "        # exclude 2 / 1 labelled tumour \n",
    "\n",
    "        # mask = np.stack([mask_WT, mask_TC, mask_ET, mask_ED])\n",
    "        mask = np.stack([mask_WT, mask_TC, mask_ET])\n",
    "\n",
    "        return mask        "
   ]
  },
  {
   "cell_type": "code",
   "execution_count": 6,
   "metadata": {
    "execution": {
     "iopub.execute_input": "2023-06-02T10:56:58.419660Z",
     "iopub.status.busy": "2023-06-02T10:56:58.419300Z",
     "iopub.status.idle": "2023-06-02T10:56:58.431690Z",
     "shell.execute_reply": "2023-06-02T10:56:58.430806Z",
     "shell.execute_reply.started": "2023-06-02T10:56:58.419630Z"
    },
    "trusted": true,
    "ExecuteTime": {
     "end_time": "2024-03-25T06:23:59.650334007Z",
     "start_time": "2024-03-25T06:23:56.772433891Z"
    }
   },
   "outputs": [],
   "source": [
    "def get_augmentations(phase):\n",
    "    list_transforms = []\n",
    "    \n",
    "    # Does data augmentations & tranformation required for IMAGES & MASKS \n",
    "    # they include cropping, padding, flipping , rotating \n",
    "    list_trfms = Compose(list_transforms, is_check_shapes=False)\n",
    "    return list_trfms\n",
    "\n",
    "def get_dataloader(\n",
    "    dataset: torch.utils.data.Dataset,\n",
    "    phase: str,\n",
    "    batch_size: int = 4,\n",
    "    num_workers: int = 4 ):\n",
    "    \n",
    "    if(phase == 'train'):\n",
    "        ids = train_ids\n",
    "    elif(phase == 'val'):\n",
    "        ids = val_ids\n",
    "    elif(phase == 'test'):\n",
    "        ids = test_ids\n",
    "    \n",
    "    ds = dataset(phase, ids, True)\n",
    "    \"\"\"\n",
    "    DataLoader iteratively goes through every id in the df & gets all the individual tuples for individual ids & appends all of them \n",
    "    like this : \n",
    "    { id : ['BraTS20_Training_235'] ,\n",
    "      image : [] , \n",
    "      tensor : [] , \n",
    "    } \n",
    "    { id : ['BraTS20_Training_236'] ,\n",
    "      image : [] , \n",
    "      tensor : [] , \n",
    "    } \n",
    "    { id : ['BraTS20_Training_237'] ,\n",
    "      image : [] , \n",
    "      tensor : [] , \n",
    "    } \n",
    "    \"\"\"\n",
    "    dataloader = DataLoader(\n",
    "        ds,\n",
    "        batch_size=batch_size,\n",
    "        num_workers=num_workers,\n",
    "        pin_memory=True,\n",
    "        shuffle=True,   \n",
    "    )\n",
    "    return dataloader"
   ]
  },
  {
   "cell_type": "code",
   "execution_count": 7,
   "metadata": {
    "execution": {
     "iopub.execute_input": "2023-06-02T10:56:58.433627Z",
     "iopub.status.busy": "2023-06-02T10:56:58.433007Z",
     "iopub.status.idle": "2023-06-02T10:56:58.451525Z",
     "shell.execute_reply": "2023-06-02T10:56:58.450455Z",
     "shell.execute_reply.started": "2023-06-02T10:56:58.433597Z"
    },
    "trusted": true,
    "ExecuteTime": {
     "end_time": "2024-03-25T06:23:59.650449693Z",
     "start_time": "2024-03-25T06:23:56.773218623Z"
    }
   },
   "outputs": [
    {
     "data": {
      "text/plain": "125"
     },
     "execution_count": 7,
     "metadata": {},
     "output_type": "execute_result"
    }
   ],
   "source": [
    "dataloader = get_dataloader(dataset=BratsDataset, phase='val', batch_size=1)\n",
    "len(dataloader)"
   ]
  },
  {
   "cell_type": "code",
   "execution_count": 8,
   "metadata": {
    "execution": {
     "iopub.execute_input": "2023-06-02T10:56:58.453577Z",
     "iopub.status.busy": "2023-06-02T10:56:58.452965Z",
     "iopub.status.idle": "2023-06-02T10:57:08.861709Z",
     "shell.execute_reply": "2023-06-02T10:57:08.860564Z",
     "shell.execute_reply.started": "2023-06-02T10:56:58.453545Z"
    },
    "trusted": true,
    "ExecuteTime": {
     "end_time": "2024-03-25T06:23:59.651059720Z",
     "start_time": "2024-03-25T06:23:56.787394505Z"
    }
   },
   "outputs": [
    {
     "data": {
      "text/plain": "(['BraTS-GLI-00707-000'],\n torch.Size([1, 3, 50, 120, 120]),\n torch.Size([1, 3, 50, 120, 120]))"
     },
     "execution_count": 8,
     "metadata": {},
     "output_type": "execute_result"
    }
   ],
   "source": [
    "data = next(iter(dataloader))\n",
    "data['Id'], data['image'].shape, data['mask'].shape\n",
    "\n",
    "# batch size , channels , spatial dimensions\n",
    "# no.of images in a batch : channels : t1 , t2 , flair , weighted : dimensions"
   ]
  },
  {
   "cell_type": "code",
   "execution_count": 9,
   "metadata": {
    "execution": {
     "iopub.execute_input": "2023-06-02T10:57:08.864841Z",
     "iopub.status.busy": "2023-06-02T10:57:08.863351Z",
     "iopub.status.idle": "2023-06-02T10:57:08.870923Z",
     "shell.execute_reply": "2023-06-02T10:57:08.869862Z",
     "shell.execute_reply.started": "2023-06-02T10:57:08.864790Z"
    },
    "trusted": true,
    "ExecuteTime": {
     "end_time": "2024-03-25T06:23:59.651132249Z",
     "start_time": "2024-03-25T06:23:58.444329579Z"
    }
   },
   "outputs": [
    {
     "name": "stdout",
     "output_type": "stream",
     "text": [
      "torch.Size([1, 3, 50, 120, 120])\n",
      "torch.Size([1, 3, 50, 120, 120])\n"
     ]
    }
   ],
   "source": [
    "print(data['image'].shape)\n",
    "print(data['mask'].shape)"
   ]
  },
  {
   "cell_type": "code",
   "execution_count": 10,
   "metadata": {
    "execution": {
     "iopub.execute_input": "2023-06-02T10:57:08.873066Z",
     "iopub.status.busy": "2023-06-02T10:57:08.872471Z",
     "iopub.status.idle": "2023-06-02T10:57:13.095644Z",
     "shell.execute_reply": "2023-06-02T10:57:13.094838Z",
     "shell.execute_reply.started": "2023-06-02T10:57:08.873034Z"
    },
    "trusted": true,
    "ExecuteTime": {
     "end_time": "2024-03-25T06:23:59.651255474Z",
     "start_time": "2024-03-25T06:23:58.446806698Z"
    }
   },
   "outputs": [
    {
     "name": "stdout",
     "output_type": "stream",
     "text": [
      "(50, 120, 120) (50, 120, 120)\n",
      "Num uniq Image values : 162314\n",
      "Min/Max Image values: 0.0 1.0\n",
      "Num uniq Mask values: (array([0., 1.], dtype=float32), array([711591,   8409]))\n"
     ]
    },
    {
     "data": {
      "text/plain": "<matplotlib.image.AxesImage at 0x7f9f9bb798e0>"
     },
     "execution_count": 10,
     "metadata": {},
     "output_type": "execute_result"
    },
    {
     "data": {
      "text/plain": "<Figure size 640x480 with 1 Axes>",
      "image/png": "[encoded data removed]"
     },
     "metadata": {},
     "output_type": "display_data"
    }
   ],
   "source": [
    "# Printing all the images & masks of \"FOLD 0\" --> 34 batches \n",
    "# 34 BATCHES of images & masks each batch containing 4 types of files t1 , t2 , t1ce , flair \n",
    "\n",
    "img_tensor = data['image'].squeeze()[0].cpu().detach().numpy() \n",
    "mask_tensor = data['mask'].squeeze()[0].squeeze().cpu().detach().numpy()\n",
    "print(img_tensor.shape, mask_tensor.shape)\n",
    "\n",
    "print(\"Num uniq Image values :\", len(np.unique(img_tensor, return_counts=True)[0]))\n",
    "print(\"Min/Max Image values:\", img_tensor.min(), img_tensor.max())\n",
    "print(\"Num uniq Mask values:\", np.unique(mask_tensor, return_counts=True))\n",
    "\n",
    "image = montage(img_tensor)\n",
    "mask = montage(mask_tensor) \n",
    "\n",
    "fig, ax = plt.subplots(1, 1)\n",
    "ax.imshow(image, cmap ='bone')\n",
    "ax.imshow(np.ma.masked_where(mask == False, mask),\n",
    "           cmap='cool', alpha=0.6)"
   ]
  },
  {
   "cell_type": "markdown",
   "metadata": {},
   "source": [
    "# Metrics and Loss metrics"
   ]
  },
  {
   "cell_type": "code",
   "execution_count": 11,
   "metadata": {
    "execution": {
     "iopub.execute_input": "2023-06-02T10:57:13.148668Z",
     "iopub.status.busy": "2023-06-02T10:57:13.148286Z",
     "iopub.status.idle": "2023-06-02T10:57:13.180939Z",
     "shell.execute_reply": "2023-06-02T10:57:13.180034Z",
     "shell.execute_reply.started": "2023-06-02T10:57:13.148634Z"
    },
    "trusted": true,
    "ExecuteTime": {
     "end_time": "2024-03-25T06:23:59.651288265Z",
     "start_time": "2024-03-25T06:23:58.700794058Z"
    }
   },
   "outputs": [],
   "source": [
    "def dice_coef_metric(probabilities: torch.Tensor,\n",
    "                     truth: torch.Tensor, \n",
    "                     treshold: float = 0.5,\n",
    "                     eps: float = 1e-9) -> np.ndarray:\n",
    "    \"\"\"\n",
    "    Calculate Dice score for data batch.\n",
    "    Params:\n",
    "        probobilities: model outputs after activation function.\n",
    "        truth: truth values.\n",
    "        threshold: threshold for probabilities.\n",
    "        eps: additive to refine the estimate.\n",
    "        Returns: dice score aka f1.\n",
    "    \"\"\"\n",
    "    scores = []\n",
    "    num = probabilities.shape[0] \n",
    "    predictions = (probabilities >= treshold).float()\n",
    "    assert(predictions.shape == truth.shape)\n",
    "    for i in range(num):\n",
    "        prediction = predictions[i]\n",
    "        truth_ = truth[i]\n",
    "        intersection = 2.0 * (truth_ * prediction).sum()\n",
    "        union = truth_.sum() + prediction.sum()\n",
    "        if truth_.sum() == 0 and prediction.sum() == 0:\n",
    "            scores.append(1.0)\n",
    "        else:\n",
    "            scores.append((intersection + eps) / union)\n",
    "    return np.mean(scores)\n",
    "\n",
    "\n",
    "def jaccard_coef_metric(probabilities: torch.Tensor,\n",
    "               truth: torch.Tensor,\n",
    "               treshold: float = 0.5,\n",
    "               eps: float = 1e-9) -> np.ndarray:\n",
    "    \"\"\"\n",
    "    Calculate Jaccard index for data batch.\n",
    "    Params:\n",
    "        probobilities: model outputs after activation function.\n",
    "        truth: truth values.\n",
    "        threshold: threshold for probabilities.\n",
    "        eps: additive to refine the estimate.\n",
    "        Returns: jaccard score aka iou.\"\n",
    "    \"\"\"\n",
    "    scores = []\n",
    "    num = probabilities.shape[0]\n",
    "    predictions = (probabilities >= treshold).float()\n",
    "    assert(predictions.shape == truth.shape)\n",
    "\n",
    "    for i in range(num):\n",
    "        prediction = predictions[i]\n",
    "        truth_ = truth[i]\n",
    "        intersection = (prediction * truth_).sum()\n",
    "        union = (prediction.sum() + truth_.sum()) - intersection + eps\n",
    "        if truth_.sum() == 0 and prediction.sum() == 0:\n",
    "            scores.append(1.0)\n",
    "        else:\n",
    "            scores.append((intersection + eps) / union)\n",
    "    return np.mean(scores)\n",
    "\n",
    "\n",
    "class Meter:\n",
    "    '''factory for storing and updating iou and dice scores.'''\n",
    "    def __init__(self, treshold: float = 0.5):\n",
    "        self.threshold: float = treshold\n",
    "        self.dice_scores: list = []\n",
    "        self.iou_scores: list = []\n",
    "    \n",
    "    def update(self, logits: torch.Tensor, targets: torch.Tensor):\n",
    "        \"\"\"\n",
    "        Takes: logits from output model and targets,\n",
    "        calculates dice and iou scores, and stores them in lists.\n",
    "        calculates using the above declare functions \n",
    "        \"\"\"\n",
    "        probs = torch.sigmoid(logits)\n",
    "        dice = dice_coef_metric(probs, targets, self.threshold)\n",
    "        iou = jaccard_coef_metric(probs, targets, self.threshold)\n",
    "        \n",
    "        # appending to the respective lists \n",
    "        self.dice_scores.append(dice)\n",
    "        self.iou_scores.append(iou)\n",
    "    \n",
    "    def get_metrics(self) -> np.ndarray:\n",
    "        \"\"\"\n",
    "        Returns: the average of the accumulated dice and iou scores.\n",
    "        \"\"\"\n",
    "        dice = np.mean(self.dice_scores)\n",
    "        iou = np.mean(self.iou_scores)\n",
    "        return dice, iou\n",
    "\n",
    "\n",
    "class DiceLoss(nn.Module):\n",
    "    \"\"\"Calculate dice loss.\"\"\"\n",
    "    def __init__(self, eps: float = 1e-9):\n",
    "        super(DiceLoss, self).__init__()\n",
    "        self.eps = eps\n",
    "        \n",
    "    def forward(self,\n",
    "                logits: torch.Tensor,\n",
    "                targets: torch.Tensor) -> torch.Tensor:\n",
    "        \n",
    "        num = targets.size(0)\n",
    "        probability = torch.sigmoid(logits)\n",
    "        probability = probability.view(num, -1)\n",
    "        targets = targets.view(num, -1)\n",
    "        assert(probability.shape == targets.shape)\n",
    "        \n",
    "        intersection = 2.0 * (probability * targets).sum()\n",
    "        union = probability.sum() + targets.sum()\n",
    "        dice_score = (intersection + self.eps) / union\n",
    "        #print(\"intersection\", intersection, union, dice_score)\n",
    "        return 1.0 - dice_score\n",
    "        \n",
    "        \n",
    "class BCEDiceLoss(nn.Module):\n",
    "    \"\"\"Compute objective loss: BCE loss + DICE loss.\"\"\"\n",
    "    def __init__(self):\n",
    "        super(BCEDiceLoss, self).__init__()\n",
    "        self.bce = nn.BCEWithLogitsLoss()\n",
    "        self.dice = DiceLoss()\n",
    "        \n",
    "    def forward(self, \n",
    "                logits: torch.Tensor,\n",
    "                targets: torch.Tensor) -> torch.Tensor:\n",
    "        \n",
    "        # logits are the images \n",
    "        # target are the masks \n",
    "        assert(logits.shape == targets.shape)\n",
    "        dice_loss = self.dice(logits, targets)\n",
    "        bce_loss = self.bce(logits, targets)\n",
    "        \n",
    "        # binary cross entropy loss & dice loss \n",
    "        return bce_loss + dice_loss\n",
    "    \n",
    "# helper functions for testing.  \n",
    "def dice_coef_metric_per_classes(probabilities: np.ndarray,\n",
    "                                    truth: np.ndarray,\n",
    "                                    treshold: float = 0.5,\n",
    "                                    eps: float = 1e-9,\n",
    "                                    classes: list = ['WT', 'TC', 'ET']) -> np.ndarray:\n",
    "    \"\"\"\n",
    "    Calculate Dice score for data batch and for each class i.e. 'WT', 'TC', 'ET'\n",
    "    Params:\n",
    "        probobilities: model outputs after activation function.\n",
    "        truth: model targets.\n",
    "        threshold: threshold for probabilities.\n",
    "        eps: additive to refine the estimate.\n",
    "        classes: list with name classes.\n",
    "        Returns: dict with dice scores for each class.\n",
    "    \"\"\"\n",
    "    scores = {key: list() for key in classes}\n",
    "    num = probabilities.shape[0]\n",
    "    num_classes = probabilities.shape[1]\n",
    "    predictions = (probabilities >= treshold).astype(np.float32)\n",
    "    assert(predictions.shape == truth.shape)\n",
    "\n",
    "    for i in range(num):\n",
    "        for class_ in range(num_classes):\n",
    "            prediction = predictions[i][class_]\n",
    "            truth_ = truth[i][class_]\n",
    "            intersection = 2.0 * (truth_ * prediction).sum()\n",
    "            union = truth_.sum() + prediction.sum()\n",
    "            if truth_.sum() == 0 and prediction.sum() == 0:\n",
    "                 scores[classes[class_]].append(1.0)\n",
    "            else:\n",
    "                scores[classes[class_]].append((intersection + eps) / union)\n",
    "                \n",
    "    return scores\n",
    "\n",
    "\n",
    "def jaccard_coef_metric_per_classes(probabilities: np.ndarray, # output of the model in an array format \n",
    "               truth: np.ndarray,# masks  \n",
    "               treshold: float = 0.5, # threshold to whether segment / not \n",
    "               eps: float = 1e-9, # smooth \n",
    "               classes: list = ['WT', 'TC', 'ET']) -> np.ndarray:\n",
    "    \"\"\"\n",
    "    Calculate Jaccard index for data batch and for each class.\n",
    "    Params:\n",
    "        probobilities: model outputs after activation function.\n",
    "        truth: model targets.\n",
    "        threshold: threshold for probabilities.\n",
    "        eps: additive to refine the estimate.\n",
    "        classes: list with name classes.\n",
    "        Returns: dict with jaccard scores for each class.\"\n",
    "    \"\"\"\n",
    "    scores = {key: list() for key in classes}\n",
    "    # storing all the jaccard coefficients in a list \n",
    "    \n",
    "    num = probabilities.shape[0]\n",
    "    \n",
    "    num_classes = probabilities.shape[1]\n",
    "    \n",
    "    # segmenting if prob > threshold .i.e. setting to float32 \n",
    "    predictions = (probabilities >= treshold).astype(np.float32)\n",
    "    \n",
    "    assert(predictions.shape == truth.shape)\n",
    "\n",
    "    for i in range(num):\n",
    "        for class_ in range(num_classes):\n",
    "            prediction = predictions[i][class_]\n",
    "            truth_ = truth[i][class_]\n",
    "            intersection = (prediction * truth_).sum()\n",
    "            union = (prediction.sum() + truth_.sum()) - intersection + eps\n",
    "            if truth_.sum() == 0 and prediction.sum() == 0:\n",
    "                 scores[classes[class_]].append(1.0)\n",
    "            else:\n",
    "                scores[classes[class_]].append((intersection + eps) / union)\n",
    "\n",
    "    return scores"
   ]
  },
  {
   "cell_type": "markdown",
   "metadata": {},
   "source": [
    "# 3DUnet"
   ]
  },
  {
   "cell_type": "code",
   "execution_count": 12,
   "metadata": {
    "execution": {
     "iopub.execute_input": "2023-06-02T10:57:13.183146Z",
     "iopub.status.busy": "2023-06-02T10:57:13.182598Z",
     "iopub.status.idle": "2023-06-02T10:57:13.205098Z",
     "shell.execute_reply": "2023-06-02T10:57:13.204225Z",
     "shell.execute_reply.started": "2023-06-02T10:57:13.183113Z"
    },
    "trusted": true,
    "ExecuteTime": {
     "end_time": "2024-03-25T06:23:59.651321556Z",
     "start_time": "2024-03-25T06:23:58.744323077Z"
    }
   },
   "outputs": [],
   "source": [
    "class DoubleConv(nn.Module):\n",
    "    \"\"\"(Conv3D -> BN -> ReLU) * 2\"\"\"\n",
    "    def __init__(self, in_channels, out_channels, num_groups=8):\n",
    "        super().__init__()\n",
    "        self.double_conv = nn.Sequential(\n",
    "            # Convlution set one \n",
    "            nn.Conv3d(in_channels, out_channels, kernel_size=3, stride=1, padding=1),\n",
    "            #nn.BatchNorm3d(out_channels),\n",
    "            nn.GroupNorm(num_groups=num_groups, num_channels=out_channels),\n",
    "            nn.ReLU(inplace=True),\n",
    "\n",
    "            # Convlution set two \n",
    "            nn.Conv3d(out_channels, out_channels, kernel_size=3, stride=1, padding=1),\n",
    "            #nn.BatchNorm3d(out_channels),\n",
    "            nn.GroupNorm(num_groups=num_groups, num_channels=out_channels),\n",
    "            nn.ReLU(inplace=True)\n",
    "            \n",
    "          )\n",
    "\n",
    "    def forward(self,x):\n",
    "        return self.double_conv(x)\n",
    "\n",
    "    \n",
    "class Down(nn.Module):\n",
    "\n",
    "    def __init__(self, in_channels, out_channels):\n",
    "        super().__init__()\n",
    "        self.encoder = nn.Sequential(\n",
    "            nn.MaxPool3d((1,2,2), (1,2,2)),\n",
    "            DoubleConv(in_channels, out_channels)\n",
    "        )\n",
    "    def forward(self, x):\n",
    "        # max pooling 3d + doubleConv \n",
    "        return self.encoder(x)\n",
    "\n",
    "    \n",
    "class Up(nn.Module):\n",
    "\n",
    "    def __init__(self, in_channels, out_channels, trilinear=True):\n",
    "        super().__init__()\n",
    "        \n",
    "        if trilinear:\n",
    "            self.up = nn.Upsample(scale_factor=(1,2,2), mode='trilinear', align_corners=True)\n",
    "        else:\n",
    "            self.up = nn.ConvTranspose3d(in_channels // 2, in_channels // 2, kernel_size=(1,2,2), stride=(1,2,2))\n",
    "            \n",
    "        self.conv = DoubleConv(in_channels, out_channels)\n",
    "\n",
    "    def forward(self, x1, x2):\n",
    "        x1 = self.up(x1)\n",
    "\n",
    "        diffZ = x2.size()[2] - x1.size()[2]\n",
    "        diffY = x2.size()[3] - x1.size()[3]\n",
    "        diffX = x2.size()[4] - x1.size()[4]\n",
    "        x1 = F.pad(x1, [diffX // 2, diffX - diffX // 2, diffY // 2, diffY - diffY // 2, diffZ // 2, diffZ - diffZ // 2])\n",
    "\n",
    "        x = torch.cat([x2, x1], dim=1)\n",
    "        return self.conv(x)\n",
    "\n",
    "    \n",
    "class Out(nn.Module):\n",
    "    def __init__(self, in_channels, out_channels):\n",
    "        super().__init__()\n",
    "        self.conv = nn.Conv3d(in_channels, out_channels, kernel_size = 1)\n",
    "\n",
    "    def forward(self, x):\n",
    "        return self.conv(x)\n",
    "\n",
    "\n",
    "class UNet3d(nn.Module):\n",
    "    def __init__(self, in_channels, n_classes, n_channels):\n",
    "        super().__init__()\n",
    "        self.in_channels = in_channels\n",
    "        self.n_classes = n_classes\n",
    "        self.n_channels = n_channels\n",
    "\n",
    "        # extracting the features by incrementally multiplying the no.of channels \n",
    "        self.conv = DoubleConv(in_channels, n_channels)\n",
    "        self.enc1 = Down(n_channels, 2 * n_channels)\n",
    "        self.enc2 = Down(2 * n_channels, 4 * n_channels)\n",
    "        self.enc3 = Down(4 * n_channels, 8 * n_channels)\n",
    "        self.enc4 = Down(8 * n_channels, 8 * n_channels)\n",
    "\n",
    "        self.dec1 = Up(16 * n_channels, 4 * n_channels)\n",
    "        self.dec2 = Up(8 * n_channels, 2 * n_channels)\n",
    "        self.dec3 = Up(4 * n_channels, n_channels)\n",
    "        self.dec4 = Up(2 * n_channels, n_channels)\n",
    "        self.out = Out(n_channels, n_classes)\n",
    "\n",
    "    def forward(self, x):\n",
    "        x1 = self.conv(x)\n",
    "        x2 = self.enc1(x1)\n",
    "        x3 = self.enc2(x2)\n",
    "        x4 = self.enc3(x3)\n",
    "        x5 = self.enc4(x4)\n",
    "        # print(\"x1: \",x1.shape)\n",
    "        # print(\"x2: \",x2.shape)\n",
    "        # print(\"x3: \",x3.shape)\n",
    "        # print(\"x4: \",x4.shape)\n",
    "        # print(\"x5: \",x5.shape)\n",
    "        mask = self.dec1(x5, x4)\n",
    "        # print(\"1.mask: \",mask.shape)\n",
    "        mask = self.dec2(mask, x3)\n",
    "        # print(\"2.mask: \",mask.shape)\n",
    "        mask = self.dec3(mask, x2)\n",
    "        # print(\"3.mask: \",mask.shape)\n",
    "        mask = self.dec4(mask, x1)\n",
    "        # print(\"4.mask: \",mask.shape)\n",
    "        mask = self.out(mask)\n",
    "        # print(\"5.mask: \",mask.shape)\n",
    "        \n",
    "        \"\"\"\n",
    "        After a series of either Upsampling / 3d Transpose\n",
    "        a segmented image of the input image is generated \n",
    "        & returned \n",
    "        \"\"\"\n",
    "        return mask"
   ]
  },
  {
   "cell_type": "markdown",
   "metadata": {},
   "source": [
    "# Trainer"
   ]
  },
  {
   "cell_type": "code",
   "execution_count": 13,
   "metadata": {
    "execution": {
     "iopub.execute_input": "2023-06-02T10:57:13.216562Z",
     "iopub.status.busy": "2023-06-02T10:57:13.215898Z",
     "iopub.status.idle": "2023-06-02T10:57:13.245527Z",
     "shell.execute_reply": "2023-06-02T10:57:13.244615Z",
     "shell.execute_reply.started": "2023-06-02T10:57:13.216513Z"
    },
    "trusted": true,
    "ExecuteTime": {
     "end_time": "2024-03-25T06:23:59.651355366Z",
     "start_time": "2024-03-25T06:23:58.744422397Z"
    }
   },
   "outputs": [],
   "source": [
    "class Trainer:\n",
    "    \"\"\"\n",
    "    Factory for training proccess.\n",
    "    Args:\n",
    "        display_plot: if True - plot train history after each epoch.\n",
    "        net: neural network for mask prediction.\n",
    "        criterion: factory for calculating objective loss. i.e. bce loss + dice loss / others \n",
    "        optimizer: optimizer for weights updating. i.e. Adam \n",
    "        phases: list with train and validation phases.\n",
    "        dataloaders: dict with data loaders for train and val phases. i.e. DataLoader / dataloader \n",
    "        path_to_csv: path to csv file.\n",
    "        meter: factory for storing and updating metrics. -> return the jaccard coeff / dice loss \n",
    "        batch_size: data batch size for one step weights updating.\n",
    "        num_epochs: num weights updation for all data.\n",
    "        accumulation_steps: the number of steps after which the optimization step can be taken\n",
    "                    (https://www.kaggle.com/c/understanding_cloud_organization/discussion/105614).\n",
    "        lr: learning rate for optimizer.\n",
    "        scheduler: scheduler for control learning rate.\n",
    "        losses: dict for storing lists with losses for each phase.\n",
    "        jaccard_scores: dict for storing lists with jaccard scores for each phase.\n",
    "        dice_scores: dict for storing lists with dice scores for each phase.\n",
    "    \"\"\"\n",
    "    def __init__(self,\n",
    "                 net: nn.Module,\n",
    "                 dataset: torch.utils.data.Dataset,\n",
    "                 criterion: nn.Module,\n",
    "                 lr: float,\n",
    "                 accumulation_steps: int,\n",
    "                 batch_size: int,\n",
    "                 num_epochs: int,\n",
    "                 path_to_csv: str,\n",
    "                 display_plot: bool = True,\n",
    "                ):\n",
    "\n",
    "        \"\"\"Initialization.\"\"\"\n",
    "        self.device = 'cuda' if torch.cuda.is_available() else 'cpu'\n",
    "        print(\"device:\", self.device)\n",
    "        self.display_plot = display_plot\n",
    "        self.net = net\n",
    "        self.net = self.net.to(self.device)\n",
    "        self.criterion = criterion\n",
    "        self.optimizer = Adam(self.net.parameters(), lr=lr)\n",
    "        self.scheduler = ReduceLROnPlateau(self.optimizer, mode=\"min\",\n",
    "                                           patience=2, verbose=True)\n",
    "        self.accumulation_steps = accumulation_steps // batch_size\n",
    "        self.phases = [\"train\", \"val\"]\n",
    "        self.num_epochs = num_epochs\n",
    "\n",
    "        self.dataloaders = {\n",
    "            phase: get_dataloader(\n",
    "                dataset = dataset,\n",
    "                phase = phase,\n",
    "                batch_size = batch_size,\n",
    "                num_workers = 4\n",
    "            )\n",
    "            for phase in self.phases\n",
    "        }\n",
    "        self.best_loss = float(\"inf\")\n",
    "        \n",
    "        # calculating the list of losses for both train & validation phases \n",
    "        self.losses = {phase: [] for phase in self.phases}\n",
    "        \n",
    "        # calculating the dice scores for both train & validation phases \n",
    "        self.dice_scores = {phase: [] for phase in self.phases}\n",
    "        \n",
    "        # calculating the jaccard scores for both train & validation phases\n",
    "        self.jaccard_scores = {phase: [] for phase in self.phases}\n",
    "         \n",
    "    def _compute_loss_and_outputs(self,\n",
    "                                  images: torch.Tensor,\n",
    "                                  targets: torch.Tensor):\n",
    "        images = images.to(self.device)\n",
    "        targets = targets.to(self.device)\n",
    "        \n",
    "        # making images predictions symmetric using logits  \n",
    "        logits = self.net(images)\n",
    "        \n",
    "        # calculating the loss bce loss / dice loss / jaccard loss / combined loss \n",
    "        # as defined calcluating the mean square error loss \n",
    "        loss = self.criterion(logits, targets)\n",
    "        return loss, logits\n",
    "        \n",
    "    def _do_epoch(self, epoch: int, phase: str):\n",
    "        print(f\"{phase} epoch: {epoch} | time: {time.strftime('%H:%M:%S')}\")\n",
    "\n",
    "        self.net.train() if phase == \"train\" else self.net.eval()\n",
    "        meter = Meter()\n",
    "        dataloader = self.dataloaders[phase]\n",
    "        total_batches = len(dataloader)\n",
    "        print(\"total batch num:\",total_batches)\n",
    "        running_loss = 0.0 \n",
    "        self.optimizer.zero_grad()\n",
    "        for itr, data_batch in tqdm(enumerate(dataloader), total=total_batches):\n",
    "            images, targets = data_batch['image'], data_batch['mask']\n",
    "            # BCEDiceLoss & raw prediction( logits ) are calculated \n",
    "            loss, logits = self._compute_loss_and_outputs(images, targets)\n",
    "            loss = loss / self.accumulation_steps\n",
    "            if phase == \"train\":\n",
    "                # Backpropagating the losses generated to train the Unet \n",
    "                loss.backward()\n",
    "                \n",
    "                # if a certain no. is reached then all the gradient accuwlated will be given to the optiizer & it gets trained\n",
    "                # after giving, gradient gets reset to 0 \n",
    "                if (itr + 1) % self.accumulation_steps == 0:\n",
    "                    self.optimizer.step()\n",
    "                    self.optimizer.zero_grad()\n",
    "                    \n",
    "            running_loss += loss.item()\n",
    "            with open('train_log.txt','a') as f:\n",
    "                f.write(f\"[{itr}/{total_batches}] running loss of epoch {epoch} is : {running_loss}\\n\") \n",
    "            # meter.update stores running_loss for each iteration in one epoch in a list to visualize in graph \n",
    "            meter.update(logits.detach().cpu(),\n",
    "                         targets.detach().cpu()\n",
    "                        )\n",
    "            \n",
    "        epoch_loss = (running_loss * self.accumulation_steps) / total_batches\n",
    "        epoch_dice, epoch_iou = meter.get_metrics()\n",
    "        \n",
    "        self.losses[phase].append(epoch_loss)\n",
    "        self.dice_scores[phase].append(epoch_dice)\n",
    "        self.jaccard_scores[phase].append(epoch_iou)\n",
    "\n",
    "        return epoch_loss\n",
    "        \n",
    "    def run(self):\n",
    "        for epoch in range(self.num_epochs):\n",
    "            self._do_epoch(epoch, \"train\")\n",
    "            with torch.no_grad():\n",
    "                val_loss = self._do_epoch(epoch, \"val\")\n",
    "                print(f\"BCEDiceLoss for epoch {epoch} is : \" , val_loss ) \n",
    "                self.scheduler.step(val_loss)\n",
    "            if self.display_plot:\n",
    "                self._plot_train_history()\n",
    "                \n",
    "            if val_loss < self.best_loss:\n",
    "                print(f\"\\n{'#'*20}\\nSaved new checkpoint\\n{'#'*20}\\n\")\n",
    "                self.best_loss = val_loss\n",
    "                torch.save(self.net.state_dict(), \"best_model.pth\")\n",
    "            print()\n",
    "        self._save_train_history()\n",
    "            \n",
    "    def _plot_train_history(self):\n",
    "        data = [self.losses, self.dice_scores, self.jaccard_scores]\n",
    "        colors = ['deepskyblue', \"crimson\"]\n",
    "        labels = [\n",
    "            f\"\"\"\n",
    "            train loss {self.losses['train'][-1]}\n",
    "            val loss {self.losses['val'][-1]}\n",
    "            \"\"\",\n",
    "            \n",
    "            f\"\"\"\n",
    "            train dice score {self.dice_scores['train'][-1]}\n",
    "            val dice score {self.dice_scores['val'][-1]} \n",
    "            \"\"\", \n",
    "                  \n",
    "            f\"\"\"\n",
    "            train jaccard score {self.jaccard_scores['train'][-1]}\n",
    "            val jaccard score {self.jaccard_scores['val'][-1]}\n",
    "            \"\"\",\n",
    "        ]\n",
    "        \n",
    "        clear_output(True)\n",
    "        with plt.style.context(\"seaborn-dark-palette\"):\n",
    "            fig, axes = plt.subplots(3, 1, figsize=(8, 10))\n",
    "            for i, ax in enumerate(axes):\n",
    "                ax.plot(data[i]['val'], c=colors[0], label=\"val\")\n",
    "                ax.plot(data[i]['train'], c=colors[-1], label=\"train\")\n",
    "                ax.set_title(labels[i])\n",
    "                ax.legend(loc=\"upper right\")\n",
    "                \n",
    "            plt.tight_layout()\n",
    "            plt.show()\n",
    "            \n",
    "    def load_predtrain_model(self,\n",
    "                             state_path: str):\n",
    "        self.net.load_state_dict(torch.load(state_path))\n",
    "        print(\"Predtrain model loaded\")\n",
    "        \n",
    "    def _save_train_history(self):\n",
    "        \"\"\"writing model weights and training logs to files.\"\"\"\n",
    "        torch.save(self.net.state_dict(),\n",
    "                   f\"last_epoch_model.pth\")\n",
    "\n",
    "        logs_ = [self.losses, self.dice_scores, self.jaccard_scores]\n",
    "        log_names_ = [\"_loss\", \"_dice\", \"_jaccard\"]\n",
    "        logs = [logs_[i][key] for i in list(range(len(logs_)))\n",
    "                         for key in logs_[i]]\n",
    "        log_names = [key+log_names_[i] \n",
    "                     for i in list(range(len(logs_))) \n",
    "                     for key in logs_[i]\n",
    "                    ]\n",
    "        pd.DataFrame(\n",
    "            dict(zip(log_names, logs))\n",
    "        ).to_csv(\"train_log.csv\", index=False)"
   ]
  },
  {
   "cell_type": "markdown",
   "metadata": {},
   "source": [
    "# Training the UNet3D"
   ]
  },
  {
   "cell_type": "code",
   "execution_count": 14,
   "metadata": {
    "execution": {
     "iopub.execute_input": "2023-06-02T10:57:13.248267Z",
     "iopub.status.busy": "2023-06-02T10:57:13.247346Z",
     "iopub.status.idle": "2023-06-02T10:57:13.315000Z",
     "shell.execute_reply": "2023-06-02T10:57:13.314154Z",
     "shell.execute_reply.started": "2023-06-02T10:57:13.248235Z"
    },
    "trusted": true,
    "ExecuteTime": {
     "end_time": "2024-03-25T06:23:59.651388462Z",
     "start_time": "2024-03-25T06:23:58.750161885Z"
    }
   },
   "outputs": [],
   "source": [
    "nodel = UNet3d(in_channels=3, n_classes=3, n_channels=24).to('cuda')"
   ]
  },
  {
   "cell_type": "code",
   "execution_count": 15,
   "metadata": {
    "ExecuteTime": {
     "end_time": "2024-03-25T06:23:59.651461384Z",
     "start_time": "2024-03-25T06:23:58.785007892Z"
    }
   },
   "outputs": [
    {
     "data": {
      "text/plain": "torch.Size([1, 3, 50, 120, 120])"
     },
     "execution_count": 15,
     "metadata": {},
     "output_type": "execute_result"
    }
   ],
   "source": [
    "inp_data = data['image'].to('cuda')\n",
    "output = nodel(inp_data)\n",
    "output.shape"
   ]
  },
  {
   "cell_type": "code",
   "execution_count": 16,
   "metadata": {
    "execution": {
     "iopub.execute_input": "2023-06-02T10:57:13.316522Z",
     "iopub.status.busy": "2023-06-02T10:57:13.316185Z",
     "iopub.status.idle": "2023-06-02T10:57:13.700156Z",
     "shell.execute_reply": "2023-06-02T10:57:13.699170Z",
     "shell.execute_reply.started": "2023-06-02T10:57:13.316490Z"
    },
    "trusted": true,
    "ExecuteTime": {
     "end_time": "2024-03-25T06:23:59.651519576Z",
     "start_time": "2024-03-25T06:23:59.240733368Z"
    }
   },
   "outputs": [
    {
     "name": "stdout",
     "output_type": "stream",
     "text": [
      "device: cuda\n"
     ]
    }
   ],
   "source": [
    "trainer = Trainer(net=nodel,\n",
    "                  dataset=BratsDataset,\n",
    "                  criterion=BCEDiceLoss(),\n",
    "                  lr=5e-4,\n",
    "                  accumulation_steps=4,\n",
    "                  batch_size=4,\n",
    "                  num_epochs=10,\n",
    "                  path_to_csv = './',)"
   ]
  },
  {
   "cell_type": "code",
   "execution_count": 17,
   "metadata": {
    "execution": {
     "iopub.execute_input": "2023-06-02T10:57:13.702167Z",
     "iopub.status.busy": "2023-06-02T10:57:13.701513Z",
     "iopub.status.idle": "2023-06-02T10:57:13.707006Z",
     "shell.execute_reply": "2023-06-02T10:57:13.705779Z",
     "shell.execute_reply.started": "2023-06-02T10:57:13.702132Z"
    },
    "trusted": true,
    "ExecuteTime": {
     "end_time": "2024-03-25T06:23:59.651551417Z",
     "start_time": "2024-03-25T06:23:59.243640022Z"
    }
   },
   "outputs": [],
   "source": [
    "# training time(t0) starts \n",
    "t0 = time.time() "
   ]
  },
  {
   "cell_type": "code",
   "execution_count": 18,
   "metadata": {
    "execution": {
     "iopub.execute_input": "2023-06-02T10:57:13.709299Z",
     "iopub.status.busy": "2023-06-02T10:57:13.708311Z",
     "iopub.status.idle": "2023-06-02T11:16:46.601836Z",
     "shell.execute_reply": "2023-06-02T11:16:46.600595Z",
     "shell.execute_reply.started": "2023-06-02T10:57:13.709266Z"
    },
    "trusted": true
   },
   "outputs": [
    {
     "data": {
      "text/plain": "<Figure size 800x1000 with 3 Axes>",
      "image/png": "[encoded data removed]"
     },
     "metadata": {},
     "output_type": "display_data"
    },
    {
     "name": "stdout",
     "output_type": "stream",
     "text": [
      "\n",
      "####################\n",
      "Saved new checkpoint\n",
      "####################\n"
     ]
    }
   ],
   "source": [
    "trainer.run()"
   ]
  },
  {
   "cell_type": "code",
   "execution_count": 19,
   "metadata": {
    "execution": {
     "iopub.execute_input": "2023-06-02T11:16:46.604124Z",
     "iopub.status.busy": "2023-06-02T11:16:46.603757Z",
     "iopub.status.idle": "2023-06-02T11:16:46.609618Z",
     "shell.execute_reply": "2023-06-02T11:16:46.608605Z",
     "shell.execute_reply.started": "2023-06-02T11:16:46.604085Z"
    },
    "trusted": true,
    "ExecuteTime": {
     "end_time": "2024-03-25T07:17:17.305406593Z",
     "start_time": "2024-03-25T07:17:17.272450835Z"
    }
   },
   "outputs": [
    {
     "name": "stdout",
     "output_type": "stream",
     "text": [
      "Training time :  3198.0211310386658\n"
     ]
    }
   ],
   "source": [
    "# total training time(tt) \n",
    "t1 = time.time()\n",
    "tt = t1 - t0 \n",
    "print(\"Training time : \",tt)"
   ]
  },
  {
   "cell_type": "markdown",
   "metadata": {},
   "source": [
    "# Model serialization"
   ]
  },
  {
   "cell_type": "markdown",
   "metadata": {},
   "source": [
    "#### A state dictionary contains only the learnable parameters.Whereas the entire model object includes the model architecture, optimizer state, and potentially other attributes. By saving only the state dictionary, you can significantly reduce the file size of the saved model.\n",
    "\n",
    "#### Therefore i'm serializing the state dictionary of the UNET3D model"
   ]
  },
  {
   "attachments": {
    "fdced627-60fc-4877-aed4-36dfcaa361b2.PNG": {
     "image/png": "[encoded data removed]"
    }
   },
   "cell_type": "markdown",
   "metadata": {},
   "source": [
    "![modelsave.PNG](attachment:fdced627-60fc-4877-aed4-36dfcaa361b2.PNG)"
   ]
  },
  {
   "cell_type": "code",
   "execution_count": 20,
   "metadata": {
    "execution": {
     "iopub.execute_input": "2023-06-02T11:16:46.612164Z",
     "iopub.status.busy": "2023-06-02T11:16:46.611422Z",
     "iopub.status.idle": "2023-06-02T11:16:46.712456Z",
     "shell.execute_reply": "2023-06-02T11:16:46.711516Z",
     "shell.execute_reply.started": "2023-06-02T11:16:46.612132Z"
    },
    "trusted": true,
    "ExecuteTime": {
     "end_time": "2024-03-25T07:17:17.411386908Z",
     "start_time": "2024-03-25T07:17:17.274620646Z"
    }
   },
   "outputs": [],
   "source": [
    "torch.save(nodel.state_dict(), 'unet3d_state_dict.pth')\n",
    "torch.save(nodel, 'unet3d_model.pth')"
   ]
  },
  {
   "cell_type": "code",
   "execution_count": 21,
   "metadata": {
    "execution": {
     "iopub.execute_input": "2023-06-02T11:16:46.714081Z",
     "iopub.status.busy": "2023-06-02T11:16:46.713735Z",
     "iopub.status.idle": "2023-06-02T11:16:46.967071Z",
     "shell.execute_reply": "2023-06-02T11:16:46.965957Z",
     "shell.execute_reply.started": "2023-06-02T11:16:46.714052Z"
    },
    "trusted": true,
    "ExecuteTime": {
     "end_time": "2024-03-25T07:17:17.441449692Z",
     "start_time": "2024-03-25T07:17:17.409662253Z"
    }
   },
   "outputs": [
    {
     "data": {
      "text/plain": "53477"
     },
     "execution_count": 21,
     "metadata": {},
     "output_type": "execute_result"
    }
   ],
   "source": [
    "gc.collect()"
   ]
  },
  {
   "cell_type": "markdown",
   "metadata": {},
   "source": [
    "# Trainer performance evaluation"
   ]
  },
  {
   "cell_type": "code",
   "execution_count": 22,
   "metadata": {
    "execution": {
     "iopub.execute_input": "2023-06-02T11:16:46.969696Z",
     "iopub.status.busy": "2023-06-02T11:16:46.968906Z",
     "iopub.status.idle": "2023-06-02T11:16:47.541622Z",
     "shell.execute_reply": "2023-06-02T11:16:47.540764Z",
     "shell.execute_reply.started": "2023-06-02T11:16:46.969661Z"
    },
    "trusted": true,
    "ExecuteTime": {
     "end_time": "2024-03-25T07:17:17.522977752Z",
     "start_time": "2024-03-25T07:17:17.412336601Z"
    }
   },
   "outputs": [
    {
     "data": {
      "text/plain": "UNet3d(\n  (conv): DoubleConv(\n    (double_conv): Sequential(\n      (0): Conv3d(3, 24, kernel_size=(3, 3, 3), stride=(1, 1, 1), padding=(1, 1, 1))\n      (1): GroupNorm(8, 24, eps=1e-05, affine=True)\n      (2): ReLU(inplace=True)\n      (3): Conv3d(24, 24, kernel_size=(3, 3, 3), stride=(1, 1, 1), padding=(1, 1, 1))\n      (4): GroupNorm(8, 24, eps=1e-05, affine=True)\n      (5): ReLU(inplace=True)\n    )\n  )\n  (enc1): Down(\n    (encoder): Sequential(\n      (0): MaxPool3d(kernel_size=(1, 2, 2), stride=(1, 2, 2), padding=0, dilation=1, ceil_mode=False)\n      (1): DoubleConv(\n        (double_conv): Sequential(\n          (0): Conv3d(24, 48, kernel_size=(3, 3, 3), stride=(1, 1, 1), padding=(1, 1, 1))\n          (1): GroupNorm(8, 48, eps=1e-05, affine=True)\n          (2): ReLU(inplace=True)\n          (3): Conv3d(48, 48, kernel_size=(3, 3, 3), stride=(1, 1, 1), padding=(1, 1, 1))\n          (4): GroupNorm(8, 48, eps=1e-05, affine=True)\n          (5): ReLU(inplace=True)\n        )\n      )\n    )\n  )\n  (enc2): Down(\n    (encoder): Sequential(\n      (0): MaxPool3d(kernel_size=(1, 2, 2), stride=(1, 2, 2), padding=0, dilation=1, ceil_mode=False)\n      (1): DoubleConv(\n        (double_conv): Sequential(\n          (0): Conv3d(48, 96, kernel_size=(3, 3, 3), stride=(1, 1, 1), padding=(1, 1, 1))\n          (1): GroupNorm(8, 96, eps=1e-05, affine=True)\n          (2): ReLU(inplace=True)\n          (3): Conv3d(96, 96, kernel_size=(3, 3, 3), stride=(1, 1, 1), padding=(1, 1, 1))\n          (4): GroupNorm(8, 96, eps=1e-05, affine=True)\n          (5): ReLU(inplace=True)\n        )\n      )\n    )\n  )\n  (enc3): Down(\n    (encoder): Sequential(\n      (0): MaxPool3d(kernel_size=(1, 2, 2), stride=(1, 2, 2), padding=0, dilation=1, ceil_mode=False)\n      (1): DoubleConv(\n        (double_conv): Sequential(\n          (0): Conv3d(96, 192, kernel_size=(3, 3, 3), stride=(1, 1, 1), padding=(1, 1, 1))\n          (1): GroupNorm(8, 192, eps=1e-05, affine=True)\n          (2): ReLU(inplace=True)\n          (3): Conv3d(192, 192, kernel_size=(3, 3, 3), stride=(1, 1, 1), padding=(1, 1, 1))\n          (4): GroupNorm(8, 192, eps=1e-05, affine=True)\n          (5): ReLU(inplace=True)\n        )\n      )\n    )\n  )\n  (enc4): Down(\n    (encoder): Sequential(\n      (0): MaxPool3d(kernel_size=(1, 2, 2), stride=(1, 2, 2), padding=0, dilation=1, ceil_mode=False)\n      (1): DoubleConv(\n        (double_conv): Sequential(\n          (0): Conv3d(192, 192, kernel_size=(3, 3, 3), stride=(1, 1, 1), padding=(1, 1, 1))\n          (1): GroupNorm(8, 192, eps=1e-05, affine=True)\n          (2): ReLU(inplace=True)\n          (3): Conv3d(192, 192, kernel_size=(3, 3, 3), stride=(1, 1, 1), padding=(1, 1, 1))\n          (4): GroupNorm(8, 192, eps=1e-05, affine=True)\n          (5): ReLU(inplace=True)\n        )\n      )\n    )\n  )\n  (dec1): Up(\n    (up): Upsample(scale_factor=(1.0, 2.0, 2.0), mode='trilinear')\n    (conv): DoubleConv(\n      (double_conv): Sequential(\n        (0): Conv3d(384, 96, kernel_size=(3, 3, 3), stride=(1, 1, 1), padding=(1, 1, 1))\n        (1): GroupNorm(8, 96, eps=1e-05, affine=True)\n        (2): ReLU(inplace=True)\n        (3): Conv3d(96, 96, kernel_size=(3, 3, 3), stride=(1, 1, 1), padding=(1, 1, 1))\n        (4): GroupNorm(8, 96, eps=1e-05, affine=True)\n        (5): ReLU(inplace=True)\n      )\n    )\n  )\n  (dec2): Up(\n    (up): Upsample(scale_factor=(1.0, 2.0, 2.0), mode='trilinear')\n    (conv): DoubleConv(\n      (double_conv): Sequential(\n        (0): Conv3d(192, 48, kernel_size=(3, 3, 3), stride=(1, 1, 1), padding=(1, 1, 1))\n        (1): GroupNorm(8, 48, eps=1e-05, affine=True)\n        (2): ReLU(inplace=True)\n        (3): Conv3d(48, 48, kernel_size=(3, 3, 3), stride=(1, 1, 1), padding=(1, 1, 1))\n        (4): GroupNorm(8, 48, eps=1e-05, affine=True)\n        (5): ReLU(inplace=True)\n      )\n    )\n  )\n  (dec3): Up(\n    (up): Upsample(scale_factor=(1.0, 2.0, 2.0), mode='trilinear')\n    (conv): DoubleConv(\n      (double_conv): Sequential(\n        (0): Conv3d(96, 24, kernel_size=(3, 3, 3), stride=(1, 1, 1), padding=(1, 1, 1))\n        (1): GroupNorm(8, 24, eps=1e-05, affine=True)\n        (2): ReLU(inplace=True)\n        (3): Conv3d(24, 24, kernel_size=(3, 3, 3), stride=(1, 1, 1), padding=(1, 1, 1))\n        (4): GroupNorm(8, 24, eps=1e-05, affine=True)\n        (5): ReLU(inplace=True)\n      )\n    )\n  )\n  (dec4): Up(\n    (up): Upsample(scale_factor=(1.0, 2.0, 2.0), mode='trilinear')\n    (conv): DoubleConv(\n      (double_conv): Sequential(\n        (0): Conv3d(48, 24, kernel_size=(3, 3, 3), stride=(1, 1, 1), padding=(1, 1, 1))\n        (1): GroupNorm(8, 24, eps=1e-05, affine=True)\n        (2): ReLU(inplace=True)\n        (3): Conv3d(24, 24, kernel_size=(3, 3, 3), stride=(1, 1, 1), padding=(1, 1, 1))\n        (4): GroupNorm(8, 24, eps=1e-05, affine=True)\n        (5): ReLU(inplace=True)\n      )\n    )\n  )\n  (out): Out(\n    (conv): Conv3d(24, 3, kernel_size=(1, 1, 1), stride=(1, 1, 1))\n  )\n)"
     },
     "execution_count": 22,
     "metadata": {},
     "output_type": "execute_result"
    }
   ],
   "source": [
    "# Loading the serialized model to avoid computation\n",
    "nodel = torch.load('./unet3d_model.pth')\n",
    "\n",
    "# Turning on Evaluation mode of the model\n",
    "nodel.eval()"
   ]
  },
  {
   "cell_type": "code",
   "execution_count": 23,
   "metadata": {
    "execution": {
     "iopub.execute_input": "2023-06-02T11:16:47.543742Z",
     "iopub.status.busy": "2023-06-02T11:16:47.543389Z",
     "iopub.status.idle": "2023-06-02T11:16:47.559813Z",
     "shell.execute_reply": "2023-06-02T11:16:47.558828Z",
     "shell.execute_reply.started": "2023-06-02T11:16:47.543711Z"
    },
    "trusted": true,
    "ExecuteTime": {
     "end_time": "2024-03-25T07:17:17.523089082Z",
     "start_time": "2024-03-25T07:17:17.456332909Z"
    }
   },
   "outputs": [
    {
     "data": {
      "text/plain": "32"
     },
     "execution_count": 23,
     "metadata": {},
     "output_type": "execute_result"
    }
   ],
   "source": [
    "test_dataloader = get_dataloader(dataset=BratsDataset, phase=\"val\")\n",
    "len(test_dataloader)"
   ]
  },
  {
   "cell_type": "code",
   "execution_count": 24,
   "metadata": {
    "execution": {
     "iopub.execute_input": "2023-06-02T11:16:47.561661Z",
     "iopub.status.busy": "2023-06-02T11:16:47.561301Z",
     "iopub.status.idle": "2023-06-02T11:17:50.451087Z",
     "shell.execute_reply": "2023-06-02T11:17:50.449858Z",
     "shell.execute_reply.started": "2023-06-02T11:16:47.561630Z"
    },
    "trusted": true,
    "ExecuteTime": {
     "end_time": "2024-03-25T07:17:41.588129044Z",
     "start_time": "2024-03-25T07:17:17.456407809Z"
    }
   },
   "outputs": [],
   "source": [
    "import torch\n",
    "import numpy as np\n",
    "from sklearn.metrics import confusion_matrix, classification_report\n",
    "\n",
    "gc.collect() \n",
    "def compute_metrics(model, dataloader, threshold=0.33):\n",
    "    device = torch.device('cuda' if torch.cuda.is_available() else 'cpu')\n",
    "    model.eval()\n",
    "\n",
    "    true_positives = 0\n",
    "    false_positives = 0\n",
    "    true_negatives = 0\n",
    "    false_negatives = 0\n",
    "\n",
    "    counter = 0  # Counter to keep track of the number of entries processed\n",
    "\n",
    "    with torch.no_grad():  # Disable gradient calculations to save memory\n",
    "        for data in dataloader:\n",
    "            \n",
    "            images, targets = data['image'], data['mask']\n",
    "            images = images.to(device)\n",
    "            targets = targets.to(device)\n",
    "\n",
    "            logits = model(images)\n",
    "            probabilities = torch.sigmoid(logits)\n",
    "            predictions = (probabilities >= threshold).float()\n",
    "\n",
    "            # Compute binary segmentation metrics\n",
    "            true_positives += torch.sum((predictions == 1) & (targets == 1)).item()\n",
    "            false_positives += torch.sum((predictions == 1) & (targets == 0)).item()\n",
    "            true_negatives += torch.sum((predictions == 0) & (targets == 0)).item()\n",
    "            false_negatives += torch.sum((predictions == 0) & (targets == 1)).item()\n",
    "\n",
    "            counter += 1\n",
    "\n",
    "            # Free memory by clearing intermediate variables\n",
    "            del images, targets, logits, probabilities, predictions\n",
    "            torch.cuda.empty_cache()\n",
    "\n",
    "    return true_positives , false_positives , true_negatives , false_negatives\n",
    "\n",
    "tp , fp , tn , fn  = compute_metrics(nodel, test_dataloader, threshold=0.33)"
   ]
  },
  {
   "cell_type": "code",
   "execution_count": 25,
   "metadata": {
    "execution": {
     "iopub.execute_input": "2023-06-02T11:17:50.453243Z",
     "iopub.status.busy": "2023-06-02T11:17:50.452853Z",
     "iopub.status.idle": "2023-06-02T11:17:50.460603Z",
     "shell.execute_reply": "2023-06-02T11:17:50.459276Z",
     "shell.execute_reply.started": "2023-06-02T11:17:50.453202Z"
    },
    "trusted": true,
    "ExecuteTime": {
     "end_time": "2024-03-25T07:17:41.597375330Z",
     "start_time": "2024-03-25T07:17:41.588839065Z"
    }
   },
   "outputs": [
    {
     "name": "stdout",
     "output_type": "stream",
     "text": [
      "True positives : 1307265\n",
      "False positives : 384160\n",
      "True Negatives : 268088194\n",
      "False Negatives : 220381\n"
     ]
    }
   ],
   "source": [
    "print(f\"True positives : {tp}\")\n",
    "print(f\"False positives : {fp}\")\n",
    "print(f\"True Negatives : {tn}\")\n",
    "print(f\"False Negatives : {fn}\")"
   ]
  },
  {
   "cell_type": "markdown",
   "metadata": {},
   "source": [
    "# Confusion matrix"
   ]
  },
  {
   "cell_type": "code",
   "execution_count": 26,
   "metadata": {
    "execution": {
     "iopub.execute_input": "2023-06-02T11:17:50.462764Z",
     "iopub.status.busy": "2023-06-02T11:17:50.461881Z",
     "iopub.status.idle": "2023-06-02T11:17:50.737465Z",
     "shell.execute_reply": "2023-06-02T11:17:50.736546Z",
     "shell.execute_reply.started": "2023-06-02T11:17:50.462733Z"
    },
    "trusted": true,
    "ExecuteTime": {
     "end_time": "2024-03-25T07:17:41.705374013Z",
     "start_time": "2024-03-25T07:17:41.592095849Z"
    }
   },
   "outputs": [
    {
     "data": {
      "text/plain": "<Figure size 640x480 with 2 Axes>",
      "image/png": "[encoded data removed]"
     },
     "metadata": {},
     "output_type": "display_data"
    }
   ],
   "source": [
    "import matplotlib.pyplot as plt\n",
    "import numpy as np\n",
    "\n",
    "def plot_confusion_matrix(tp, fp, tn, fn):\n",
    "    # Create confusion matrix array\n",
    "    confusion_matrix = np.array([[tn, fp], [fn, tp]])\n",
    "\n",
    "    # Set up labels for matrix\n",
    "    labels = ['True ', 'False ']\n",
    "\n",
    "    # Create color map\n",
    "    cmap = plt.cm.Blues\n",
    "\n",
    "    # Plot confusion matrix\n",
    "    plt.imshow(confusion_matrix, interpolation='nearest', cmap=cmap)\n",
    "    plt.title('Confusion Matrix')\n",
    "    plt.colorbar()\n",
    "\n",
    "    # Add labels to matrix cells\n",
    "    thresh = confusion_matrix.max() / 2.\n",
    "    for i, j in np.ndindex(confusion_matrix.shape):\n",
    "        plt.text(j, i, format(confusion_matrix[i, j], 'd'), horizontalalignment='center', color='white' if confusion_matrix[i, j] > thresh else 'black')\n",
    "\n",
    "    # Set tick labels\n",
    "    tick_marks = np.arange(len(labels))\n",
    "    plt.xticks(tick_marks, labels, rotation=45)\n",
    "    plt.yticks(tick_marks, labels)\n",
    "\n",
    "    # Set axis labels\n",
    "    plt.xlabel('Predicted label')\n",
    "    plt.ylabel('True label')\n",
    "\n",
    "    # Show plot\n",
    "    plt.show()\n",
    "\n",
    "plot_confusion_matrix(tp, fp, tn, fn)\n"
   ]
  },
  {
   "cell_type": "markdown",
   "metadata": {},
   "source": [
    "## Evaluation metrics"
   ]
  },
  {
   "cell_type": "code",
   "execution_count": 27,
   "metadata": {
    "execution": {
     "iopub.execute_input": "2023-06-02T11:17:50.740800Z",
     "iopub.status.busy": "2023-06-02T11:17:50.738835Z",
     "iopub.status.idle": "2023-06-02T11:17:50.746357Z",
     "shell.execute_reply": "2023-06-02T11:17:50.745377Z",
     "shell.execute_reply.started": "2023-06-02T11:17:50.740765Z"
    },
    "trusted": true,
    "ExecuteTime": {
     "end_time": "2024-03-25T07:17:41.705456864Z",
     "start_time": "2024-03-25T07:17:41.688968649Z"
    }
   },
   "outputs": [],
   "source": [
    "accuracy = (tp + tn) / (tp + tn + fp + fn)\n",
    "precision = tp / (tp + fp)\n",
    "recall = tp / (tp + fn)\n",
    "f1_score = 2 * (precision * recall) / (precision + recall)"
   ]
  },
  {
   "cell_type": "code",
   "execution_count": 28,
   "metadata": {
    "execution": {
     "iopub.execute_input": "2023-06-02T11:17:50.748424Z",
     "iopub.status.busy": "2023-06-02T11:17:50.747603Z",
     "iopub.status.idle": "2023-06-02T11:17:50.759339Z",
     "shell.execute_reply": "2023-06-02T11:17:50.758413Z",
     "shell.execute_reply.started": "2023-06-02T11:17:50.748391Z"
    },
    "trusted": true,
    "ExecuteTime": {
     "end_time": "2024-03-25T07:17:41.792513965Z",
     "start_time": "2024-03-25T07:17:41.692624189Z"
    }
   },
   "outputs": [
    {
     "name": "stdout",
     "output_type": "stream",
     "text": [
      "Accuracy : 99.77609592592593\n",
      "Precision : 77.2877898813131\n",
      "Recall : 85.57381749436715\n",
      "F1 Score : 81.22001658242394\n"
     ]
    }
   ],
   "source": [
    "print(f\"Accuracy : {accuracy*100}\")\n",
    "print(f\"Precision : {precision*100}\")\n",
    "print(f\"Recall : {recall*100}\")\n",
    "print(f\"F1 Score : {f1_score*100}\")"
   ]
  },
  {
   "cell_type": "markdown",
   "metadata": {},
   "source": [
    "## Classification Report"
   ]
  },
  {
   "cell_type": "code",
   "execution_count": 29,
   "metadata": {
    "execution": {
     "iopub.execute_input": "2023-06-02T11:17:50.761385Z",
     "iopub.status.busy": "2023-06-02T11:17:50.760952Z",
     "iopub.status.idle": "2023-06-02T11:17:50.769676Z",
     "shell.execute_reply": "2023-06-02T11:17:50.768779Z",
     "shell.execute_reply.started": "2023-06-02T11:17:50.761252Z"
    },
    "trusted": true,
    "ExecuteTime": {
     "end_time": "2024-03-25T07:19:10.272348468Z",
     "start_time": "2024-03-25T07:17:41.736347689Z"
    }
   },
   "outputs": [
    {
     "ename": "ValueError",
     "evalue": "Found input variables with inconsistent numbers of samples: [375, 640]",
     "output_type": "error",
     "traceback": [
      "\u001B[0;31m---------------------------------------------------------------------------\u001B[0m",
      "\u001B[0;31mValueError\u001B[0m                                Traceback (most recent call last)",
      "Cell \u001B[0;32mIn[29], line 62\u001B[0m\n\u001B[1;32m     59\u001B[0m     \u001B[38;5;28;01mreturn\u001B[39;00m evaluation_results\n\u001B[1;32m     61\u001B[0m num_entries \u001B[38;5;241m=\u001B[39m \u001B[38;5;241m5\u001B[39m  \u001B[38;5;66;03m# Specify the number of entries to evaluate\u001B[39;00m\n\u001B[0;32m---> 62\u001B[0m evaluation_results \u001B[38;5;241m=\u001B[39m \u001B[43mcompute_metrics\u001B[49m\u001B[43m(\u001B[49m\u001B[43mnodel\u001B[49m\u001B[43m,\u001B[49m\u001B[43m \u001B[49m\u001B[43mtest_dataloader\u001B[49m\u001B[43m,\u001B[49m\u001B[43m \u001B[49m\u001B[43mnum_entries\u001B[49m\u001B[43m,\u001B[49m\u001B[43m \u001B[49m\u001B[43mthreshold\u001B[49m\u001B[38;5;241;43m=\u001B[39;49m\u001B[38;5;241;43m0.33\u001B[39;49m\u001B[43m)\u001B[49m\n\u001B[1;32m     64\u001B[0m \u001B[38;5;66;03m# Print the evaluation results\u001B[39;00m\n\u001B[1;32m     65\u001B[0m \u001B[38;5;28;01mfor\u001B[39;00m metric, value \u001B[38;5;129;01min\u001B[39;00m evaluation_results\u001B[38;5;241m.\u001B[39mitems():\n",
      "Cell \u001B[0;32mIn[29], line 47\u001B[0m, in \u001B[0;36mcompute_metrics\u001B[0;34m(model, dataloader, num_entries, threshold)\u001B[0m\n\u001B[1;32m     41\u001B[0m y_pred \u001B[38;5;241m=\u001B[39m np\u001B[38;5;241m.\u001B[39mconcatenate([prediction\u001B[38;5;241m.\u001B[39mcpu() \u001B[38;5;28;01mfor\u001B[39;00m data \u001B[38;5;129;01min\u001B[39;00m dataloader \u001B[38;5;28;01mfor\u001B[39;00m prediction \u001B[38;5;129;01min\u001B[39;00m predictions])\n\u001B[1;32m     43\u001B[0m \u001B[38;5;66;03m# y_true = np.concatenate([targets for targets in dataloader.dataset])\u001B[39;00m\n\u001B[1;32m     44\u001B[0m \u001B[38;5;66;03m# y_pred = np.concatenate([predictions for predictions in predictions])\u001B[39;00m\n\u001B[0;32m---> 47\u001B[0m cm \u001B[38;5;241m=\u001B[39m \u001B[43mconfusion_matrix\u001B[49m\u001B[43m(\u001B[49m\u001B[43my_true\u001B[49m\u001B[43m,\u001B[49m\u001B[43m \u001B[49m\u001B[43my_pred\u001B[49m\u001B[43m)\u001B[49m\n\u001B[1;32m     49\u001B[0m \u001B[38;5;66;03m# Compute classification report\u001B[39;00m\n\u001B[1;32m     50\u001B[0m class_names \u001B[38;5;241m=\u001B[39m [\u001B[38;5;124m'\u001B[39m\u001B[38;5;124mBackground\u001B[39m\u001B[38;5;124m'\u001B[39m, \u001B[38;5;124m'\u001B[39m\u001B[38;5;124mTumor\u001B[39m\u001B[38;5;124m'\u001B[39m]\n",
      "File \u001B[0;32m~/anaconda3/envs/hamin/lib/python3.8/site-packages/sklearn/utils/_param_validation.py:214\u001B[0m, in \u001B[0;36mvalidate_params.<locals>.decorator.<locals>.wrapper\u001B[0;34m(*args, **kwargs)\u001B[0m\n\u001B[1;32m    208\u001B[0m \u001B[38;5;28;01mtry\u001B[39;00m:\n\u001B[1;32m    209\u001B[0m     \u001B[38;5;28;01mwith\u001B[39;00m config_context(\n\u001B[1;32m    210\u001B[0m         skip_parameter_validation\u001B[38;5;241m=\u001B[39m(\n\u001B[1;32m    211\u001B[0m             prefer_skip_nested_validation \u001B[38;5;129;01mor\u001B[39;00m global_skip_validation\n\u001B[1;32m    212\u001B[0m         )\n\u001B[1;32m    213\u001B[0m     ):\n\u001B[0;32m--> 214\u001B[0m         \u001B[38;5;28;01mreturn\u001B[39;00m \u001B[43mfunc\u001B[49m\u001B[43m(\u001B[49m\u001B[38;5;241;43m*\u001B[39;49m\u001B[43margs\u001B[49m\u001B[43m,\u001B[49m\u001B[43m \u001B[49m\u001B[38;5;241;43m*\u001B[39;49m\u001B[38;5;241;43m*\u001B[39;49m\u001B[43mkwargs\u001B[49m\u001B[43m)\u001B[49m\n\u001B[1;32m    215\u001B[0m \u001B[38;5;28;01mexcept\u001B[39;00m InvalidParameterError \u001B[38;5;28;01mas\u001B[39;00m e:\n\u001B[1;32m    216\u001B[0m     \u001B[38;5;66;03m# When the function is just a wrapper around an estimator, we allow\u001B[39;00m\n\u001B[1;32m    217\u001B[0m     \u001B[38;5;66;03m# the function to delegate validation to the estimator, but we replace\u001B[39;00m\n\u001B[1;32m    218\u001B[0m     \u001B[38;5;66;03m# the name of the estimator by the name of the function in the error\u001B[39;00m\n\u001B[1;32m    219\u001B[0m     \u001B[38;5;66;03m# message to avoid confusion.\u001B[39;00m\n\u001B[1;32m    220\u001B[0m     msg \u001B[38;5;241m=\u001B[39m re\u001B[38;5;241m.\u001B[39msub(\n\u001B[1;32m    221\u001B[0m         \u001B[38;5;124mr\u001B[39m\u001B[38;5;124m\"\u001B[39m\u001B[38;5;124mparameter of \u001B[39m\u001B[38;5;124m\\\u001B[39m\u001B[38;5;124mw+ must be\u001B[39m\u001B[38;5;124m\"\u001B[39m,\n\u001B[1;32m    222\u001B[0m         \u001B[38;5;124mf\u001B[39m\u001B[38;5;124m\"\u001B[39m\u001B[38;5;124mparameter of \u001B[39m\u001B[38;5;132;01m{\u001B[39;00mfunc\u001B[38;5;241m.\u001B[39m\u001B[38;5;18m__qualname__\u001B[39m\u001B[38;5;132;01m}\u001B[39;00m\u001B[38;5;124m must be\u001B[39m\u001B[38;5;124m\"\u001B[39m,\n\u001B[1;32m    223\u001B[0m         \u001B[38;5;28mstr\u001B[39m(e),\n\u001B[1;32m    224\u001B[0m     )\n",
      "File \u001B[0;32m~/anaconda3/envs/hamin/lib/python3.8/site-packages/sklearn/metrics/_classification.py:326\u001B[0m, in \u001B[0;36mconfusion_matrix\u001B[0;34m(y_true, y_pred, labels, sample_weight, normalize)\u001B[0m\n\u001B[1;32m    231\u001B[0m \u001B[38;5;129m@validate_params\u001B[39m(\n\u001B[1;32m    232\u001B[0m     {\n\u001B[1;32m    233\u001B[0m         \u001B[38;5;124m\"\u001B[39m\u001B[38;5;124my_true\u001B[39m\u001B[38;5;124m\"\u001B[39m: [\u001B[38;5;124m\"\u001B[39m\u001B[38;5;124marray-like\u001B[39m\u001B[38;5;124m\"\u001B[39m],\n\u001B[0;32m   (...)\u001B[0m\n\u001B[1;32m    242\u001B[0m     y_true, y_pred, \u001B[38;5;241m*\u001B[39m, labels\u001B[38;5;241m=\u001B[39m\u001B[38;5;28;01mNone\u001B[39;00m, sample_weight\u001B[38;5;241m=\u001B[39m\u001B[38;5;28;01mNone\u001B[39;00m, normalize\u001B[38;5;241m=\u001B[39m\u001B[38;5;28;01mNone\u001B[39;00m\n\u001B[1;32m    243\u001B[0m ):\n\u001B[1;32m    244\u001B[0m \u001B[38;5;250m    \u001B[39m\u001B[38;5;124;03m\"\"\"Compute confusion matrix to evaluate the accuracy of a classification.\u001B[39;00m\n\u001B[1;32m    245\u001B[0m \n\u001B[1;32m    246\u001B[0m \u001B[38;5;124;03m    By definition a confusion matrix :math:`C` is such that :math:`C_{i, j}`\u001B[39;00m\n\u001B[0;32m   (...)\u001B[0m\n\u001B[1;32m    324\u001B[0m \u001B[38;5;124;03m    (0, 2, 1, 1)\u001B[39;00m\n\u001B[1;32m    325\u001B[0m \u001B[38;5;124;03m    \"\"\"\u001B[39;00m\n\u001B[0;32m--> 326\u001B[0m     y_type, y_true, y_pred \u001B[38;5;241m=\u001B[39m \u001B[43m_check_targets\u001B[49m\u001B[43m(\u001B[49m\u001B[43my_true\u001B[49m\u001B[43m,\u001B[49m\u001B[43m \u001B[49m\u001B[43my_pred\u001B[49m\u001B[43m)\u001B[49m\n\u001B[1;32m    327\u001B[0m     \u001B[38;5;28;01mif\u001B[39;00m y_type \u001B[38;5;129;01mnot\u001B[39;00m \u001B[38;5;129;01min\u001B[39;00m (\u001B[38;5;124m\"\u001B[39m\u001B[38;5;124mbinary\u001B[39m\u001B[38;5;124m\"\u001B[39m, \u001B[38;5;124m\"\u001B[39m\u001B[38;5;124mmulticlass\u001B[39m\u001B[38;5;124m\"\u001B[39m):\n\u001B[1;32m    328\u001B[0m         \u001B[38;5;28;01mraise\u001B[39;00m \u001B[38;5;167;01mValueError\u001B[39;00m(\u001B[38;5;124m\"\u001B[39m\u001B[38;5;132;01m%s\u001B[39;00m\u001B[38;5;124m is not supported\u001B[39m\u001B[38;5;124m\"\u001B[39m \u001B[38;5;241m%\u001B[39m y_type)\n",
      "File \u001B[0;32m~/anaconda3/envs/hamin/lib/python3.8/site-packages/sklearn/metrics/_classification.py:84\u001B[0m, in \u001B[0;36m_check_targets\u001B[0;34m(y_true, y_pred)\u001B[0m\n\u001B[1;32m     57\u001B[0m \u001B[38;5;28;01mdef\u001B[39;00m \u001B[38;5;21m_check_targets\u001B[39m(y_true, y_pred):\n\u001B[1;32m     58\u001B[0m \u001B[38;5;250m    \u001B[39m\u001B[38;5;124;03m\"\"\"Check that y_true and y_pred belong to the same classification task.\u001B[39;00m\n\u001B[1;32m     59\u001B[0m \n\u001B[1;32m     60\u001B[0m \u001B[38;5;124;03m    This converts multiclass or binary types to a common shape, and raises a\u001B[39;00m\n\u001B[0;32m   (...)\u001B[0m\n\u001B[1;32m     82\u001B[0m \u001B[38;5;124;03m    y_pred : array or indicator matrix\u001B[39;00m\n\u001B[1;32m     83\u001B[0m \u001B[38;5;124;03m    \"\"\"\u001B[39;00m\n\u001B[0;32m---> 84\u001B[0m     \u001B[43mcheck_consistent_length\u001B[49m\u001B[43m(\u001B[49m\u001B[43my_true\u001B[49m\u001B[43m,\u001B[49m\u001B[43m \u001B[49m\u001B[43my_pred\u001B[49m\u001B[43m)\u001B[49m\n\u001B[1;32m     85\u001B[0m     type_true \u001B[38;5;241m=\u001B[39m type_of_target(y_true, input_name\u001B[38;5;241m=\u001B[39m\u001B[38;5;124m\"\u001B[39m\u001B[38;5;124my_true\u001B[39m\u001B[38;5;124m\"\u001B[39m)\n\u001B[1;32m     86\u001B[0m     type_pred \u001B[38;5;241m=\u001B[39m type_of_target(y_pred, input_name\u001B[38;5;241m=\u001B[39m\u001B[38;5;124m\"\u001B[39m\u001B[38;5;124my_pred\u001B[39m\u001B[38;5;124m\"\u001B[39m)\n",
      "File \u001B[0;32m~/anaconda3/envs/hamin/lib/python3.8/site-packages/sklearn/utils/validation.py:407\u001B[0m, in \u001B[0;36mcheck_consistent_length\u001B[0;34m(*arrays)\u001B[0m\n\u001B[1;32m    405\u001B[0m uniques \u001B[38;5;241m=\u001B[39m np\u001B[38;5;241m.\u001B[39munique(lengths)\n\u001B[1;32m    406\u001B[0m \u001B[38;5;28;01mif\u001B[39;00m \u001B[38;5;28mlen\u001B[39m(uniques) \u001B[38;5;241m>\u001B[39m \u001B[38;5;241m1\u001B[39m:\n\u001B[0;32m--> 407\u001B[0m     \u001B[38;5;28;01mraise\u001B[39;00m \u001B[38;5;167;01mValueError\u001B[39;00m(\n\u001B[1;32m    408\u001B[0m         \u001B[38;5;124m\"\u001B[39m\u001B[38;5;124mFound input variables with inconsistent numbers of samples: \u001B[39m\u001B[38;5;132;01m%r\u001B[39;00m\u001B[38;5;124m\"\u001B[39m\n\u001B[1;32m    409\u001B[0m         \u001B[38;5;241m%\u001B[39m [\u001B[38;5;28mint\u001B[39m(l) \u001B[38;5;28;01mfor\u001B[39;00m l \u001B[38;5;129;01min\u001B[39;00m lengths]\n\u001B[1;32m    410\u001B[0m     )\n",
      "\u001B[0;31mValueError\u001B[0m: Found input variables with inconsistent numbers of samples: [375, 640]"
     ]
    }
   ],
   "source": [
    "import torch\n",
    "import numpy as np\n",
    "from sklearn.metrics import confusion_matrix, classification_report\n",
    "\n",
    "gc.collect()\n",
    "\n",
    "def compute_metrics(model, dataloader, num_entries, threshold=0.33):\n",
    "    device = torch.device('cuda' if torch.cuda.is_available() else 'cpu')\n",
    "\n",
    "    predictions = []\n",
    "\n",
    "    # Counter to keep track of the number of entries processed\n",
    "    counter = 0  \n",
    "\n",
    "    with torch.no_grad():\n",
    "        for data in dataloader:\n",
    "            if counter >= num_entries:\n",
    "                break  # Stop processing entries if the desired number is reached\n",
    "\n",
    "            images, targets = data['image'], data['mask']\n",
    "            images = images.to(device)\n",
    "            targets = targets.to(device)\n",
    "\n",
    "            logits = model(images)\n",
    "            probabilities = torch.sigmoid(logits)\n",
    "            prediction = (probabilities >= threshold).float()\n",
    "\n",
    "            prediction =  prediction.cpu()\n",
    "            targets = targets.cpu()\n",
    "            \n",
    "            predictions.append(prediction)\n",
    "\n",
    "            model.zero_grad()\n",
    "            del images, targets, logits, probabilities, prediction\n",
    "            torch.cuda.empty_cache()\n",
    "\n",
    "            counter += 1\n",
    "\n",
    "    # Compute confusion matrix\n",
    "    y_true = np.concatenate([targets.cpu() for data in dataloader for targets in data['mask']])\n",
    "    y_pred = np.concatenate([prediction.cpu() for data in dataloader for prediction in predictions])\n",
    "    \n",
    "    # y_true = np.concatenate([targets for targets in dataloader.dataset])\n",
    "    # y_pred = np.concatenate([predictions for predictions in predictions])\n",
    "\n",
    "    \n",
    "    cm = confusion_matrix(y_true, y_pred)\n",
    "    \n",
    "    # Compute classification report\n",
    "    class_names = ['Background', 'Tumor']\n",
    "    report = classification_report(y_true, y_pred, target_names=class_names)\n",
    "\n",
    "    # Return evaluation metrics, confusion matrix, and classification report\n",
    "    evaluation_results = {\n",
    "        'Confusion Matrix': cm,\n",
    "        'Classification Report': report\n",
    "    }\n",
    "\n",
    "    return evaluation_results\n",
    "\n",
    "num_entries = 5  # Specify the number of entries to evaluate\n",
    "evaluation_results = compute_metrics(nodel, test_dataloader, num_entries, threshold=0.33)\n",
    "\n",
    "# Print the evaluation results\n",
    "for metric, value in evaluation_results.items():\n",
    "    print(f'{metric}: {value}')\n"
   ]
  },
  {
   "cell_type": "markdown",
   "metadata": {},
   "source": [
    "# Experiments and Results"
   ]
  },
  {
   "cell_type": "code",
   "execution_count": null,
   "metadata": {
    "execution": {
     "iopub.execute_input": "2023-06-02T11:17:50.771487Z",
     "iopub.status.busy": "2023-06-02T11:17:50.771065Z",
     "iopub.status.idle": "2023-06-02T11:17:50.783313Z",
     "shell.execute_reply": "2023-06-02T11:17:50.782660Z",
     "shell.execute_reply.started": "2023-06-02T11:17:50.771456Z"
    },
    "trusted": true,
    "ExecuteTime": {
     "start_time": "2024-03-25T07:19:10.248344409Z"
    }
   },
   "outputs": [],
   "source": [
    "def compute_scores_per_classes(model,          # nodel which is UNeT3D \n",
    "                               dataloader,     # tuple consisting of ( id , image tensor , mask tensor )\n",
    "                               classes):       # classes : WT , TC , ET \n",
    "    \"\"\"\n",
    "    Compute Dice and Jaccard coefficients for each class.\n",
    "    Params:\n",
    "        model: neural net for make predictions.\n",
    "        dataloader: dataset object to load data from.\n",
    "        classes: list with classes.\n",
    "        Returns: dictionaries with dice and jaccard coefficients for each class for each slice.\n",
    "    \"\"\"\n",
    "    device = 'cuda' if torch.cuda.is_available() else 'cpu'\n",
    "    dice_scores_per_classes = {key: list() for key in classes}\n",
    "    iou_scores_per_classes = {key: list() for key in classes}\n",
    "\n",
    "    with torch.no_grad():\n",
    "        for i, data in enumerate(dataloader):\n",
    "            imgs, targets = data['image'], data['mask']\n",
    "            imgs, targets = imgs.to(device), targets.to(device)\n",
    "            logits = model(imgs)\n",
    "            logits = logits.detach().cpu().numpy()\n",
    "            targets = targets.detach().cpu().numpy()\n",
    "            \n",
    "            # Now finding the overlap between the raw prediction i.e. logit & the mask i.e. target & finding the dice & iou scores \n",
    "            dice_scores = dice_coef_metric_per_classes(logits, targets)\n",
    "            iou_scores = jaccard_coef_metric_per_classes(logits, targets)\n",
    "\n",
    "            # storing both dice & iou scores in the list declared \n",
    "            for key in dice_scores.keys():\n",
    "                dice_scores_per_classes[key].extend(dice_scores[key])\n",
    "\n",
    "            for key in iou_scores.keys():\n",
    "                iou_scores_per_classes[key].extend(iou_scores[key])\n",
    "\n",
    "    return dice_scores_per_classes, iou_scores_per_classes "
   ]
  },
  {
   "cell_type": "code",
   "execution_count": null,
   "metadata": {
    "execution": {
     "iopub.execute_input": "2023-06-02T11:17:50.785101Z",
     "iopub.status.busy": "2023-06-02T11:17:50.784454Z",
     "iopub.status.idle": "2023-06-02T11:17:50.812207Z",
     "shell.execute_reply": "2023-06-02T11:17:50.811304Z",
     "shell.execute_reply.started": "2023-06-02T11:17:50.785068Z"
    },
    "trusted": true,
    "ExecuteTime": {
     "start_time": "2024-03-25T07:19:10.248403700Z"
    }
   },
   "outputs": [],
   "source": [
    "val_dataloader = get_dataloader(BratsDataset, 'train_data.csv', phase='valid', fold=0)\n",
    "len(dataloader)"
   ]
  },
  {
   "cell_type": "code",
   "execution_count": null,
   "metadata": {
    "execution": {
     "iopub.execute_input": "2023-06-02T11:17:50.813819Z",
     "iopub.status.busy": "2023-06-02T11:17:50.813439Z",
     "iopub.status.idle": "2023-06-02T11:17:50.820579Z",
     "shell.execute_reply": "2023-06-02T11:17:50.819444Z",
     "shell.execute_reply.started": "2023-06-02T11:17:50.813771Z"
    },
    "trusted": true,
    "ExecuteTime": {
     "start_time": "2024-03-25T07:19:10.248456680Z"
    }
   },
   "outputs": [],
   "source": [
    "nodel.eval();"
   ]
  },
  {
   "cell_type": "code",
   "execution_count": null,
   "metadata": {
    "execution": {
     "iopub.execute_input": "2023-06-02T11:17:50.822519Z",
     "iopub.status.busy": "2023-06-02T11:17:50.822114Z",
     "iopub.status.idle": "2023-06-02T11:19:01.517016Z",
     "shell.execute_reply": "2023-06-02T11:19:01.515797Z",
     "shell.execute_reply.started": "2023-06-02T11:17:50.822488Z"
    },
    "trusted": true,
    "ExecuteTime": {
     "start_time": "2024-03-25T07:19:10.248474502Z"
    }
   },
   "outputs": [],
   "source": [
    "%%time\n",
    "dice_scores_per_classes, iou_scores_per_classes = compute_scores_per_classes(\n",
    "    nodel, val_dataloader, ['WT', 'TC', 'ET']\n",
    "    )"
   ]
  },
  {
   "cell_type": "code",
   "execution_count": null,
   "metadata": {
    "execution": {
     "iopub.execute_input": "2023-06-02T11:19:01.519594Z",
     "iopub.status.busy": "2023-06-02T11:19:01.518950Z",
     "iopub.status.idle": "2023-06-02T11:19:01.545354Z",
     "shell.execute_reply": "2023-06-02T11:19:01.544282Z",
     "shell.execute_reply.started": "2023-06-02T11:19:01.519552Z"
    },
    "trusted": true,
    "ExecuteTime": {
     "start_time": "2024-03-25T07:19:10.248491241Z"
    }
   },
   "outputs": [],
   "source": [
    "dice_df = pd.DataFrame(dice_scores_per_classes)\n",
    "dice_df.columns = ['WT dice', 'TC dice', 'ET dice']\n",
    "\n",
    "iou_df = pd.DataFrame(iou_scores_per_classes)\n",
    "iou_df.columns = ['WT jaccard', 'TC jaccard', 'ET jaccard']\n",
    "# CONCAT BOTH THE COLUMNS ALONG AXIS 1 & SORT THE TWO \n",
    "val_metics_df = pd.concat([dice_df, iou_df], axis=1, sort=True)\n",
    "val_metics_df = val_metics_df.loc[:, ['WT dice', 'WT jaccard', \n",
    "                                      'TC dice', 'TC jaccard', \n",
    "                                      'ET dice', 'ET jaccard']]\n",
    "val_metics_df.sample(5)"
   ]
  },
  {
   "cell_type": "code",
   "execution_count": null,
   "metadata": {
    "execution": {
     "iopub.execute_input": "2023-06-02T11:19:01.547635Z",
     "iopub.status.busy": "2023-06-02T11:19:01.547241Z",
     "iopub.status.idle": "2023-06-02T11:19:02.369507Z",
     "shell.execute_reply": "2023-06-02T11:19:02.368461Z",
     "shell.execute_reply.started": "2023-06-02T11:19:01.547600Z"
    },
    "trusted": true,
    "ExecuteTime": {
     "start_time": "2024-03-25T07:19:10.248507328Z"
    }
   },
   "outputs": [],
   "source": [
    "colors = ['#35FCFF', '#FF355A', '#96C503', '#C5035B', '#28B463', '#35FFAF']\n",
    "palette = sns.color_palette(colors, 6)\n",
    "\n",
    "fig, ax = plt.subplots(figsize=(12, 6));\n",
    "sns.barplot(x=val_metics_df.mean().index, y=val_metics_df.mean(), palette=palette, ax=ax);\n",
    "ax.set_xticklabels(val_metics_df.columns, fontsize=14, rotation=15);\n",
    "ax.set_title(\"Dice and Jaccard Coefficients from Validation\", fontsize=20)\n",
    "\n",
    "for idx, p in enumerate(ax.patches):\n",
    "        percentage = '{:.1f}%'.format(100 * val_metics_df.mean().values[idx])\n",
    "        x = p.get_x() + p.get_width() / 2 - 0.15\n",
    "        y = p.get_y() + p.get_height()\n",
    "        ax.annotate(percentage, (x, y), fontsize=15, fontweight=\"bold\")\n",
    "\n",
    "fig.savefig(\"result1.png\", format=\"png\",  pad_inches=0.2, transparent=False, bbox_inches='tight')\n",
    "fig.savefig(\"result1.svg\", format=\"svg\",  pad_inches=0.2, transparent=False, bbox_inches='tight')"
   ]
  },
  {
   "cell_type": "markdown",
   "metadata": {},
   "source": [
    "# Computing the brain tumour segmented masks"
   ]
  },
  {
   "cell_type": "code",
   "execution_count": null,
   "metadata": {
    "execution": {
     "iopub.execute_input": "2023-06-02T11:19:02.371467Z",
     "iopub.status.busy": "2023-06-02T11:19:02.370846Z",
     "iopub.status.idle": "2023-06-02T11:19:02.380729Z",
     "shell.execute_reply": "2023-06-02T11:19:02.379812Z",
     "shell.execute_reply.started": "2023-06-02T11:19:02.371433Z"
    },
    "trusted": true,
    "ExecuteTime": {
     "start_time": "2024-03-25T07:19:10.248523169Z"
    }
   },
   "outputs": [],
   "source": [
    "def compute_results(model,\n",
    "                    dataloader,\n",
    "                    treshold=0.33):\n",
    "\n",
    "    device = 'cuda' if torch.cuda.is_available() else 'cpu'\n",
    "    results = {\"Id\": [],\"image\": [], \"GT\": [],\"Prediction\": []}\n",
    "\n",
    "    with torch.no_grad():\n",
    "        for i, data in enumerate(dataloader):\n",
    "            id_, imgs, targets = data['Id'], data['image'], data['mask']\n",
    "            imgs, targets = imgs.to(device), targets.to(device)\n",
    "            logits = model(imgs)\n",
    "            probs = torch.sigmoid(logits)\n",
    "            \n",
    "            predictions = (probs >= treshold).float()\n",
    "            predictions =  predictions.cpu()\n",
    "            targets = targets.cpu()\n",
    "            \n",
    "            results[\"Id\"].append(id_)\n",
    "            results[\"image\"].append(imgs.cpu())\n",
    "            results[\"GT\"].append(targets)\n",
    "            results[\"Prediction\"].append(predictions)\n",
    "            \n",
    "            # only 5 pars\n",
    "            if (i > 5):\n",
    "                return results\n",
    "        return results"
   ]
  },
  {
   "cell_type": "code",
   "execution_count": null,
   "metadata": {
    "execution": {
     "iopub.execute_input": "2023-06-02T11:19:02.382682Z",
     "iopub.status.busy": "2023-06-02T11:19:02.382264Z",
     "iopub.status.idle": "2023-06-02T11:19:02.393455Z",
     "shell.execute_reply": "2023-06-02T11:19:02.392573Z",
     "shell.execute_reply.started": "2023-06-02T11:19:02.382649Z"
    },
    "trusted": true,
    "ExecuteTime": {
     "start_time": "2024-03-25T07:19:10.248540474Z"
    }
   },
   "outputs": [],
   "source": [
    "# prediction time starts(p0) \n",
    "p0 = time.time()"
   ]
  },
  {
   "cell_type": "code",
   "execution_count": null,
   "metadata": {
    "execution": {
     "iopub.execute_input": "2023-06-02T11:19:02.395449Z",
     "iopub.status.busy": "2023-06-02T11:19:02.395094Z",
     "iopub.status.idle": "2023-06-02T11:19:30.046752Z",
     "shell.execute_reply": "2023-06-02T11:19:30.045084Z",
     "shell.execute_reply.started": "2023-06-02T11:19:02.395416Z"
    },
    "trusted": true,
    "ExecuteTime": {
     "start_time": "2024-03-25T07:19:10.248598971Z"
    }
   },
   "outputs": [],
   "source": [
    "results = compute_results(\n",
    "    nodel, val_dataloader, 0.33)"
   ]
  },
  {
   "cell_type": "code",
   "execution_count": null,
   "metadata": {
    "execution": {
     "iopub.execute_input": "2023-06-02T11:19:30.054833Z",
     "iopub.status.busy": "2023-06-02T11:19:30.054351Z",
     "iopub.status.idle": "2023-06-02T11:19:30.067825Z",
     "shell.execute_reply": "2023-06-02T11:19:30.066749Z",
     "shell.execute_reply.started": "2023-06-02T11:19:30.054784Z"
    },
    "trusted": true,
    "ExecuteTime": {
     "start_time": "2024-03-25T07:19:10.248615947Z"
    }
   },
   "outputs": [],
   "source": [
    "# total prediction time(pt) \n",
    "p1 = time.time()\n",
    "pt = p1 - p0 \n",
    "print(\"Model prediction time ; \",pt ) "
   ]
  },
  {
   "cell_type": "code",
   "execution_count": null,
   "metadata": {
    "execution": {
     "iopub.execute_input": "2023-06-02T11:19:30.069663Z",
     "iopub.status.busy": "2023-06-02T11:19:30.069104Z",
     "iopub.status.idle": "2023-06-02T11:19:30.087003Z",
     "shell.execute_reply": "2023-06-02T11:19:30.085993Z",
     "shell.execute_reply.started": "2023-06-02T11:19:30.069630Z"
    },
    "trusted": true,
    "ExecuteTime": {
     "start_time": "2024-03-25T07:19:10.248632187Z"
    }
   },
   "outputs": [],
   "source": [
    "for id_, img, gt, prediction in zip(results['Id'][4:],\n",
    "                    results['image'][4:],\n",
    "                    results['GT'][4:],\n",
    "                    results['Prediction'][4:]\n",
    "                    ):\n",
    "    \n",
    "    print(id_)\n",
    "    break"
   ]
  },
  {
   "cell_type": "markdown",
   "metadata": {},
   "source": [
    "# Visualizing the predicted segmented masks"
   ]
  },
  {
   "cell_type": "code",
   "execution_count": null,
   "metadata": {
    "execution": {
     "iopub.execute_input": "2023-06-02T11:19:30.093047Z",
     "iopub.status.busy": "2023-06-02T11:19:30.091089Z",
     "iopub.status.idle": "2023-06-02T11:19:41.699301Z",
     "shell.execute_reply": "2023-06-02T11:19:41.698425Z",
     "shell.execute_reply.started": "2023-06-02T11:19:30.093011Z"
    },
    "trusted": true,
    "ExecuteTime": {
     "start_time": "2024-03-25T07:19:10.248648663Z"
    }
   },
   "outputs": [],
   "source": [
    "show_result = ShowResult()\n",
    "show_result.plot(img, gt, prediction)"
   ]
  },
  {
   "cell_type": "markdown",
   "metadata": {},
   "source": [
    "# 3D SCATTER PLOT OF THE BRAIN TUMOUR WITH : \n",
    "#### 1. necrotic and non-enhancing tumor core (NCR/NET — label 1)\n",
    "#### 2. peritumoral edema (ED — label 2)\n",
    "#### 3. GD-enhancing tumor (ET — label 4)"
   ]
  },
  {
   "cell_type": "code",
   "execution_count": null,
   "metadata": {
    "execution": {
     "iopub.execute_input": "2023-06-02T11:19:41.701384Z",
     "iopub.status.busy": "2023-06-02T11:19:41.700847Z",
     "iopub.status.idle": "2023-06-02T11:19:44.162480Z",
     "shell.execute_reply": "2023-06-02T11:19:44.161514Z",
     "shell.execute_reply.started": "2023-06-02T11:19:41.701353Z"
    },
    "trusted": true,
    "ExecuteTime": {
     "start_time": "2024-03-25T07:19:10.248664821Z"
    }
   },
   "outputs": [],
   "source": [
    "class ImageReader:\n",
    "    def __init__(self, root:str, img_size:int=256, normalize:bool=False, single_class:bool=False):\n",
    "        pad_size = 256 if img_size > 256 else 224\n",
    "        self.resize = A.Compose(\n",
    "            [\n",
    "                A.PadIfNeeded(min_height=pad_size, min_width=pad_size, value=0),\n",
    "                A.Resize(img_size, img_size)\n",
    "            ]\n",
    "        )\n",
    "        self.normalize=normalize\n",
    "        self.single_class=single_class\n",
    "        self.root=root\n",
    "        \n",
    "    def read_file(self, path:str) -> dict:\n",
    "        scan_type = path.split('_')[-1]\n",
    "        raw_image = nib.load(path).get_fdata()\n",
    "        raw_mask = nib.load(path.replace(scan_type, 'seg.nii')).get_fdata()\n",
    "        processed_frames, processed_masks = [], []\n",
    "        for frame_idx in range(raw_image.shape[2]):\n",
    "            frame = raw_image[:, :, frame_idx]\n",
    "            mask = raw_mask[:, :, frame_idx]\n",
    "            if self.normalize:\n",
    "                if frame.max() > 0:\n",
    "                    frame = frame/frame.max()\n",
    "                frame = frame.astype(np.float32)\n",
    "            else:\n",
    "                frame = frame.astype(np.uint8)\n",
    "            resized = self.resize(image=frame, mask=mask)\n",
    "            processed_frames.append(resized['image'])\n",
    "            processed_masks.append(1*(resized['mask'] > 0) if self.single_class else resized['mask'])\n",
    "        return {\n",
    "            'scan': np.stack(processed_frames, 0),\n",
    "            'segmentation': np.stack(processed_masks, 0),\n",
    "            'orig_shape': raw_image.shape\n",
    "        }\n",
    "    \n",
    "    def load_patient_scan(self, idx:int, scan_type:str='flair') -> dict:\n",
    "        patient_id = str(1).zfill(3) \n",
    "        scan_filename = f'{self.root}/BraTS20_Training_{patient_id}/BraTS20_Training_{patient_id}_{scan_type}.nii'\n",
    "        return self.read_file(scan_filename)\n",
    "    \n",
    "import plotly.graph_objects as go\n",
    "import numpy as np\n",
    "import plotly\n",
    "\n",
    "\n",
    "def generate_3d_scatter(\n",
    "    x:np.array, y:np.array, z:np.array, colors:np.array,\n",
    "    size:int=3, opacity:float=0.2, scale:str='Teal',\n",
    "    hover:str='skip', name:str='MRI'\n",
    ") -> go.Scatter3d:\n",
    "    return go.Scatter3d(\n",
    "        x=x, y=y, z=z,\n",
    "        mode='markers', hoverinfo=hover,\n",
    "        marker = dict(\n",
    "            size=size, opacity=opacity,\n",
    "            color=colors, colorscale=scale\n",
    "        ),\n",
    "        name=name\n",
    "    )\n",
    "\n",
    "\n",
    "class ImageViewer3d():\n",
    "    def __init__(\n",
    "        self, reader:ImageReader, mri_downsample:int=10, mri_colorscale:str='Ice'\n",
    "    ) -> None:\n",
    "        self.reader = reader\n",
    "        self.mri_downsample = mri_downsample\n",
    "        self.mri_colorscale = mri_colorscale\n",
    "\n",
    "    def load_clean_mri(self, image:np.array, orig_dim:int) -> dict:\n",
    "        shape_offset = image.shape[1]/orig_dim\n",
    "        z, x, y = (image > 0).nonzero()\n",
    "        # only (1/mri_downsample) is sampled for the resulting image\n",
    "        x, y, z = x[::self.mri_downsample], y[::self.mri_downsample], z[::self.mri_downsample]\n",
    "        colors = image[z, x, y]\n",
    "        return dict(x=x/shape_offset, y=y/shape_offset, z=z, colors=colors)\n",
    "    def load_tumor_segmentation(self, image:np.array, orig_dim:int) -> dict:\n",
    "        tumors = {}\n",
    "        shape_offset = image.shape[1]/orig_dim\n",
    "        # 1/1, 1/3 si 1/5 pixeli pentru clasele tumorii  1(nucleu necrotic), 2(edem) si 4(tumoare de amplificare)\n",
    "        sampling = {\n",
    "            1: 1, 2: 3, 4: 5\n",
    "        }\n",
    "        for class_idx in sampling:\n",
    "            z, x, y = (image == class_idx).nonzero()\n",
    "            x, y, z = x[::sampling[class_idx]], y[::sampling[class_idx]], z[::sampling[class_idx]]\n",
    "            tumors[class_idx] = dict(\n",
    "                x=x/shape_offset, y=y/shape_offset, z=z,\n",
    "                colors=class_idx/4\n",
    "            )\n",
    "        return tumors\n",
    "    def collect_patient_data(self, scan:dict) -> tuple:\n",
    "        clean_mri = self.load_clean_mri(scan['scan'], scan['orig_shape'][0])\n",
    "        tumors = self.load_tumor_segmentation(scan['segmentation'], scan['orig_shape'][0])\n",
    "        markers_created = clean_mri['x'].shape[0] + sum(tumors[class_idx]['x'].shape[0] for class_idx in tumors)\n",
    "        return [\n",
    "            generate_3d_scatter(**clean_mri, scale=self.mri_colorscale, opacity=0.3, hover='skip', name='Brain MRI'),\n",
    "            generate_3d_scatter(**tumors[1], opacity=0.90, hover='all', name='Necrotic tumor core'),\n",
    "            generate_3d_scatter(**tumors[2], opacity=0.05, hover='all', name='Peritumoral invaded tissue'),\n",
    "            generate_3d_scatter(**tumors[4], opacity=0.30, hover='all', name='GD-enhancing tumor'),\n",
    "        ], markers_created\n",
    "    def get_3d_scan(self, patient_idx:int, scan_type:str='flair') -> go.Figure:\n",
    "        scan = self.reader.load_patient_scan(patient_idx, scan_type)\n",
    "        data, num_markers = self.collect_patient_data(scan)\n",
    "        fig = go.Figure(data=data)\n",
    "        fig.update_layout(\n",
    "            title=f\"[Patient id:{patient_idx}] brain MRI scan ({num_markers} points)\",\n",
    "            legend_title=\"Pixel class (click to enable/disable)\",\n",
    "            font=dict(\n",
    "                family=\"Courier New, monospace\",\n",
    "                size=14,\n",
    "            ),\n",
    "            margin=dict(\n",
    "                l=0,r=0,b=0,t=30\n",
    "            ),\n",
    "            legend=dict(itemsizing='constant')\n",
    "        )\n",
    "        return fig\n",
    "\n",
    "# tumour visualization time starts(tv0)\n",
    "tv0 = time.time() \n",
    "reader = ImageReader(config.train_root_dir, img_size=128, normalize=True, single_class=False)\n",
    "viewer = ImageViewer3d(reader, mri_downsample=25)\n",
    "\n",
    "fig = viewer.get_3d_scan(250, 'flair')\n",
    "plotly.offline.iplot(fig)"
   ]
  },
  {
   "cell_type": "code",
   "execution_count": null,
   "metadata": {
    "execution": {
     "iopub.execute_input": "2023-06-02T11:19:44.164764Z",
     "iopub.status.busy": "2023-06-02T11:19:44.163865Z",
     "iopub.status.idle": "2023-06-02T11:19:44.171631Z",
     "shell.execute_reply": "2023-06-02T11:19:44.169083Z",
     "shell.execute_reply.started": "2023-06-02T11:19:44.164732Z"
    },
    "trusted": true,
    "ExecuteTime": {
     "start_time": "2024-03-25T07:19:10.248678066Z"
    }
   },
   "outputs": [],
   "source": [
    "# total tumour visualization time(tvt) \n",
    "tv1 = time.time() \n",
    "tvt = tv1 - tv0 \n",
    "print(\"3D Scatter plot time : \", tvt ) "
   ]
  },
  {
   "cell_type": "code",
   "execution_count": null,
   "metadata": {
    "execution": {
     "iopub.execute_input": "2023-06-02T11:19:44.173814Z",
     "iopub.status.busy": "2023-06-02T11:19:44.173099Z",
     "iopub.status.idle": "2023-06-02T11:19:44.251137Z",
     "shell.execute_reply": "2023-06-02T11:19:44.250013Z",
     "shell.execute_reply.started": "2023-06-02T11:19:44.173773Z"
    },
    "trusted": true,
    "ExecuteTime": {
     "start_time": "2024-03-25T07:19:10.248689478Z"
    }
   },
   "outputs": [],
   "source": [
    "import plotly.offline as pyo\n",
    "import plotly.graph_objects as go\n",
    "\n",
    "# Save the scatter plot as an image file\n",
    "filename = '/kaggle/working/scatter_plot.png'  # Replace with your desired file path\n",
    "pyo.plot(fig, filename=filename, auto_open=False)"
   ]
  },
  {
   "cell_type": "code",
   "execution_count": null,
   "metadata": {
    "execution": {
     "iopub.execute_input": "2023-06-02T11:20:06.658430Z",
     "iopub.status.busy": "2023-06-02T11:20:06.657524Z",
     "iopub.status.idle": "2023-06-02T11:20:06.664945Z",
     "shell.execute_reply": "2023-06-02T11:20:06.663834Z",
     "shell.execute_reply.started": "2023-06-02T11:20:06.658386Z"
    },
    "trusted": true,
    "ExecuteTime": {
     "start_time": "2024-03-25T07:19:10.248700142Z"
    }
   },
   "outputs": [],
   "source": [
    "# total code wall time(cwt)\n",
    "cw1 = time.time() \n",
    "cwt = cw1 - cw0 \n",
    "print(\"Total code wall time / running time : \", cwt )"
   ]
  },
  {
   "cell_type": "markdown",
   "metadata": {},
   "source": [
    "# Code running time evalution "
   ]
  },
  {
   "cell_type": "code",
   "execution_count": null,
   "metadata": {
    "execution": {
     "iopub.execute_input": "2023-06-02T11:20:06.916348Z",
     "iopub.status.busy": "2023-06-02T11:20:06.916009Z",
     "iopub.status.idle": "2023-06-02T11:20:06.946871Z",
     "shell.execute_reply": "2023-06-02T11:20:06.945798Z",
     "shell.execute_reply.started": "2023-06-02T11:20:06.916318Z"
    },
    "trusted": true,
    "ExecuteTime": {
     "start_time": "2024-03-25T07:19:10.248730679Z"
    }
   },
   "outputs": [],
   "source": [
    "from tabulate import tabulate\n",
    "\n",
    "# Define the variables and their respective values\n",
    "variables = ['Data loading', 'data preprocessing', 'Stratification', 'Model training', 'tumour predction', 'tumour visualization', ' total code wall time']\n",
    "values = [dlt, dppt, skft, tt, pt, tvt, cwt]  # Assign the actual values to these variables\n",
    "\n",
    "# Create a list of lists containing the variables and values\n",
    "table_data = [[var, val] for var, val in zip(variables, values)]\n",
    "\n",
    "# Specify the table headers\n",
    "headers = ['Times', 'Value']\n",
    "\n",
    "# Generate the table using tabulate\n",
    "table = tabulate(table_data, headers, tablefmt='grid')\n",
    "\n",
    "# Print the table\n",
    "print(table)\n"
   ]
  },
  {
   "cell_type": "code",
   "execution_count": null,
   "metadata": {
    "execution": {
     "iopub.execute_input": "2023-06-02T11:20:07.047399Z",
     "iopub.status.busy": "2023-06-02T11:20:07.047079Z",
     "iopub.status.idle": "2023-06-02T11:20:07.371791Z",
     "shell.execute_reply": "2023-06-02T11:20:07.370862Z",
     "shell.execute_reply.started": "2023-06-02T11:20:07.047373Z"
    },
    "trusted": true,
    "ExecuteTime": {
     "start_time": "2024-03-25T07:19:10.248746652Z"
    }
   },
   "outputs": [],
   "source": [
    "import matplotlib.pyplot as plt\n",
    "\n",
    "# Define the variables and their respective values (running times)\n",
    "variables = ['Data loading', 'data preprocessing', 'Stratification', 'Model training', 'tumour predction', 'tumour visualization', ' total code wall time']\n",
    "values = [dlt, dppt, skft, tt, pt, tvt, cwt]  # Assign the actual running times to these variables\n",
    "\n",
    "# Create a bar chart\n",
    "plt.figure(figsize=(10, 6))  # Set the figure size\n",
    "plt.bar(variables, values)  # Plot the bar chart\n",
    "\n",
    "# Add labels and title\n",
    "plt.xlabel('Variables')  # X-axis label\n",
    "plt.ylabel('Running Time')  # Y-axis label\n",
    "plt.title('Running Times of Variables')  # Chart title\n",
    "\n",
    "# Display the bar chart\n",
    "plt.show()\n"
   ]
  },
  {
   "cell_type": "markdown",
   "metadata": {},
   "source": [
    "### 3D BINARY MASK GIF PROJECTION"
   ]
  },
  {
   "cell_type": "markdown",
   "metadata": {},
   "source": [
    "#### GROUND TRUTH"
   ]
  },
  {
   "cell_type": "code",
   "execution_count": null,
   "metadata": {
    "execution": {
     "iopub.execute_input": "2023-06-02T11:20:07.468034Z",
     "iopub.status.busy": "2023-06-02T11:20:07.465499Z",
     "iopub.status.idle": "2023-06-02T11:20:07.473814Z",
     "shell.execute_reply": "2023-06-02T11:20:07.472594Z",
     "shell.execute_reply.started": "2023-06-02T11:20:07.467999Z"
    },
    "trusted": true,
    "ExecuteTime": {
     "start_time": "2024-03-25T07:19:10.248757974Z"
    }
   },
   "outputs": [],
   "source": [
    "gt = gt.squeeze().cpu().detach().numpy()\n",
    "gt = np.moveaxis(gt, (0, 1, 2, 3), (0, 3, 2, 1))\n",
    "wt,tc, et = gt\n",
    "print(wt.shape, tc.shape, et.shape)\n",
    "gt = (wt + tc + et)\n",
    "gt = np.clip(gt, 0, 1)\n",
    "print(gt.shape)"
   ]
  },
  {
   "cell_type": "code",
   "execution_count": null,
   "metadata": {
    "execution": {
     "iopub.execute_input": "2023-06-02T11:20:07.586631Z",
     "iopub.status.busy": "2023-06-02T11:20:07.584315Z",
     "iopub.status.idle": "2023-06-02T11:20:07.592703Z",
     "shell.execute_reply": "2023-06-02T11:20:07.591701Z",
     "shell.execute_reply.started": "2023-06-02T11:20:07.586596Z"
    },
    "trusted": true,
    "ExecuteTime": {
     "start_time": "2024-03-25T07:19:10.248769333Z"
    }
   },
   "outputs": [],
   "source": [
    "%%time\n",
    "title = \"Ground Truth_\" + id_[0]\n",
    "filename1 = title + \"_3d.gif\"\n",
    "\n",
    "data_to_3dgif = Image3dToGIF3d(img_dim = (120, 120, 78), binary=True, normalizing=False)\n",
    "transformed_data = data_to_3dgif.get_transformed_data(gt)\n",
    "data_to_3dgif.plot_cube(\n",
    "    transformed_data,\n",
    "    title=title,\n",
    "    make_gif=True,\n",
    "    path_to_save=filename1\n",
    ")\n",
    "#show_gif(filename1, format='png')"
   ]
  },
  {
   "cell_type": "markdown",
   "metadata": {},
   "source": [
    "#### PREDICTION"
   ]
  },
  {
   "cell_type": "code",
   "execution_count": null,
   "metadata": {
    "execution": {
     "iopub.execute_input": "2023-06-02T11:21:18.135351Z",
     "iopub.status.busy": "2023-06-02T11:21:18.134616Z",
     "iopub.status.idle": "2023-06-02T11:21:18.139926Z",
     "shell.execute_reply": "2023-06-02T11:21:18.138844Z",
     "shell.execute_reply.started": "2023-06-02T11:21:18.135309Z"
    },
    "trusted": true,
    "ExecuteTime": {
     "start_time": "2024-03-25T07:19:10.248780250Z"
    }
   },
   "outputs": [],
   "source": [
    "prediction = prediction.squeeze().cpu().detach().numpy()\n",
    "prediction = np.moveaxis(prediction, (0, 1, 2, 3), (0, 3, 2, 1))\n",
    "wt,tc,et = prediction\n",
    "print(wt.shape, tc.shape, et.shape)\n",
    "prediction = (wt + tc + et)\n",
    "prediction = np.clip(prediction, 0, 1)\n",
    "print(prediction.shape)"
   ]
  },
  {
   "cell_type": "code",
   "execution_count": null,
   "metadata": {
    "execution": {
     "iopub.execute_input": "2023-06-02T11:21:18.306413Z",
     "iopub.status.busy": "2023-06-02T11:21:18.306120Z",
     "iopub.status.idle": "2023-06-02T11:21:18.311168Z",
     "shell.execute_reply": "2023-06-02T11:21:18.310230Z",
     "shell.execute_reply.started": "2023-06-02T11:21:18.306387Z"
    },
    "trusted": true,
    "ExecuteTime": {
     "start_time": "2024-03-25T07:19:10.248790825Z"
    }
   },
   "outputs": [],
   "source": [
    "%%time\n",
    "title = \"Prediction_\" + id_[0]\n",
    "filename2 = title + \"_3d.gif\"\n",
    "\n",
    "data_to_3dgif = Image3dToGIF3d(img_dim = (120, 120, 78), binary=True, normalizing=False)\n",
    "transformed_data = data_to_3dgif.get_transformed_data(prediction)\n",
    "data_to_3dgif.plot_cube(\n",
    "    transformed_data,\n",
    "    title=title,\n",
    "    make_gif=True,\n",
    "    path_to_save=filename2\n",
    ")\n",
    "#show_gif(filename2, format='png')#"
   ]
  },
  {
   "cell_type": "markdown",
   "metadata": {},
   "source": [
    "#### RESULT"
   ]
  },
  {
   "cell_type": "code",
   "execution_count": null,
   "metadata": {
    "execution": {
     "iopub.execute_input": "2023-06-02T11:21:18.837273Z",
     "iopub.status.busy": "2023-06-02T11:21:18.836916Z",
     "iopub.status.idle": "2023-06-02T11:21:18.841966Z",
     "shell.execute_reply": "2023-06-02T11:21:18.840771Z",
     "shell.execute_reply.started": "2023-06-02T11:21:18.837245Z"
    },
    "trusted": true,
    "ExecuteTime": {
     "start_time": "2024-03-25T07:19:10.248801693Z"
    }
   },
   "outputs": [],
   "source": [
    "merging_two_gif(filename1,\n",
    "                filename2, \n",
    "                'result.gif')\n",
    "show_gif('result.gif', format='png')"
   ]
  },
  {
   "cell_type": "code",
   "execution_count": null,
   "metadata": {
    "execution": {
     "iopub.execute_input": "2023-06-02T11:21:19.277413Z",
     "iopub.status.busy": "2023-06-02T11:21:19.276445Z",
     "iopub.status.idle": "2023-06-02T11:21:19.282603Z",
     "shell.execute_reply": "2023-06-02T11:21:19.281543Z",
     "shell.execute_reply.started": "2023-06-02T11:21:19.277381Z"
    },
    "trusted": true,
    "ExecuteTime": {
     "start_time": "2024-03-25T07:19:10.248812384Z"
    }
   },
   "outputs": [],
   "source": [
    "import shutil\n",
    "\n",
    "shutil.make_archive('/kaggle/working/output_files', 'zip', '/kaggle/working')\n"
   ]
  }
 ],
 "metadata": {
  "kernelspec": {
   "display_name": "Python 3",
   "language": "python",
   "name": "python3"
  },
  "language_info": {
   "codemirror_mode": {
    "name": "ipython",
    "version": 3
   },
   "file_extension": ".py",
   "mimetype": "text/x-python",
   "name": "python",
   "nbconvert_exporter": "python",
   "pygments_lexer": "ipython3",
   "version": "3.8.19"
  }
 },
 "nbformat": 4,
 "nbformat_minor": 4
}
