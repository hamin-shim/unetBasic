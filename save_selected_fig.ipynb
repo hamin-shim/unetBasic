{
 "cells": [
  {
   "cell_type": "code",
   "execution_count": 1,
   "metadata": {},
   "outputs": [
    {
     "data": {
      "text/plain": [
       "{'model_name': 'ch3_32_interval_3_240',\n",
       " 'depth / in_channel / n_channel': [52, 3, 32],\n",
       " 'img_size': 240,\n",
       " 'used_channel': ['-t1n.nii.gz', '-t1c.nii.gz', '-t2f.nii.gz'],\n",
       " 'val score(dice/jaccard)': [88, 81],\n",
       " 'batch/total epoch/best epoch': [1, 50, 33],\n",
       " 'resize_info': [0, 155, 3],\n",
       " 'run time(m)': 1360.0}"
      ]
     },
     "execution_count": 1,
     "metadata": {},
     "output_type": "execute_result"
    }
   ],
   "source": [
    "import torch\n",
    "import json\n",
    "import os\n",
    "from utils import get_dataloader\n",
    "from dataset import BratsDataset\n",
    "import numpy as np\n",
    "import matplotlib.pyplot as plt\n",
    "\n",
    "classes = ['WT', 'TC', 'ET']\n",
    "OUT_PATH = \"/home/jiwoo/바탕화면/final/brats\"\n",
    "\n",
    "def process_all(id, pred, model_sign, slide2show=85):\n",
    "    plt_save_path = f\"{OUT_PATH}/{id}/\"\n",
    "    os.makedirs(plt_save_path, exist_ok=True)\n",
    "    res = re_process(pred, slide2show)\n",
    "    plt.imsave(f\"{plt_save_path}/{model_sign}_{slide2show}_Pred_TOTAL.png\", res, cmap='copper')\n",
    "    for i, clas in enumerate(classes):\n",
    "        plt.imsave(f\"{plt_save_path}/{model_sign}_{slide2show}_Pred_{clas}.png\", pred[i][slide2show], cmap='gray')\n",
    "        # plt.imsave(f\"{plt_save_path}/{model_sign}_{slide2show}_GT_{clas}.png\", target[i][slide2show], cmap='gray')\n",
    "\n",
    "def re_process(pred, slide2show):\n",
    "    wt = pred[0][slide2show]\n",
    "    tc = pred[1][slide2show]\n",
    "    et = pred[2][slide2show]\n",
    "    ed = np.where((wt == 1) & (tc == 0), 2, 0)\n",
    "    ncr = np.where((tc == 1) & (et == 0), 1, 0)\n",
    "    et = np.where(et==1, 3, 0)\n",
    "    res = (ncr+ed+et)\n",
    "    res = np.where(res>4, 3, res)\n",
    "    return res\n",
    "\n",
    "device = torch.device(\"cuda\" if torch.cuda.is_available() else \"cpu\")\n",
    "with open('models/model_subscriptions.json', 'r') as f:\n",
    "    models_info = json.load(f)\n",
    "model_name = \"ch3_32_interval_3_240\"\n",
    "model_info = next((model for model in models_info if model['model_name'] == model_name), None)\n",
    "model_info"
   ]
  },
  {
   "cell_type": "code",
   "execution_count": 3,
   "metadata": {},
   "outputs": [
    {
     "data": {
      "text/plain": [
       "['BraTS-GLI-00715-001']"
      ]
     },
     "execution_count": 3,
     "metadata": {},
     "output_type": "execute_result"
    }
   ],
   "source": [
    "model = torch.load(os.path.join('models', model_name,\n",
    "                                    f\"{model_name}.pth\")).to(device)\n",
    "model.eval()\n",
    "test_dataloader =get_dataloader(dataset=BratsDataset, phase=\"test\", img_depth=64, img_width=240, \n",
    "                                data_type=model_info['used_channel'], batch_size=1)\n",
    "data_batch = next(iter(test_dataloader))\n",
    "batch_id, images, targets = data_batch['Id'], data_batch['image'], data_batch['mask']\n",
    "batch_id"
   ]
  },
  {
   "cell_type": "code",
   "execution_count": 4,
   "metadata": {},
   "outputs": [],
   "source": [
    "images = images.to(device)\n",
    "targets = targets.detach().numpy()\n",
    "logits = model(images)\n",
    "pred = torch.sigmoid(logits).detach().cpu().numpy()\n",
    "threshold = 0.33\n",
    "pred = (pred >= threshold).astype(int)"
   ]
  },
  {
   "cell_type": "code",
   "execution_count": 5,
   "metadata": {},
   "outputs": [
    {
     "data": {
      "text/plain": [
       "(1, 3, 155, 240, 240)"
      ]
     },
     "execution_count": 5,
     "metadata": {},
     "output_type": "execute_result"
    }
   ],
   "source": [
    "pred.shape"
   ]
  },
  {
   "cell_type": "code",
   "execution_count": 6,
   "metadata": {},
   "outputs": [],
   "source": [
    "slides = [113]\n",
    "for i in range(1):\n",
    "    process_all(batch_id[i], pred[i], 'u', slide2show=slides[i])"
   ]
  },
  {
   "cell_type": "code",
   "execution_count": null,
   "metadata": {},
   "outputs": [],
   "source": []
  }
 ],
 "metadata": {
  "kernelspec": {
   "display_name": "hamin",
   "language": "python",
   "name": "python3"
  },
  "language_info": {
   "codemirror_mode": {
    "name": "ipython",
    "version": 3
   },
   "file_extension": ".py",
   "mimetype": "text/x-python",
   "name": "python",
   "nbconvert_exporter": "python",
   "pygments_lexer": "ipython3",
   "version": "3.8.18"
  }
 },
 "nbformat": 4,
 "nbformat_minor": 2
}
