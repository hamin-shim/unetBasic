{
 "cells": [
  {
   "cell_type": "code",
   "execution_count": 1,
   "metadata": {
    "ExecuteTime": {
     "end_time": "2024-04-02T09:40:46.704178956Z",
     "start_time": "2024-04-02T09:40:44.554498487Z"
    }
   },
   "outputs": [
    {
     "name": "stdout",
     "output_type": "stream",
     "text": [
      "Device: cuda\n",
      "Current cuda device: 0\n",
      "Count of using GPUs: 2\n"
     ]
    },
    {
     "data": {
      "text/plain": [
       "DataParallel(\n",
       "  (module): UNet3d(\n",
       "    (conv): DoubleConv(\n",
       "      (double_conv): Sequential(\n",
       "        (0): Conv3d(3, 32, kernel_size=(3, 3, 3), stride=(1, 1, 1), padding=(1, 1, 1))\n",
       "        (1): GroupNorm(8, 32, eps=1e-05, affine=True)\n",
       "        (2): ReLU(inplace=True)\n",
       "        (3): Conv3d(32, 32, kernel_size=(3, 3, 3), stride=(1, 1, 1), padding=(1, 1, 1))\n",
       "        (4): GroupNorm(8, 32, eps=1e-05, affine=True)\n",
       "        (5): ReLU(inplace=True)\n",
       "      )\n",
       "    )\n",
       "    (enc1): Down(\n",
       "      (encoder): Sequential(\n",
       "        (0): MaxPool3d(kernel_size=(1, 2, 2), stride=(1, 2, 2), padding=0, dilation=1, ceil_mode=False)\n",
       "        (1): DoubleConv(\n",
       "          (double_conv): Sequential(\n",
       "            (0): Conv3d(32, 64, kernel_size=(3, 3, 3), stride=(1, 1, 1), padding=(1, 1, 1))\n",
       "            (1): GroupNorm(8, 64, eps=1e-05, affine=True)\n",
       "            (2): ReLU(inplace=True)\n",
       "            (3): Conv3d(64, 64, kernel_size=(3, 3, 3), stride=(1, 1, 1), padding=(1, 1, 1))\n",
       "            (4): GroupNorm(8, 64, eps=1e-05, affine=True)\n",
       "            (5): ReLU(inplace=True)\n",
       "          )\n",
       "        )\n",
       "      )\n",
       "    )\n",
       "    (enc2): Down(\n",
       "      (encoder): Sequential(\n",
       "        (0): MaxPool3d(kernel_size=(1, 2, 2), stride=(1, 2, 2), padding=0, dilation=1, ceil_mode=False)\n",
       "        (1): DoubleConv(\n",
       "          (double_conv): Sequential(\n",
       "            (0): Conv3d(64, 128, kernel_size=(3, 3, 3), stride=(1, 1, 1), padding=(1, 1, 1))\n",
       "            (1): GroupNorm(8, 128, eps=1e-05, affine=True)\n",
       "            (2): ReLU(inplace=True)\n",
       "            (3): Conv3d(128, 128, kernel_size=(3, 3, 3), stride=(1, 1, 1), padding=(1, 1, 1))\n",
       "            (4): GroupNorm(8, 128, eps=1e-05, affine=True)\n",
       "            (5): ReLU(inplace=True)\n",
       "          )\n",
       "        )\n",
       "      )\n",
       "    )\n",
       "    (enc3): Down(\n",
       "      (encoder): Sequential(\n",
       "        (0): MaxPool3d(kernel_size=(1, 2, 2), stride=(1, 2, 2), padding=0, dilation=1, ceil_mode=False)\n",
       "        (1): DoubleConv(\n",
       "          (double_conv): Sequential(\n",
       "            (0): Conv3d(128, 256, kernel_size=(3, 3, 3), stride=(1, 1, 1), padding=(1, 1, 1))\n",
       "            (1): GroupNorm(8, 256, eps=1e-05, affine=True)\n",
       "            (2): ReLU(inplace=True)\n",
       "            (3): Conv3d(256, 256, kernel_size=(3, 3, 3), stride=(1, 1, 1), padding=(1, 1, 1))\n",
       "            (4): GroupNorm(8, 256, eps=1e-05, affine=True)\n",
       "            (5): ReLU(inplace=True)\n",
       "          )\n",
       "        )\n",
       "      )\n",
       "    )\n",
       "    (enc4): Down(\n",
       "      (encoder): Sequential(\n",
       "        (0): MaxPool3d(kernel_size=(1, 2, 2), stride=(1, 2, 2), padding=0, dilation=1, ceil_mode=False)\n",
       "        (1): DoubleConv(\n",
       "          (double_conv): Sequential(\n",
       "            (0): Conv3d(256, 256, kernel_size=(3, 3, 3), stride=(1, 1, 1), padding=(1, 1, 1))\n",
       "            (1): GroupNorm(8, 256, eps=1e-05, affine=True)\n",
       "            (2): ReLU(inplace=True)\n",
       "            (3): Conv3d(256, 256, kernel_size=(3, 3, 3), stride=(1, 1, 1), padding=(1, 1, 1))\n",
       "            (4): GroupNorm(8, 256, eps=1e-05, affine=True)\n",
       "            (5): ReLU(inplace=True)\n",
       "          )\n",
       "        )\n",
       "      )\n",
       "    )\n",
       "    (dec1): Up(\n",
       "      (up): Upsample(scale_factor=(1.0, 2.0, 2.0), mode='trilinear')\n",
       "      (conv): DoubleConv(\n",
       "        (double_conv): Sequential(\n",
       "          (0): Conv3d(512, 128, kernel_size=(3, 3, 3), stride=(1, 1, 1), padding=(1, 1, 1))\n",
       "          (1): GroupNorm(8, 128, eps=1e-05, affine=True)\n",
       "          (2): ReLU(inplace=True)\n",
       "          (3): Conv3d(128, 128, kernel_size=(3, 3, 3), stride=(1, 1, 1), padding=(1, 1, 1))\n",
       "          (4): GroupNorm(8, 128, eps=1e-05, affine=True)\n",
       "          (5): ReLU(inplace=True)\n",
       "        )\n",
       "      )\n",
       "    )\n",
       "    (dec2): Up(\n",
       "      (up): Upsample(scale_factor=(1.0, 2.0, 2.0), mode='trilinear')\n",
       "      (conv): DoubleConv(\n",
       "        (double_conv): Sequential(\n",
       "          (0): Conv3d(256, 64, kernel_size=(3, 3, 3), stride=(1, 1, 1), padding=(1, 1, 1))\n",
       "          (1): GroupNorm(8, 64, eps=1e-05, affine=True)\n",
       "          (2): ReLU(inplace=True)\n",
       "          (3): Conv3d(64, 64, kernel_size=(3, 3, 3), stride=(1, 1, 1), padding=(1, 1, 1))\n",
       "          (4): GroupNorm(8, 64, eps=1e-05, affine=True)\n",
       "          (5): ReLU(inplace=True)\n",
       "        )\n",
       "      )\n",
       "    )\n",
       "    (dec3): Up(\n",
       "      (up): Upsample(scale_factor=(1.0, 2.0, 2.0), mode='trilinear')\n",
       "      (conv): DoubleConv(\n",
       "        (double_conv): Sequential(\n",
       "          (0): Conv3d(128, 32, kernel_size=(3, 3, 3), stride=(1, 1, 1), padding=(1, 1, 1))\n",
       "          (1): GroupNorm(8, 32, eps=1e-05, affine=True)\n",
       "          (2): ReLU(inplace=True)\n",
       "          (3): Conv3d(32, 32, kernel_size=(3, 3, 3), stride=(1, 1, 1), padding=(1, 1, 1))\n",
       "          (4): GroupNorm(8, 32, eps=1e-05, affine=True)\n",
       "          (5): ReLU(inplace=True)\n",
       "        )\n",
       "      )\n",
       "    )\n",
       "    (dec4): Up(\n",
       "      (up): Upsample(scale_factor=(1.0, 2.0, 2.0), mode='trilinear')\n",
       "      (conv): DoubleConv(\n",
       "        (double_conv): Sequential(\n",
       "          (0): Conv3d(64, 32, kernel_size=(3, 3, 3), stride=(1, 1, 1), padding=(1, 1, 1))\n",
       "          (1): GroupNorm(8, 32, eps=1e-05, affine=True)\n",
       "          (2): ReLU(inplace=True)\n",
       "          (3): Conv3d(32, 32, kernel_size=(3, 3, 3), stride=(1, 1, 1), padding=(1, 1, 1))\n",
       "          (4): GroupNorm(8, 32, eps=1e-05, affine=True)\n",
       "          (5): ReLU(inplace=True)\n",
       "        )\n",
       "      )\n",
       "    )\n",
       "    (out): Out(\n",
       "      (conv): Conv3d(32, 3, kernel_size=(1, 1, 1), stride=(1, 1, 1))\n",
       "    )\n",
       "  )\n",
       ")"
      ]
     },
     "execution_count": 1,
     "metadata": {},
     "output_type": "execute_result"
    }
   ],
   "source": [
    "import torch\n",
    "import torch.nn as nn\n",
    "import os\n",
    "# Arrange GPU devices starting from 0\n",
    "os.environ[\"CUDA_DEVICE_ORDER\"] = \"PCI_BUS_ID\"\n",
    "os.environ[\"CUDA_VISIBLE_DEVICES\"] = \"0,1\"  # Set the GPUs 2 and 3 to use\n",
    "device = torch.device(\"cuda\" if torch.cuda.is_available() else \"cpu\")\n",
    "\n",
    "print('Device:', device)\n",
    "print('Current cuda device:', torch.cuda.current_device())\n",
    "print('Count of using GPUs:', torch.cuda.device_count())\n",
    "\n",
    "model_name = 'ch3_32_interval_3_240'\n",
    "_model = torch.load(os.path.join('models', model_name, f\"{model_name}.pth\"))\n",
    "_model = _model.to(device)\n",
    "model = nn.DataParallel(_model).to(device)\n",
    "model.eval()"
   ]
  },
  {
   "cell_type": "code",
   "execution_count": 2,
   "metadata": {
    "ExecuteTime": {
     "end_time": "2024-04-02T09:37:38.454112356Z",
     "start_time": "2024-04-02T09:37:38.446486601Z"
    }
   },
   "outputs": [
    {
     "data": {
      "text/plain": [
       "{'model_name': 'ch3_32_interval_3_240',\n",
       " 'depth / in_channel / n_channel': [52, 3, 32],\n",
       " 'img_size': 240,\n",
       " 'used_channel': ['-t1n.nii.gz', '-t1c.nii.gz', '-t2f.nii.gz'],\n",
       " 'val score(dice/jaccard)': [88, 81],\n",
       " 'batch/total epoch/best epoch': [1, 50, 33],\n",
       " 'resize_info': [0, 155, 3],\n",
       " 'run time(m)': 1360.0}"
      ]
     },
     "execution_count": 2,
     "metadata": {},
     "output_type": "execute_result"
    }
   ],
   "source": [
    "import json\n",
    "with open('models/model_subscriptions.json','r') as f:\n",
    "    models_info = json.load(f)\n",
    "model_info = next((model for model in models_info if model['model_name'] == model_name), None)\n",
    "model_info"
   ]
  },
  {
   "cell_type": "code",
   "execution_count": 3,
   "metadata": {
    "ExecuteTime": {
     "end_time": "2024-04-02T09:37:39.354556606Z",
     "start_time": "2024-04-02T09:37:39.184575677Z"
    },
    "collapsed": false
   },
   "outputs": [],
   "source": [
    "from utils import get_dataloader\n",
    "from dataset import BratsDataset\n",
    "\n",
    "test_dataloader = get_dataloader(dataset=BratsDataset, phase=\"test\", resize_info=model_info['resize_info'], img_width=model_info['img_size'], data_type=model_info['used_channel'], batch_size=2)"
   ]
  },
  {
   "cell_type": "code",
   "execution_count": 4,
   "metadata": {
    "ExecuteTime": {
     "end_time": "2024-04-02T09:37:46.210735621Z",
     "start_time": "2024-04-02T09:37:40.459355995Z"
    }
   },
   "outputs": [
    {
     "name": "stderr",
     "output_type": "stream",
     "text": [
      "100%|██████████| 63/63 [00:38<00:00,  1.65it/s]\n"
     ]
    }
   ],
   "source": [
    "from skimage.transform import resize\n",
    "from tqdm import tqdm\n",
    "tp = 0\n",
    "fp = 0\n",
    "tn = 0\n",
    "fn = 0\n",
    "total_predictions = []\n",
    "counter = 0  # Counter to keep track of the number of entries processed\n",
    "\n",
    "with torch.no_grad():  # Disable gradient calculations to save memory\n",
    "    for data in tqdm(test_dataloader):\n",
    "        \n",
    "        images, targets = data['image'], data['mask']\n",
    "        images = images.to(device)\n",
    "        targets = targets.to(device)\n",
    "\n",
    "        logits = model(images)\n",
    "        probabilities = torch.sigmoid(logits)\n",
    "        predictions = (probabilities >= 0.33).float()\n",
    "        total_predictions.append(predictions)\n",
    "        # Compute binary segmentation metrics\n",
    "        tp += torch.sum((predictions == 1) & (targets == 1)).item()\n",
    "        fp += torch.sum((predictions == 1) & (targets == 0)).item()\n",
    "        tn += torch.sum((predictions == 0) & (targets == 0)).item()\n",
    "        fn += torch.sum((predictions == 0) & (targets == 1)).item()\n",
    "\n",
    "        counter += 1\n",
    "\n",
    "        # Free memory by clearing intermediate variables\n",
    "        del images, targets, logits, probabilities, predictions\n",
    "        torch.cuda.empty_cache()\n"
   ]
  },
  {
   "cell_type": "code",
   "execution_count": 5,
   "metadata": {
    "ExecuteTime": {
     "end_time": "2024-04-02T09:37:04.587491479Z",
     "start_time": "2024-04-02T09:37:04.586600791Z"
    }
   },
   "outputs": [
    {
     "name": "stdout",
     "output_type": "stream",
     "text": [
      "True positives : 5458016\n",
      "False positives : 513746\n",
      "True Negatives : 1116488992\n",
      "False Negatives : 739246\n"
     ]
    }
   ],
   "source": [
    "print(f\"True positives : {tp}\")\n",
    "print(f\"False positives : {fp}\")\n",
    "print(f\"True Negatives : {tn}\")\n",
    "print(f\"False Negatives : {fn}\")"
   ]
  },
  {
   "cell_type": "code",
   "execution_count": 6,
   "metadata": {
    "ExecuteTime": {
     "end_time": "2024-04-02T09:37:04.587845421Z",
     "start_time": "2024-04-02T09:37:04.587735442Z"
    }
   },
   "outputs": [
    {
     "data": {
      "image/png": "[encoded data removed]",
      "text/plain": [
       "<Figure size 640x480 with 2 Axes>"
      ]
     },
     "metadata": {},
     "output_type": "display_data"
    }
   ],
   "source": [
    "import matplotlib.pyplot as plt\n",
    "import numpy as np\n",
    "\n",
    "def plot_confusion_matrix(tp, fp, tn, fn):\n",
    "    # Create confusion matrix array\n",
    "    confusion_matrix = np.array([[tn, fp], [fn, tp]])\n",
    "\n",
    "    # Set up labels for matrix\n",
    "    labels = ['True ', 'False ']\n",
    "\n",
    "    # Create color map\n",
    "    cmap = plt.cm.Blues\n",
    "\n",
    "    # Plot confusion matrix\n",
    "    plt.imshow(confusion_matrix, interpolation='nearest', cmap=cmap)\n",
    "    plt.title('Confusion Matrix')\n",
    "    plt.colorbar()\n",
    "\n",
    "    # Add labels to matrix cells\n",
    "    thresh = confusion_matrix.max() / 2.\n",
    "    for i, j in np.ndindex(confusion_matrix.shape):\n",
    "        plt.text(j, i, format(confusion_matrix[i, j], 'd'), horizontalalignment='center', color='white' if confusion_matrix[i, j] > thresh else 'black')\n",
    "\n",
    "    # Set tick labels\n",
    "    tick_marks = np.arange(len(labels))\n",
    "    plt.xticks(tick_marks, labels, rotation=45)\n",
    "    plt.yticks(tick_marks, labels)\n",
    "\n",
    "    # Set axis labels\n",
    "    plt.xlabel('Predicted label')\n",
    "    plt.ylabel('True label')\n",
    "\n",
    "    # Show plot\n",
    "    plt.show()\n",
    "\n",
    "plot_confusion_matrix(tp, fp, tn, fn)\n"
   ]
  },
  {
   "cell_type": "code",
   "execution_count": 7,
   "metadata": {
    "ExecuteTime": {
     "end_time": "2024-04-02T09:37:04.589214226Z",
     "start_time": "2024-04-02T09:37:04.589103002Z"
    }
   },
   "outputs": [],
   "source": [
    "accuracy = (tp + tn) / (tp + tn + fp + fn)\n",
    "precision = tp / (tp + fp)\n",
    "recall = tp / (tp + fn)\n",
    "f1_score = 2 * (precision * recall) / (precision + recall)"
   ]
  },
  {
   "cell_type": "code",
   "execution_count": 8,
   "metadata": {
    "ExecuteTime": {
     "start_time": "2024-04-02T09:37:04.590461966Z"
    }
   },
   "outputs": [
    {
     "name": "stdout",
     "output_type": "stream",
     "text": [
      "Accuracy : 99.88844444444445\n",
      "Precision : 91.39707845021286\n",
      "Recall : 88.07140959991686\n",
      "F1 Score : 89.7034306120195\n"
     ]
    }
   ],
   "source": [
    "print(f\"Accuracy : {accuracy*100}\")\n",
    "print(f\"Precision : {precision*100}\")\n",
    "print(f\"Recall : {recall*100}\")\n",
    "print(f\"F1 Score : {f1_score*100}\")"
   ]
  },
  {
   "cell_type": "code",
   "execution_count": 9,
   "metadata": {
    "ExecuteTime": {
     "start_time": "2024-04-02T09:37:04.591783791Z"
    }
   },
   "outputs": [
    {
     "name": "stderr",
     "output_type": "stream",
     "text": [
      "100%|██████████| 63/63 [00:39<00:00,  1.61it/s]\n"
     ]
    }
   ],
   "source": [
    "import torch\n",
    "import gc \n",
    "import numpy as np\n",
    "from sklearn.metrics import confusion_matrix, classification_report\n",
    "from tqdm import tqdm\n",
    "gc.collect()\n",
    "\n",
    "device = torch.device('cuda' if torch.cuda.is_available() else 'cpu')\n",
    "\n",
    "predictions = []\n",
    "total_targets = []\n",
    "# Counter to keep track of the number of entries processed\n",
    "counter = 0  \n",
    "\n",
    "with torch.no_grad():\n",
    "    for data in tqdm(test_dataloader):\n",
    "        # if counter >= 15:\n",
    "        #     break  # Stop processing entries if the desired number is reached\n",
    "\n",
    "        images, targets = data['image'], data['mask']\n",
    "        images = images.to(device)\n",
    "        targets = targets.to(device)\n",
    "\n",
    "        logits = model(images)\n",
    "        probabilities = torch.sigmoid(logits)\n",
    "        prediction = (probabilities >= 0.33).float()\n",
    "\n",
    "        prediction =  prediction.cpu()\n",
    "        targets = targets.cpu()\n",
    "        total_targets.append(targets)\n",
    "        predictions.append(prediction)\n",
    "\n",
    "        model.zero_grad()\n",
    "        del images, targets, logits, probabilities, prediction\n",
    "        torch.cuda.empty_cache()\n",
    "\n",
    "        counter += 1"
   ]
  },
  {
   "cell_type": "code",
   "execution_count": 10,
   "metadata": {
    "ExecuteTime": {
     "start_time": "2024-04-02T09:37:04.593081325Z"
    }
   },
   "outputs": [
    {
     "data": {
      "text/plain": [
       "63"
      ]
     },
     "execution_count": 10,
     "metadata": {},
     "output_type": "execute_result"
    }
   ],
   "source": [
    "len(predictions)"
   ]
  },
  {
   "cell_type": "code",
   "execution_count": 11,
   "metadata": {
    "ExecuteTime": {
     "start_time": "2024-04-02T09:37:04.594044987Z"
    }
   },
   "outputs": [
    {
     "data": {
      "text/plain": [
       "((125, 3, 52, 240, 240), (125, 3, 52, 240, 240))"
      ]
     },
     "execution_count": 11,
     "metadata": {},
     "output_type": "execute_result"
    }
   ],
   "source": [
    "# Compute confusion matrix\n",
    "y_true = np.concatenate(total_targets)\n",
    "y_pred = np.concatenate(predictions)\n",
    "\n",
    "y_true.shape, y_pred.shape"
   ]
  },
  {
   "cell_type": "code",
   "execution_count": 12,
   "metadata": {
    "ExecuteTime": {
     "start_time": "2024-04-02T09:37:04.594819903Z"
    }
   },
   "outputs": [],
   "source": [
    "from utils import dice_coef_metric_per_classes, jaccard_coef_metric_per_classes\n",
    "def compute_scores_per_classes(model,          # nodel which is UNeT3D \n",
    "                               dataloader,     # tuple consisting of ( id , image tensor , mask tensor )\n",
    "                               classes):       # classes : WT , TC , ET \n",
    "    \"\"\"\n",
    "    Compute Dice and Jaccard coefficients for each class.\n",
    "    Params:\n",
    "        model: neural net for make predictions.\n",
    "        dataloader: dataset object to load data from.\n",
    "        classes: list with classes.\n",
    "        Returns: dictionaries with dice and jaccard coefficients for each class for each slice.\n",
    "    \"\"\"\n",
    "    device = 'cuda' if torch.cuda.is_available() else 'cpu'\n",
    "    dice_scores_per_classes = {key: list() for key in classes}\n",
    "    iou_scores_per_classes = {key: list() for key in classes}\n",
    "\n",
    "    with torch.no_grad():\n",
    "        for i, data in enumerate(dataloader):\n",
    "            imgs, targets = data['image'], data['mask']\n",
    "            imgs, targets = imgs.to(device), targets.to(device)\n",
    "            logits = model(imgs)\n",
    "            logits = logits.detach().cpu().numpy()\n",
    "            targets = targets.detach().cpu().numpy()\n",
    "            \n",
    "            # Now finding the overlap between the raw prediction i.e. logit & the mask i.e. target & finding the dice & iou scores \n",
    "            dice_scores = dice_coef_metric_per_classes(logits, targets)\n",
    "            iou_scores = jaccard_coef_metric_per_classes(logits, targets)\n",
    "\n",
    "            # storing both dice & iou scores in the list declared \n",
    "            for key in dice_scores.keys():\n",
    "                dice_scores_per_classes[key].extend(dice_scores[key])\n",
    "\n",
    "            for key in iou_scores.keys():\n",
    "                iou_scores_per_classes[key].extend(iou_scores[key])\n",
    "\n",
    "    return dice_scores_per_classes, iou_scores_per_classes "
   ]
  },
  {
   "cell_type": "code",
   "execution_count": 13,
   "metadata": {
    "ExecuteTime": {
     "start_time": "2024-04-02T09:37:04.616776678Z"
    }
   },
   "outputs": [],
   "source": [
    "dice_scores_per_classes, iou_scores_per_classes = compute_scores_per_classes(\n",
    "    model, test_dataloader, ['WT', 'TC', 'ET']\n",
    "    )"
   ]
  },
  {
   "cell_type": "code",
   "execution_count": 14,
   "metadata": {
    "ExecuteTime": {
     "start_time": "2024-04-02T09:37:04.616955442Z"
    }
   },
   "outputs": [
    {
     "data": {
      "text/html": [
       "<div>\n",
       "<style scoped>\n",
       "    .dataframe tbody tr th:only-of-type {\n",
       "        vertical-align: middle;\n",
       "    }\n",
       "\n",
       "    .dataframe tbody tr th {\n",
       "        vertical-align: top;\n",
       "    }\n",
       "\n",
       "    .dataframe thead th {\n",
       "        text-align: right;\n",
       "    }\n",
       "</style>\n",
       "<table border=\"1\" class=\"dataframe\">\n",
       "  <thead>\n",
       "    <tr style=\"text-align: right;\">\n",
       "      <th></th>\n",
       "      <th>WT dice</th>\n",
       "      <th>WT jaccard</th>\n",
       "      <th>TC dice</th>\n",
       "      <th>TC jaccard</th>\n",
       "      <th>ET dice</th>\n",
       "      <th>ET jaccard</th>\n",
       "    </tr>\n",
       "  </thead>\n",
       "  <tbody>\n",
       "    <tr>\n",
       "      <th>50</th>\n",
       "      <td>0.902487</td>\n",
       "      <td>0.822301</td>\n",
       "      <td>0.471757</td>\n",
       "      <td>0.308692</td>\n",
       "      <td>0.741067</td>\n",
       "      <td>0.588646</td>\n",
       "    </tr>\n",
       "    <tr>\n",
       "      <th>1</th>\n",
       "      <td>0.972105</td>\n",
       "      <td>0.945725</td>\n",
       "      <td>0.965154</td>\n",
       "      <td>0.932655</td>\n",
       "      <td>0.937371</td>\n",
       "      <td>0.882125</td>\n",
       "    </tr>\n",
       "    <tr>\n",
       "      <th>61</th>\n",
       "      <td>0.938689</td>\n",
       "      <td>0.884462</td>\n",
       "      <td>0.827312</td>\n",
       "      <td>0.705484</td>\n",
       "      <td>0.885262</td>\n",
       "      <td>0.794144</td>\n",
       "    </tr>\n",
       "    <tr>\n",
       "      <th>11</th>\n",
       "      <td>0.936803</td>\n",
       "      <td>0.881119</td>\n",
       "      <td>0.975281</td>\n",
       "      <td>0.951754</td>\n",
       "      <td>0.920201</td>\n",
       "      <td>0.852197</td>\n",
       "    </tr>\n",
       "    <tr>\n",
       "      <th>63</th>\n",
       "      <td>0.917244</td>\n",
       "      <td>0.847138</td>\n",
       "      <td>0.935918</td>\n",
       "      <td>0.879554</td>\n",
       "      <td>0.899931</td>\n",
       "      <td>0.818069</td>\n",
       "    </tr>\n",
       "  </tbody>\n",
       "</table>\n",
       "</div>"
      ],
      "text/plain": [
       "     WT dice  WT jaccard   TC dice  TC jaccard   ET dice  ET jaccard\n",
       "50  0.902487    0.822301  0.471757    0.308692  0.741067    0.588646\n",
       "1   0.972105    0.945725  0.965154    0.932655  0.937371    0.882125\n",
       "61  0.938689    0.884462  0.827312    0.705484  0.885262    0.794144\n",
       "11  0.936803    0.881119  0.975281    0.951754  0.920201    0.852197\n",
       "63  0.917244    0.847138  0.935918    0.879554  0.899931    0.818069"
      ]
     },
     "execution_count": 14,
     "metadata": {},
     "output_type": "execute_result"
    }
   ],
   "source": [
    "import pandas as pd\n",
    "dice_df = pd.DataFrame(dice_scores_per_classes)\n",
    "dice_df.columns = ['WT dice', 'TC dice', 'ET dice']\n",
    "\n",
    "iou_df = pd.DataFrame(iou_scores_per_classes)\n",
    "iou_df.columns = ['WT jaccard', 'TC jaccard', 'ET jaccard']\n",
    "# CONCAT BOTH THE COLUMNS ALONG AXIS 1 & SORT THE TWO \n",
    "val_metics_df = pd.concat([dice_df, iou_df], axis=1, sort=True)\n",
    "val_metics_df = val_metics_df.loc[:, ['WT dice', 'WT jaccard', \n",
    "                                      'TC dice', 'TC jaccard', \n",
    "                                      'ET dice', 'ET jaccard']]\n",
    "val_metics_df.sample(5)"
   ]
  },
  {
   "cell_type": "code",
   "execution_count": 15,
   "metadata": {
    "ExecuteTime": {
     "start_time": "2024-04-02T09:37:04.617042285Z"
    }
   },
   "outputs": [
    {
     "data": {
      "text/plain": [
       "[0.08102320928692186,\n",
       " 0.1186816837905717,\n",
       " 0.18392120628605543,\n",
       " 0.21168006647283982,\n",
       " 0.2514333835202592,\n",
       " 0.24650284766211553]"
      ]
     },
     "execution_count": 15,
     "metadata": {},
     "output_type": "execute_result"
    }
   ],
   "source": [
    "[i for i in val_metics_df.std()]"
   ]
  },
  {
   "cell_type": "code",
   "execution_count": 16,
   "metadata": {
    "ExecuteTime": {
     "start_time": "2024-04-02T09:37:04.617115862Z"
    }
   },
   "outputs": [
    {
     "data": {
      "text/plain": [
       "WT dice       0.900997\n",
       "WT jaccard    0.828460\n",
       "TC dice       0.836905\n",
       "TC jaccard    0.752103\n",
       "ET dice       0.768334\n",
       "ET jaccard    0.672939\n",
       "dtype: float64"
      ]
     },
     "execution_count": 16,
     "metadata": {},
     "output_type": "execute_result"
    }
   ],
   "source": [
    "val_metics_df.mean()"
   ]
  },
  {
   "cell_type": "code",
   "execution_count": 18,
   "metadata": {},
   "outputs": [],
   "source": [
    "val_metics_df.to_excel('./check.xlsx')"
   ]
  },
  {
   "cell_type": "code",
   "execution_count": 17,
   "metadata": {
    "ExecuteTime": {
     "start_time": "2024-04-02T09:37:04.617189181Z"
    }
   },
   "outputs": [
    {
     "name": "stderr",
     "output_type": "stream",
     "text": [
      "/tmp/ipykernel_71240/3477020508.py:7: FutureWarning: \n",
      "\n",
      "Passing `palette` without assigning `hue` is deprecated and will be removed in v0.14.0. Assign the `x` variable to `hue` and set `legend=False` for the same effect.\n",
      "\n",
      "  sns.barplot(x=val_metics_df.mean().index, y=val_metics_df.mean(), palette=palette, ax=ax)\n",
      "/tmp/ipykernel_71240/3477020508.py:8: UserWarning: FixedFormatter should only be used together with FixedLocator\n",
      "  ax.set_xticklabels(val_metics_df.columns, fontsize=14, rotation=15)\n"
     ]
    },
    {
     "data": {
      "image/png": "[encoded data removed]",
      "text/plain": [
       "<Figure size 1200x600 with 1 Axes>"
      ]
     },
     "metadata": {},
     "output_type": "display_data"
    }
   ],
   "source": [
    "import seaborn as sns\n",
    "\n",
    "colors = ['#264653', '#2a9d8f', '#8ab17d', '#e9c46a', '#f4a261', '#e76f51']\n",
    "palette = sns.color_palette(colors, 6)\n",
    "\n",
    "fig, ax = plt.subplots(figsize=(12, 6))\n",
    "sns.barplot(x=val_metics_df.mean().index, y=val_metics_df.mean(), palette=palette, ax=ax)\n",
    "ax.set_xticklabels(val_metics_df.columns, fontsize=14, rotation=15)\n",
    "ax.set_title(\"Dice and Jaccard Coefficients from Test\", fontsize=20)\n",
    "\n",
    "for idx, p in enumerate(ax.patches):\n",
    "        percentage = '{:.1f}%'.format(100 * val_metics_df.mean().values[idx])\n",
    "        x = p.get_x() + p.get_width() / 2 - 0.15\n",
    "        y = p.get_y() + p.get_height()\n",
    "        ax.annotate(percentage, (x, y), fontsize=15, fontweight=\"bold\")\n",
    "\n",
    "# fig.savefig(\"result1.png\", format=\"png\",  pad_inches=0.2, transparent=False, bbox_inches='tight')\n",
    "# fig.savefig(\"result1.svg\", format=\"svg\",  pad_inches=0.2, transparent=False, bbox_inches='tight')"
   ]
  },
  {
   "cell_type": "code",
   "execution_count": null,
   "metadata": {
    "ExecuteTime": {
     "start_time": "2024-04-02T09:37:04.617260310Z"
    }
   },
   "outputs": [],
   "source": []
  }
 ],
 "metadata": {
  "kernelspec": {
   "display_name": "hamin",
   "language": "python",
   "name": "python3"
  },
  "language_info": {
   "codemirror_mode": {
    "name": "ipython",
    "version": 3
   },
   "file_extension": ".py",
   "mimetype": "text/x-python",
   "name": "python",
   "nbconvert_exporter": "python",
   "pygments_lexer": "ipython3",
   "version": "3.8.18"
  }
 },
 "nbformat": 4,
 "nbformat_minor": 2
}
