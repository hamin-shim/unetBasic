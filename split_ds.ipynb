{
 "cells": [
  {
   "cell_type": "code",
   "execution_count": 26,
   "id": "initial_id",
   "metadata": {
    "collapsed": true,
    "ExecuteTime": {
     "end_time": "2024-03-18T08:20:01.658770Z",
     "start_time": "2024-03-18T08:20:01.644808Z"
    }
   },
   "outputs": [
    {
     "data": {
      "text/plain": "1251"
     },
     "execution_count": 26,
     "metadata": {},
     "output_type": "execute_result"
    }
   ],
   "source": [
    "import os\n",
    "import random\n",
    "brats_train_path = \"C:/Users/user/Downloads/ASNR-MICCAI-BraTS2023-GLI-Challenge-TrainingData/train/\"\n",
    "brats_val_path = \"C:/Users/user/Downloads/ASNR-MICCAI-BraTS2023-GLI-Challenge-TrainingData/val/\"\n",
    "brats_test_path = \"C:/Users/user/Downloads/ASNR-MICCAI-BraTS2023-GLI-Challenge-TrainingData/test/\"\n",
    "os.makedirs(brats_val_path, exist_ok=True)\n",
    "os.makedirs(brats_test_path, exist_ok=True)\n",
    "file_names = os.listdir(brats_train_path)\n",
    "sample_size = int(len(file_names) * 0.2)\n",
    "len(file_names)"
   ]
  },
  {
   "cell_type": "code",
   "outputs": [],
   "source": [
    "random_indices = random.sample(range(len(file_names)), sample_size)\n",
    "_half = len(random_indices) //2"
   ],
   "metadata": {
    "collapsed": false,
    "ExecuteTime": {
     "end_time": "2024-03-18T08:17:28.056379Z",
     "start_time": "2024-03-18T08:17:28.039424Z"
    }
   },
   "id": "b89bc3ebaefc179e",
   "execution_count": 24
  },
  {
   "cell_type": "code",
   "outputs": [
    {
     "name": "stderr",
     "output_type": "stream",
     "text": [
      "Splitting val: 100%|██████████| 125/125 [00:00<00:00, 1693.72it/s]\n",
      "Splitting test: 100%|██████████| 125/125 [00:00<00:00, 1693.72it/s]\n"
     ]
    }
   ],
   "source": [
    "import shutil\n",
    "from tqdm import tqdm\n",
    "for i in tqdm(random_indices[:_half], desc=\"Splitting val\"):\n",
    "    file_name = file_names[i]\n",
    "    shutil.move(f'{brats_train_path}/{file_name}', f'{brats_val_path}/{file_name}')\n",
    "\n",
    "for i in tqdm(random_indices[_half:], desc=\"Splitting test\"):\n",
    "    file_name = file_names[i]\n",
    "    shutil.move(f'{brats_train_path}/{file_name}', f'{brats_test_path}/{file_name}')"
   ],
   "metadata": {
    "collapsed": false,
    "ExecuteTime": {
     "end_time": "2024-03-18T08:21:37.974413Z",
     "start_time": "2024-03-18T08:21:37.807859Z"
    }
   },
   "id": "3dd35552b7a60d48",
   "execution_count": 31
  }
 ],
 "metadata": {
  "kernelspec": {
   "display_name": "Python 3",
   "language": "python",
   "name": "python3"
  },
  "language_info": {
   "codemirror_mode": {
    "name": "ipython",
    "version": 2
   },
   "file_extension": ".py",
   "mimetype": "text/x-python",
   "name": "python",
   "nbconvert_exporter": "python",
   "pygments_lexer": "ipython2",
   "version": "2.7.6"
  }
 },
 "nbformat": 4,
 "nbformat_minor": 5
}
