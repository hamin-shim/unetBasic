{
 "cells": [
  {
   "cell_type": "code",
   "execution_count": null,
   "id": "initial_id",
   "metadata": {
    "collapsed": true
   },
   "outputs": [],
   "source": [
    "import os\n",
    "import random\n",
    "brats_train_path = \"brats_data/train/\"\n",
    "brats_val_path = \"brats_data/val/\"\n",
    "brats_test_path = \"brats_data/test/\"\n",
    "os.makedirs(brats_val_path, exist_ok=True)\n",
    "os.makedirs(brats_test_path, exist_ok=True)\n",
    "file_names = os.listdir(brats_train_path)\n",
    "sample_size = int(len(file_names) * 0.2)\n",
    "len(file_names)"
   ]
  },
  {
   "cell_type": "code",
   "outputs": [],
   "source": [
    "random_indices = random.sample(range(len(file_names)), sample_size)\n",
    "_half = len(random_indices) //2"
   ],
   "metadata": {
    "collapsed": false
   },
   "id": "b89bc3ebaefc179e",
   "execution_count": null
  },
  {
   "cell_type": "code",
   "outputs": [],
   "source": [
    "import shutil\n",
    "from tqdm import tqdm\n",
    "for i in tqdm(random_indices[:_half], desc=\"Splitting val\"):\n",
    "    file_name = file_names[i]\n",
    "    shutil.move(f'{brats_train_path}/{file_name}', f'{brats_val_path}/{file_name}')\n",
    "\n",
    "for i in tqdm(random_indices[_half:], desc=\"Splitting test\"):\n",
    "    file_name = file_names[i]\n",
    "    shutil.move(f'{brats_train_path}/{file_name}', f'{brats_test_path}/{file_name}')"
   ],
   "metadata": {
    "collapsed": false
   },
   "id": "3dd35552b7a60d48",
   "execution_count": null
  },
  {
   "cell_type": "code",
   "execution_count": null,
   "outputs": [],
   "source": [
    "print('train:',len(os.listdir(brats_train_path)))\n",
    "print('val:',len(os.listdir(brats_val_path)))\n",
    "print('test:',len(os.listdir(brats_test_path)))"
   ],
   "metadata": {
    "collapsed": false
   },
   "id": "9ed50cab15e712b3"
  }
 ],
 "metadata": {
  "kernelspec": {
   "display_name": "Python 3",
   "language": "python",
   "name": "python3"
  },
  "language_info": {
   "codemirror_mode": {
    "name": "ipython",
    "version": 2
   },
   "file_extension": ".py",
   "mimetype": "text/x-python",
   "name": "python",
   "nbconvert_exporter": "python",
   "pygments_lexer": "ipython2",
   "version": "2.7.6"
  }
 },
 "nbformat": 4,
 "nbformat_minor": 5
}
