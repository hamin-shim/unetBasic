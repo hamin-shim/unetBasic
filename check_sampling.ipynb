{
 "cells": [
  {
   "cell_type": "code",
   "execution_count": 12,
   "metadata": {},
   "outputs": [
    {
     "name": "stdout",
     "output_type": "stream",
     "text": [
      "before preprocess (155, 240, 240)\n",
      "after preprocess (3, 155, 240, 240)\n"
     ]
    }
   ],
   "source": [
    "import nibabel as nib\n",
    "import os\n",
    "import numpy as np\n",
    "from utils import preprocess_mask_labels\n",
    "## load original data\n",
    "id_ = 'BraTS-GLI-01388-000'\n",
    "_whole_slices_mask = nib.load(os.path.join('brats_data', 'val', id_, id_+'-seg.nii.gz'))\n",
    "_whole_slices_mask = np.asarray(_whole_slices_mask.dataobj) #(240,240,155)\n",
    "_whole_slices_T_mask = _whole_slices_mask.transpose(2,0,1)\n",
    "whole_slices_mask = preprocess_mask_labels(_whole_slices_T_mask)\n",
    "print(\"after preprocess\", whole_slices_mask.shape)\n",
    "\n",
    "# _whole_slices = nib.load(os.path.join('brats_data', 'val', id_, id_+'-t1n.nii.gz'))\n",
    "# _whole_slices = np.asarray(_whole_slices.dataobj) #(240,240,155)\n",
    "# print(_whole_slices.shape)\n",
    "# whole_slices = _whole_slices.transpose(2,0,1)\n",
    "# print(whole_slices.shape)"
   ]
  },
  {
   "cell_type": "code",
   "execution_count": 10,
   "metadata": {},
   "outputs": [
    {
     "data": {
      "text/plain": [
       "((78, 240, 240), (78, 120, 120))"
      ]
     },
     "execution_count": 10,
     "metadata": {},
     "output_type": "execute_result"
    }
   ],
   "source": [
    "from skimage.transform import resize\n",
    "\n",
    "sliced_data = whole_slices_mask[np.arange(0,155,2)]\n",
    "resized_data = resize(sliced_data, (sliced_data.shape[0],sliced_data,120,120), preserve_range = True)\n",
    "sliced_data.shape, resized_data.shape"
   ]
  },
  {
   "cell_type": "code",
   "execution_count": null,
   "metadata": {},
   "outputs": [],
   "source": [
    "whole_slices_mask"
   ]
  }
 ],
 "metadata": {
  "kernelspec": {
   "display_name": "hamin",
   "language": "python",
   "name": "python3"
  },
  "language_info": {
   "codemirror_mode": {
    "name": "ipython",
    "version": 3
   },
   "file_extension": ".py",
   "mimetype": "text/x-python",
   "name": "python",
   "nbconvert_exporter": "python",
   "pygments_lexer": "ipython3",
   "version": "3.8.18"
  }
 },
 "nbformat": 4,
 "nbformat_minor": 2
}
