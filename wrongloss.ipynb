{
 "cells": [
  {
   "cell_type": "code",
   "execution_count": 1,
   "metadata": {},
   "outputs": [
    {
     "data": {
      "text/plain": [
       "DataParallel(\n",
       "  (module): UNETPP(\n",
       "    (up_op): Upsample(scale_factor=(1.0, 2.0, 2.0), mode='trilinear')\n",
       "    (stem): double_conv(\n",
       "      (dconv): Sequential(\n",
       "        (0): Conv3d(3, 16, kernel_size=(3, 3, 3), stride=(1, 1, 1), padding=(1, 1, 1))\n",
       "        (1): GroupNorm(1, 16, eps=1e-05, affine=True)\n",
       "        (2): ReLU(inplace=True)\n",
       "        (3): Conv3d(16, 16, kernel_size=(3, 3, 3), stride=(1, 1, 1), padding=(1, 1, 1))\n",
       "        (4): GroupNorm(1, 16, eps=1e-05, affine=True)\n",
       "        (5): ReLU(inplace=True)\n",
       "      )\n",
       "    )\n",
       "    (encoder): ModuleList(\n",
       "      (0): down_op(\n",
       "        (down): Sequential(\n",
       "          (0): MaxPool3d(kernel_size=3, stride=(1, 2, 2), padding=1, dilation=1, ceil_mode=False)\n",
       "          (1): double_conv(\n",
       "            (dconv): Sequential(\n",
       "              (0): Conv3d(16, 32, kernel_size=(3, 3, 3), stride=(1, 1, 1), padding=(1, 1, 1))\n",
       "              (1): GroupNorm(1, 32, eps=1e-05, affine=True)\n",
       "              (2): ReLU(inplace=True)\n",
       "              (3): Conv3d(32, 32, kernel_size=(3, 3, 3), stride=(1, 1, 1), padding=(1, 1, 1))\n",
       "              (4): GroupNorm(1, 32, eps=1e-05, affine=True)\n",
       "              (5): ReLU(inplace=True)\n",
       "            )\n",
       "          )\n",
       "        )\n",
       "      )\n",
       "      (1): down_op(\n",
       "        (down): Sequential(\n",
       "          (0): MaxPool3d(kernel_size=3, stride=(1, 2, 2), padding=1, dilation=1, ceil_mode=False)\n",
       "          (1): double_conv(\n",
       "            (dconv): Sequential(\n",
       "              (0): Conv3d(32, 64, kernel_size=(3, 3, 3), stride=(1, 1, 1), padding=(1, 1, 1))\n",
       "              (1): GroupNorm(1, 64, eps=1e-05, affine=True)\n",
       "              (2): ReLU(inplace=True)\n",
       "              (3): Conv3d(64, 64, kernel_size=(3, 3, 3), stride=(1, 1, 1), padding=(1, 1, 1))\n",
       "              (4): GroupNorm(1, 64, eps=1e-05, affine=True)\n",
       "              (5): ReLU(inplace=True)\n",
       "            )\n",
       "          )\n",
       "        )\n",
       "      )\n",
       "      (2): down_op(\n",
       "        (down): Sequential(\n",
       "          (0): MaxPool3d(kernel_size=3, stride=(1, 2, 2), padding=1, dilation=1, ceil_mode=False)\n",
       "          (1): double_conv(\n",
       "            (dconv): Sequential(\n",
       "              (0): Conv3d(64, 128, kernel_size=(3, 3, 3), stride=(1, 1, 1), padding=(1, 1, 1))\n",
       "              (1): GroupNorm(1, 128, eps=1e-05, affine=True)\n",
       "              (2): ReLU(inplace=True)\n",
       "              (3): Conv3d(128, 128, kernel_size=(3, 3, 3), stride=(1, 1, 1), padding=(1, 1, 1))\n",
       "              (4): GroupNorm(1, 128, eps=1e-05, affine=True)\n",
       "              (5): ReLU(inplace=True)\n",
       "            )\n",
       "          )\n",
       "        )\n",
       "      )\n",
       "      (3): down_op(\n",
       "        (down): Sequential(\n",
       "          (0): MaxPool3d(kernel_size=3, stride=(1, 2, 2), padding=1, dilation=1, ceil_mode=False)\n",
       "          (1): double_conv(\n",
       "            (dconv): Sequential(\n",
       "              (0): Conv3d(128, 256, kernel_size=(3, 3, 3), stride=(1, 1, 1), padding=(1, 1, 1))\n",
       "              (1): GroupNorm(1, 256, eps=1e-05, affine=True)\n",
       "              (2): ReLU(inplace=True)\n",
       "              (3): Conv3d(256, 256, kernel_size=(3, 3, 3), stride=(1, 1, 1), padding=(1, 1, 1))\n",
       "              (4): GroupNorm(1, 256, eps=1e-05, affine=True)\n",
       "              (5): ReLU(inplace=True)\n",
       "            )\n",
       "          )\n",
       "        )\n",
       "      )\n",
       "    )\n",
       "    (nest_conv0): ModuleList(\n",
       "      (0): double_conv(\n",
       "        (dconv): Sequential(\n",
       "          (0): Conv3d(48, 16, kernel_size=(3, 3, 3), stride=(1, 1, 1), padding=(1, 1, 1))\n",
       "          (1): GroupNorm(1, 16, eps=1e-05, affine=True)\n",
       "          (2): ReLU(inplace=True)\n",
       "          (3): Conv3d(16, 16, kernel_size=(3, 3, 3), stride=(1, 1, 1), padding=(1, 1, 1))\n",
       "          (4): GroupNorm(1, 16, eps=1e-05, affine=True)\n",
       "          (5): ReLU(inplace=True)\n",
       "        )\n",
       "      )\n",
       "      (1): double_conv(\n",
       "        (dconv): Sequential(\n",
       "          (0): Conv3d(64, 16, kernel_size=(3, 3, 3), stride=(1, 1, 1), padding=(1, 1, 1))\n",
       "          (1): GroupNorm(1, 16, eps=1e-05, affine=True)\n",
       "          (2): ReLU(inplace=True)\n",
       "          (3): Conv3d(16, 16, kernel_size=(3, 3, 3), stride=(1, 1, 1), padding=(1, 1, 1))\n",
       "          (4): GroupNorm(1, 16, eps=1e-05, affine=True)\n",
       "          (5): ReLU(inplace=True)\n",
       "        )\n",
       "      )\n",
       "      (2): double_conv(\n",
       "        (dconv): Sequential(\n",
       "          (0): Conv3d(80, 16, kernel_size=(3, 3, 3), stride=(1, 1, 1), padding=(1, 1, 1))\n",
       "          (1): GroupNorm(1, 16, eps=1e-05, affine=True)\n",
       "          (2): ReLU(inplace=True)\n",
       "          (3): Conv3d(16, 16, kernel_size=(3, 3, 3), stride=(1, 1, 1), padding=(1, 1, 1))\n",
       "          (4): GroupNorm(1, 16, eps=1e-05, affine=True)\n",
       "          (5): ReLU(inplace=True)\n",
       "        )\n",
       "      )\n",
       "      (3): double_conv(\n",
       "        (dconv): Sequential(\n",
       "          (0): Conv3d(96, 16, kernel_size=(3, 3, 3), stride=(1, 1, 1), padding=(1, 1, 1))\n",
       "          (1): GroupNorm(1, 16, eps=1e-05, affine=True)\n",
       "          (2): ReLU(inplace=True)\n",
       "          (3): Conv3d(16, 16, kernel_size=(3, 3, 3), stride=(1, 1, 1), padding=(1, 1, 1))\n",
       "          (4): GroupNorm(1, 16, eps=1e-05, affine=True)\n",
       "          (5): ReLU(inplace=True)\n",
       "        )\n",
       "      )\n",
       "    )\n",
       "    (nest_conv1): ModuleList(\n",
       "      (0): double_conv(\n",
       "        (dconv): Sequential(\n",
       "          (0): Conv3d(96, 32, kernel_size=(3, 3, 3), stride=(1, 1, 1), padding=(1, 1, 1))\n",
       "          (1): GroupNorm(1, 32, eps=1e-05, affine=True)\n",
       "          (2): ReLU(inplace=True)\n",
       "          (3): Conv3d(32, 32, kernel_size=(3, 3, 3), stride=(1, 1, 1), padding=(1, 1, 1))\n",
       "          (4): GroupNorm(1, 32, eps=1e-05, affine=True)\n",
       "          (5): ReLU(inplace=True)\n",
       "        )\n",
       "      )\n",
       "      (1): double_conv(\n",
       "        (dconv): Sequential(\n",
       "          (0): Conv3d(128, 32, kernel_size=(3, 3, 3), stride=(1, 1, 1), padding=(1, 1, 1))\n",
       "          (1): GroupNorm(1, 32, eps=1e-05, affine=True)\n",
       "          (2): ReLU(inplace=True)\n",
       "          (3): Conv3d(32, 32, kernel_size=(3, 3, 3), stride=(1, 1, 1), padding=(1, 1, 1))\n",
       "          (4): GroupNorm(1, 32, eps=1e-05, affine=True)\n",
       "          (5): ReLU(inplace=True)\n",
       "        )\n",
       "      )\n",
       "      (2): double_conv(\n",
       "        (dconv): Sequential(\n",
       "          (0): Conv3d(160, 32, kernel_size=(3, 3, 3), stride=(1, 1, 1), padding=(1, 1, 1))\n",
       "          (1): GroupNorm(1, 32, eps=1e-05, affine=True)\n",
       "          (2): ReLU(inplace=True)\n",
       "          (3): Conv3d(32, 32, kernel_size=(3, 3, 3), stride=(1, 1, 1), padding=(1, 1, 1))\n",
       "          (4): GroupNorm(1, 32, eps=1e-05, affine=True)\n",
       "          (5): ReLU(inplace=True)\n",
       "        )\n",
       "      )\n",
       "    )\n",
       "    (nest_conv2): ModuleList(\n",
       "      (0): double_conv(\n",
       "        (dconv): Sequential(\n",
       "          (0): Conv3d(192, 64, kernel_size=(3, 3, 3), stride=(1, 1, 1), padding=(1, 1, 1))\n",
       "          (1): GroupNorm(1, 64, eps=1e-05, affine=True)\n",
       "          (2): ReLU(inplace=True)\n",
       "          (3): Conv3d(64, 64, kernel_size=(3, 3, 3), stride=(1, 1, 1), padding=(1, 1, 1))\n",
       "          (4): GroupNorm(1, 64, eps=1e-05, affine=True)\n",
       "          (5): ReLU(inplace=True)\n",
       "        )\n",
       "      )\n",
       "      (1): double_conv(\n",
       "        (dconv): Sequential(\n",
       "          (0): Conv3d(256, 64, kernel_size=(3, 3, 3), stride=(1, 1, 1), padding=(1, 1, 1))\n",
       "          (1): GroupNorm(1, 64, eps=1e-05, affine=True)\n",
       "          (2): ReLU(inplace=True)\n",
       "          (3): Conv3d(64, 64, kernel_size=(3, 3, 3), stride=(1, 1, 1), padding=(1, 1, 1))\n",
       "          (4): GroupNorm(1, 64, eps=1e-05, affine=True)\n",
       "          (5): ReLU(inplace=True)\n",
       "        )\n",
       "      )\n",
       "    )\n",
       "    (nest_conv3): ModuleList(\n",
       "      (0): double_conv(\n",
       "        (dconv): Sequential(\n",
       "          (0): Conv3d(384, 128, kernel_size=(3, 3, 3), stride=(1, 1, 1), padding=(1, 1, 1))\n",
       "          (1): GroupNorm(1, 128, eps=1e-05, affine=True)\n",
       "          (2): ReLU(inplace=True)\n",
       "          (3): Conv3d(128, 128, kernel_size=(3, 3, 3), stride=(1, 1, 1), padding=(1, 1, 1))\n",
       "          (4): GroupNorm(1, 128, eps=1e-05, affine=True)\n",
       "          (5): ReLU(inplace=True)\n",
       "        )\n",
       "      )\n",
       "    )\n",
       "    (last): Conv3d(16, 3, kernel_size=(1, 1, 1), stride=(1, 1, 1))\n",
       "  )\n",
       ")"
      ]
     },
     "execution_count": 1,
     "metadata": {},
     "output_type": "execute_result"
    }
   ],
   "source": [
    "import torch\n",
    "import torch.nn as nn\n",
    "import os\n",
    "# Arrange GPU devices starting from 0\n",
    "os.environ[\"CUDA_DEVICE_ORDER\"] = \"PCI_BUS_ID\"\n",
    "os.environ[\"CUDA_VISIBLE_DEVICES\"] = \"1, 0\"  # Set the GPUs 2 and 3 to use\n",
    "device = torch.device(\"cuda\" if torch.cuda.is_available() else \"cpu\")\n",
    "\n",
    "model_name = 'ch3_32_interval_3_240'\n",
    "unet_model = torch.load(os.path.join('models', model_name,f\"{model_name}.pth\"))\n",
    "# model = _model.to(device)\n",
    "# model = nn.DataParallel(model).to(device)\n",
    "unet_model.eval()\n",
    "\n",
    "model_name = 'ppl_sm_d52_w128_b4_e50'\n",
    "pp_model = torch.load(os.path.join('models', model_name,f\"{model_name}.pth\"))\n",
    "pp_model.eval()"
   ]
  },
  {
   "cell_type": "code",
   "execution_count": 2,
   "metadata": {},
   "outputs": [],
   "source": [
    "from utils import get_dataloader\n",
    "from dataset import BratsDataset\n",
    "\n",
    "test_dataloader = get_dataloader(dataset=BratsDataset, phase=\"train\", img_depth=155, img_width=128, data_type=[\n",
    "      \"-t1n.nii.gz\",\n",
    "      \"-t1c.nii.gz\",\n",
    "      # \"-t2w.nii.gz\",\n",
    "      \"-t2f.nii.gz\"\n",
    "    ], batch_size=1)"
   ]
  },
  {
   "cell_type": "code",
   "execution_count": 3,
   "metadata": {},
   "outputs": [],
   "source": [
    "from utils import DiceLoss\n",
    "from torch.nn import BCEWithLogitsLoss\n",
    "\n",
    "dice_loss = DiceLoss()\n",
    "bce_loss = BCEWithLogitsLoss()"
   ]
  },
  {
   "cell_type": "code",
   "execution_count": 4,
   "metadata": {},
   "outputs": [
    {
     "name": "stdout",
     "output_type": "stream",
     "text": [
      "torch.Size([1, 3, 52, 128, 128]) torch.Size([1, 3, 52, 128, 128])\n",
      "tensor(0.3314, device='cuda:0') tensor(0.0245, device='cuda:0') tensor(0.3752, device='cuda:0') tensor(0.0131, device='cuda:0')\n"
     ]
    }
   ],
   "source": [
    "with torch.no_grad():\n",
    "    tb = next(iter(test_dataloader))\n",
    "    ids, imgs, targets = tb['Id'], tb['image'], tb['mask']\n",
    "    imgs = imgs.to(device)\n",
    "    targets = targets.to(device)\n",
    "    print(imgs.shape, targets.shape)\n",
    "    unet_logits = unet_model(imgs)\n",
    "    pp_logits = pp_model(imgs)\n",
    "    \n",
    "    unet_dice = dice_loss(unet_logits, targets)\n",
    "    unet_bce = bce_loss(unet_logits, targets)\n",
    "\n",
    "    pp_dice = dice_loss(pp_logits, targets)\n",
    "    pp_bce = bce_loss(pp_logits, targets)\n",
    "    print(unet_dice, unet_bce, pp_dice, pp_bce)"
   ]
  },
  {
   "cell_type": "code",
   "execution_count": 5,
   "metadata": {},
   "outputs": [
    {
     "data": {
      "text/plain": [
       "((3, 52, 128, 128), (3, 52, 128, 128))"
      ]
     },
     "execution_count": 5,
     "metadata": {},
     "output_type": "execute_result"
    }
   ],
   "source": [
    "img_cpu = imgs[0].detach().cpu().numpy()\n",
    "target_cpu = targets[0].detach().cpu().numpy()\n",
    "img_cpu.shape, target_cpu.shape"
   ]
  },
  {
   "cell_type": "code",
   "execution_count": 11,
   "metadata": {},
   "outputs": [
    {
     "data": {
      "text/plain": [
       "<matplotlib.image.AxesImage at 0x7f7fc856adf0>"
      ]
     },
     "execution_count": 11,
     "metadata": {},
     "output_type": "execute_result"
    },
    {
     "data": {
      "image/png": "[encoded data removed]",
      "text/plain": [
       "<Figure size 640x480 with 1 Axes>"
      ]
     },
     "metadata": {},
     "output_type": "display_data"
    }
   ],
   "source": [
    "import matplotlib.pyplot as plt\n",
    "plt.imshow(img_cpu[1][28], cmap='gray')\n",
    "plt.imshow(target_cpu[0][28], cmap='copper', alpha=0.5)\n",
    "plt.imshow(target_cpu[1][28], cmap='gist_rainbow', alpha=0.1)\n",
    "plt.imshow(target_cpu[2][28], cmap='gist_heat', alpha=0.3)"
   ]
  },
  {
   "cell_type": "code",
   "execution_count": 12,
   "metadata": {},
   "outputs": [
    {
     "data": {
      "text/plain": [
       "(array([0., 1.], dtype=float32), array([2547748,    8156]))"
      ]
     },
     "execution_count": 12,
     "metadata": {},
     "output_type": "execute_result"
    }
   ],
   "source": [
    "import numpy as np\n",
    "np.unique(target_cpu, return_counts=True)"
   ]
  },
  {
   "cell_type": "code",
   "execution_count": null,
   "metadata": {},
   "outputs": [],
   "source": []
  }
 ],
 "metadata": {
  "kernelspec": {
   "display_name": "hamin",
   "language": "python",
   "name": "python3"
  },
  "language_info": {
   "codemirror_mode": {
    "name": "ipython",
    "version": 3
   },
   "file_extension": ".py",
   "mimetype": "text/x-python",
   "name": "python",
   "nbconvert_exporter": "python",
   "pygments_lexer": "ipython3",
   "version": "3.8.18"
  }
 },
 "nbformat": 4,
 "nbformat_minor": 2
}
